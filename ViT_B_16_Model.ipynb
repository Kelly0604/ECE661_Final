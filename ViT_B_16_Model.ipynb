{
  "cells": [
    {
      "cell_type": "markdown",
      "metadata": {
        "id": "KEACJsqQw5AQ"
      },
      "source": [
        "## Import Packages"
      ]
    },
    {
      "cell_type": "code",
      "execution_count": 1,
      "metadata": {
        "colab": {
          "base_uri": "https://localhost:8080/"
        },
        "id": "MuUr4uSMkIYF",
        "outputId": "84bb5a23-50d3-47f3-f1ca-6ea509e6946b"
      },
      "outputs": [
        {
          "output_type": "stream",
          "name": "stdout",
          "text": [
            "Mounted at /content/drive\n"
          ]
        }
      ],
      "source": [
        "from google.colab import drive\n",
        "drive.mount('/content/drive')"
      ]
    },
    {
      "cell_type": "code",
      "execution_count": 2,
      "metadata": {
        "id": "XFsL-3awZjkP"
      },
      "outputs": [],
      "source": [
        "!cp \"/content/drive/MyDrive/DL Project/AttackWrappersWhiteBoxP.py\" .\n",
        "!cp \"/content/drive/MyDrive/DL Project/DataManagerPytorch.py\" .\n",
        "!cp \"/content/drive/MyDrive/DL Project/ResNetPytorch.py\" .\n",
        "from AttackWrappersWhiteBoxP import FGSMNativePytorch, MIMNativePytorch\n",
        "from ResNetPytorch import resnet56"
      ]
    },
    {
      "cell_type": "code",
      "execution_count": 3,
      "metadata": {
        "colab": {
          "base_uri": "https://localhost:8080/"
        },
        "id": "e3gv8gqneXSC",
        "outputId": "1fcfeed0-ee3f-47a7-da0a-2c55fe9b9981"
      },
      "outputs": [
        {
          "output_type": "stream",
          "name": "stdout",
          "text": [
            "Collecting torchattacks\n",
            "  Downloading torchattacks-3.5.1-py3-none-any.whl.metadata (927 bytes)\n",
            "Requirement already satisfied: torch>=1.7.1 in /usr/local/lib/python3.10/dist-packages (from torchattacks) (2.5.1+cu121)\n",
            "Requirement already satisfied: torchvision>=0.8.2 in /usr/local/lib/python3.10/dist-packages (from torchattacks) (0.20.1+cu121)\n",
            "Requirement already satisfied: scipy>=0.14.0 in /usr/local/lib/python3.10/dist-packages (from torchattacks) (1.13.1)\n",
            "Requirement already satisfied: tqdm>=4.56.1 in /usr/local/lib/python3.10/dist-packages (from torchattacks) (4.66.6)\n",
            "Collecting requests~=2.25.1 (from torchattacks)\n",
            "  Downloading requests-2.25.1-py2.py3-none-any.whl.metadata (4.2 kB)\n",
            "Requirement already satisfied: numpy>=1.19.4 in /usr/local/lib/python3.10/dist-packages (from torchattacks) (1.26.4)\n",
            "Collecting chardet<5,>=3.0.2 (from requests~=2.25.1->torchattacks)\n",
            "  Downloading chardet-4.0.0-py2.py3-none-any.whl.metadata (3.5 kB)\n",
            "Collecting idna<3,>=2.5 (from requests~=2.25.1->torchattacks)\n",
            "  Downloading idna-2.10-py2.py3-none-any.whl.metadata (9.1 kB)\n",
            "Collecting urllib3<1.27,>=1.21.1 (from requests~=2.25.1->torchattacks)\n",
            "  Downloading urllib3-1.26.20-py2.py3-none-any.whl.metadata (50 kB)\n",
            "\u001b[2K     \u001b[90m━━━━━━━━━━━━━━━━━━━━━━━━━━━━━━━━━━━━━━━━\u001b[0m \u001b[32m50.1/50.1 kB\u001b[0m \u001b[31m4.4 MB/s\u001b[0m eta \u001b[36m0:00:00\u001b[0m\n",
            "\u001b[?25hRequirement already satisfied: certifi>=2017.4.17 in /usr/local/lib/python3.10/dist-packages (from requests~=2.25.1->torchattacks) (2024.8.30)\n",
            "Requirement already satisfied: filelock in /usr/local/lib/python3.10/dist-packages (from torch>=1.7.1->torchattacks) (3.16.1)\n",
            "Requirement already satisfied: typing-extensions>=4.8.0 in /usr/local/lib/python3.10/dist-packages (from torch>=1.7.1->torchattacks) (4.12.2)\n",
            "Requirement already satisfied: networkx in /usr/local/lib/python3.10/dist-packages (from torch>=1.7.1->torchattacks) (3.4.2)\n",
            "Requirement already satisfied: jinja2 in /usr/local/lib/python3.10/dist-packages (from torch>=1.7.1->torchattacks) (3.1.4)\n",
            "Requirement already satisfied: fsspec in /usr/local/lib/python3.10/dist-packages (from torch>=1.7.1->torchattacks) (2024.10.0)\n",
            "Requirement already satisfied: sympy==1.13.1 in /usr/local/lib/python3.10/dist-packages (from torch>=1.7.1->torchattacks) (1.13.1)\n",
            "Requirement already satisfied: mpmath<1.4,>=1.1.0 in /usr/local/lib/python3.10/dist-packages (from sympy==1.13.1->torch>=1.7.1->torchattacks) (1.3.0)\n",
            "Requirement already satisfied: pillow!=8.3.*,>=5.3.0 in /usr/local/lib/python3.10/dist-packages (from torchvision>=0.8.2->torchattacks) (11.0.0)\n",
            "Requirement already satisfied: MarkupSafe>=2.0 in /usr/local/lib/python3.10/dist-packages (from jinja2->torch>=1.7.1->torchattacks) (3.0.2)\n",
            "Downloading torchattacks-3.5.1-py3-none-any.whl (142 kB)\n",
            "\u001b[2K   \u001b[90m━━━━━━━━━━━━━━━━━━━━━━━━━━━━━━━━━━━━━━━━\u001b[0m \u001b[32m142.0/142.0 kB\u001b[0m \u001b[31m14.3 MB/s\u001b[0m eta \u001b[36m0:00:00\u001b[0m\n",
            "\u001b[?25hDownloading requests-2.25.1-py2.py3-none-any.whl (61 kB)\n",
            "\u001b[2K   \u001b[90m━━━━━━━━━━━━━━━━━━━━━━━━━━━━━━━━━━━━━━━━\u001b[0m \u001b[32m61.2/61.2 kB\u001b[0m \u001b[31m6.2 MB/s\u001b[0m eta \u001b[36m0:00:00\u001b[0m\n",
            "\u001b[?25hDownloading chardet-4.0.0-py2.py3-none-any.whl (178 kB)\n",
            "\u001b[2K   \u001b[90m━━━━━━━━━━━━━━━━━━━━━━━━━━━━━━━━━━━━━━━━\u001b[0m \u001b[32m178.7/178.7 kB\u001b[0m \u001b[31m18.6 MB/s\u001b[0m eta \u001b[36m0:00:00\u001b[0m\n",
            "\u001b[?25hDownloading idna-2.10-py2.py3-none-any.whl (58 kB)\n",
            "\u001b[2K   \u001b[90m━━━━━━━━━━━━━━━━━━━━━━━━━━━━━━━━━━━━━━━━\u001b[0m \u001b[32m58.8/58.8 kB\u001b[0m \u001b[31m5.6 MB/s\u001b[0m eta \u001b[36m0:00:00\u001b[0m\n",
            "\u001b[?25hDownloading urllib3-1.26.20-py2.py3-none-any.whl (144 kB)\n",
            "\u001b[2K   \u001b[90m━━━━━━━━━━━━━━━━━━━━━━━━━━━━━━━━━━━━━━━━\u001b[0m \u001b[32m144.2/144.2 kB\u001b[0m \u001b[31m15.2 MB/s\u001b[0m eta \u001b[36m0:00:00\u001b[0m\n",
            "\u001b[?25hInstalling collected packages: urllib3, idna, chardet, requests, torchattacks\n",
            "  Attempting uninstall: urllib3\n",
            "    Found existing installation: urllib3 2.2.3\n",
            "    Uninstalling urllib3-2.2.3:\n",
            "      Successfully uninstalled urllib3-2.2.3\n",
            "  Attempting uninstall: idna\n",
            "    Found existing installation: idna 3.10\n",
            "    Uninstalling idna-3.10:\n",
            "      Successfully uninstalled idna-3.10\n",
            "  Attempting uninstall: chardet\n",
            "    Found existing installation: chardet 5.2.0\n",
            "    Uninstalling chardet-5.2.0:\n",
            "      Successfully uninstalled chardet-5.2.0\n",
            "  Attempting uninstall: requests\n",
            "    Found existing installation: requests 2.32.3\n",
            "    Uninstalling requests-2.32.3:\n",
            "      Successfully uninstalled requests-2.32.3\n",
            "\u001b[31mERROR: pip's dependency resolver does not currently take into account all the packages that are installed. This behaviour is the source of the following dependency conflicts.\n",
            "bigframes 1.27.0 requires requests>=2.27.1, but you have requests 2.25.1 which is incompatible.\n",
            "google-colab 1.0.0 requires requests==2.32.3, but you have requests 2.25.1 which is incompatible.\n",
            "sphinx 8.1.3 requires requests>=2.30.0, but you have requests 2.25.1 which is incompatible.\n",
            "tweepy 4.14.0 requires requests<3,>=2.27.0, but you have requests 2.25.1 which is incompatible.\n",
            "yfinance 0.2.50 requires requests>=2.31, but you have requests 2.25.1 which is incompatible.\u001b[0m\u001b[31m\n",
            "\u001b[0mSuccessfully installed chardet-4.0.0 idna-2.10 requests-2.25.1 torchattacks-3.5.1 urllib3-1.26.20\n"
          ]
        }
      ],
      "source": [
        "%pip install torchattacks"
      ]
    },
    {
      "cell_type": "code",
      "execution_count": 4,
      "metadata": {
        "id": "PrfTqmHsw0Fx"
      },
      "outputs": [],
      "source": [
        "import os\n",
        "import math\n",
        "import numpy as np\n",
        "import random\n",
        "import torch\n",
        "import torchattacks\n",
        "import torchvision\n",
        "import torch.nn as nn\n",
        "import torch.optim as optim\n",
        "import matplotlib.pyplot as plt\n",
        "\n",
        "from torchvision import datasets, transforms\n",
        "from torch.utils.data import DataLoader, TensorDataset, Subset\n",
        "from torchvision.transforms import Resize\n",
        "from torchattacks import APGD\n",
        "from timm import create_model\n",
        "from tqdm import tqdm"
      ]
    },
    {
      "cell_type": "markdown",
      "metadata": {
        "id": "ldWaFEaow9Md"
      },
      "source": [
        "## Device"
      ]
    },
    {
      "cell_type": "code",
      "execution_count": 5,
      "metadata": {
        "colab": {
          "base_uri": "https://localhost:8080/"
        },
        "id": "-kCO0eMXw-l3",
        "outputId": "4e9760ff-b1bd-438d-9894-b562cccdfbd0"
      },
      "outputs": [
        {
          "output_type": "stream",
          "name": "stdout",
          "text": [
            "cuda\n"
          ]
        }
      ],
      "source": [
        "# Device 설정 (GPU 사용 가능 시 GPU로 설정)\n",
        "device = torch.device('cuda' if torch.cuda.is_available() else 'cpu')\n",
        "print(device)"
      ]
    },
    {
      "cell_type": "markdown",
      "metadata": {
        "id": "nc4EHW-axDAo"
      },
      "source": [
        "## Transform"
      ]
    },
    {
      "cell_type": "code",
      "execution_count": 6,
      "metadata": {
        "id": "7E2ccAF7xDtn"
      },
      "outputs": [],
      "source": [
        "# Data preprocessing for training\n",
        "transform_train = transforms.Compose([\n",
        "    transforms.Resize((224, 224)),                  # Resize images to 224x224\n",
        "    transforms.RandomCrop(224, padding=4),          # Random crop with padding for augmentation\n",
        "    transforms.RandomHorizontalFlip(),              # Random horizontal flip\n",
        "    transforms.ToTensor(),                          # Convert to tensor\n",
        "    transforms.Normalize((0.5, 0.5, 0.5),           # Normalize to [-1, 1]\n",
        "                         (0.5, 0.5, 0.5)),\n",
        "])\n",
        "\n",
        "# Data preprocessing for testing\n",
        "transform_test = transforms.Compose([\n",
        "    transforms.Resize((224, 224)),                  # Resize images to 224x224\n",
        "    transforms.ToTensor(),                          # Convert to tensor\n",
        "    transforms.Normalize((0.5, 0.5, 0.5),           # Normalize to [-1, 1]\n",
        "                         (0.5, 0.5, 0.5)),\n",
        "])"
      ]
    },
    {
      "cell_type": "markdown",
      "metadata": {
        "id": "vdXyvzfqxE02"
      },
      "source": [
        "## Dataset"
      ]
    },
    {
      "cell_type": "code",
      "execution_count": 7,
      "metadata": {
        "colab": {
          "base_uri": "https://localhost:8080/"
        },
        "id": "slbeIK7YxGPf",
        "outputId": "dce8e24e-4afa-479c-a67f-aaea98d8d995"
      },
      "outputs": [
        {
          "output_type": "stream",
          "name": "stdout",
          "text": [
            "Downloading https://www.cs.toronto.edu/~kriz/cifar-10-python.tar.gz to ./data/cifar-10-python.tar.gz\n"
          ]
        },
        {
          "output_type": "stream",
          "name": "stderr",
          "text": [
            "100%|██████████| 170M/170M [00:29<00:00, 5.76MB/s]\n"
          ]
        },
        {
          "output_type": "stream",
          "name": "stdout",
          "text": [
            "Extracting ./data/cifar-10-python.tar.gz to ./data\n",
            "Files already downloaded and verified\n"
          ]
        }
      ],
      "source": [
        "train_dataset = datasets.CIFAR10(root='./data', train=True, transform=transform_train, download=True)\n",
        "test_dataset = datasets.CIFAR10(root='./data', train=False, transform=transform_test, download=True)"
      ]
    },
    {
      "cell_type": "code",
      "execution_count": 8,
      "metadata": {
        "id": "Bn6iproGv4WJ"
      },
      "outputs": [],
      "source": [
        "train_loader = DataLoader(train_dataset, batch_size=64, shuffle=True, num_workers=2)\n",
        "test_loader = DataLoader(test_dataset, batch_size=64, shuffle=False, num_workers=2)"
      ]
    },
    {
      "cell_type": "markdown",
      "metadata": {
        "id": "5TTyVQerxPo9"
      },
      "source": [
        "## Model"
      ]
    },
    {
      "cell_type": "markdown",
      "metadata": {
        "id": "6XzteCJgxQhq"
      },
      "source": [
        "### ViT Model"
      ]
    },
    {
      "cell_type": "code",
      "execution_count": 9,
      "metadata": {
        "id": "Ixnte2VCxSaq"
      },
      "outputs": [],
      "source": [
        "# ViT 모델 생성\n",
        "def create_vit_model(model_name, num_classes=10):\n",
        "    model = create_model(model_name, pretrained=True)  # 사전 학습된 가중치 로드\n",
        "    model.head = nn.Linear(model.head.in_features, num_classes)  # CIFAR-10 분류 계층 수정\n",
        "    return model.to(device)"
      ]
    },
    {
      "cell_type": "code",
      "execution_count": null,
      "metadata": {
        "colab": {
          "base_uri": "https://localhost:8080/",
          "height": 176,
          "referenced_widgets": [
            "97786e942ce54f8284636170744fcb05",
            "fe818d7b815c4c92ae997ec55bb191c2",
            "152a89fa5d5d4c9884386961ac21a713",
            "53884a265dee4bfd8a2a8bc76be6b9b6",
            "9b4ba6b0951f467b9ea4a5a5ae8da6e4",
            "fbf81d617eed46c784ee520df3fcc5f9",
            "408503ad97e14f10b0f1d151a72b0455",
            "032a008aecaf4376a678715313c3ef80",
            "545e66f07c88404f9b4af1de930562f4",
            "24f69de7250f48ae86332718f6096238",
            "dd049fdaf8214b8987637a47f9f8f320"
          ]
        },
        "id": "g0VV9Aizxat4",
        "outputId": "f601651f-9c81-4595-dc20-810ee0a9888a"
      },
      "outputs": [
        {
          "output_type": "stream",
          "name": "stderr",
          "text": [
            "/usr/local/lib/python3.10/dist-packages/huggingface_hub/utils/_auth.py:94: UserWarning: \n",
            "The secret `HF_TOKEN` does not exist in your Colab secrets.\n",
            "To authenticate with the Hugging Face Hub, create a token in your settings tab (https://huggingface.co/settings/tokens), set it as secret in your Google Colab and restart your session.\n",
            "You will be able to reuse this secret in all of your notebooks.\n",
            "Please note that authentication is recommended but still optional to access public models or datasets.\n",
            "  warnings.warn(\n"
          ]
        },
        {
          "output_type": "display_data",
          "data": {
            "text/plain": [
              "model.safetensors:   0%|          | 0.00/353M [00:00<?, ?B/s]"
            ],
            "application/vnd.jupyter.widget-view+json": {
              "version_major": 2,
              "version_minor": 0,
              "model_id": "97786e942ce54f8284636170744fcb05"
            }
          },
          "metadata": {}
        }
      ],
      "source": [
        "# Create ViT-B-32 model\n",
        "model_vit_b32 = create_vit_model('vit_base_patch32_224', num_classes=10)"
      ]
    },
    {
      "cell_type": "code",
      "execution_count": null,
      "metadata": {
        "id": "v8DtC6gexiXu"
      },
      "outputs": [],
      "source": [
        "# 손실 함수와 옵티마이저\n",
        "criterion = nn.CrossEntropyLoss()\n",
        "optimizer_b32 = optim.Adam(model_vit_b32.parameters(), lr=0.001)"
      ]
    },
    {
      "cell_type": "markdown",
      "metadata": {
        "id": "bXG0XWjvxp1N"
      },
      "source": [
        "## Train the model"
      ]
    },
    {
      "cell_type": "markdown",
      "metadata": {
        "id": "A-9XICMdx1sY"
      },
      "source": [
        "### Train Function"
      ]
    },
    {
      "cell_type": "code",
      "execution_count": null,
      "metadata": {
        "id": "JbciRgE_xrjy"
      },
      "outputs": [],
      "source": [
        "# Training function with training and validation metrics\n",
        "def train_model(model, optimizer, train_loader, val_loader, num_epochs=10):\n",
        "    model.to(device)\n",
        "    criterion.to(device)\n",
        "\n",
        "    for epoch in range(num_epochs):\n",
        "        # Training Phase\n",
        "        model.train()\n",
        "        train_running_loss = 0.0\n",
        "        train_correct = 0\n",
        "        train_total = 0\n",
        "\n",
        "        print(f\"Epoch {epoch+1}/{num_epochs}: Training\")\n",
        "        train_progress = tqdm(enumerate(train_loader), total=len(train_loader), desc=f\"Epoch {epoch+1} [Train]\")\n",
        "        for batch_idx, (images, labels) in train_progress:\n",
        "            images, labels = images.to(device), labels.to(device)\n",
        "\n",
        "            # Zero the parameter gradients\n",
        "            optimizer.zero_grad()\n",
        "\n",
        "            # Forward pass\n",
        "            outputs = model(images)\n",
        "            loss = criterion(outputs, labels)\n",
        "\n",
        "            # Backward pass and optimize\n",
        "            loss.backward()\n",
        "            optimizer.step()\n",
        "\n",
        "            # Statistics\n",
        "            train_running_loss += loss.item()\n",
        "            _, predicted = outputs.max(1)\n",
        "            train_total += labels.size(0)\n",
        "            train_correct += predicted.eq(labels).sum().item()\n",
        "\n",
        "            # Update progress bar\n",
        "            train_progress.set_postfix(loss=loss.item())\n",
        "\n",
        "        # Calculate training metrics\n",
        "        train_loss = train_running_loss / len(train_loader)\n",
        "        train_accuracy = 100. * train_correct / train_total\n",
        "\n",
        "        # Validation Phase\n",
        "        model.eval()\n",
        "        val_running_loss = 0.0\n",
        "        val_correct = 0\n",
        "        val_total = 0\n",
        "\n",
        "        print(f\"Epoch {epoch+1}/{num_epochs}: Validation\")\n",
        "        with torch.no_grad():\n",
        "            val_progress = tqdm(enumerate(test_loader), total=len(test_loader), desc=f\"Epoch {epoch+1} [Val]\")\n",
        "            for batch_idx, (images, labels) in val_progress:\n",
        "                images, labels = images.to(device), labels.to(device)\n",
        "\n",
        "                # Forward pass\n",
        "                outputs = model(images)\n",
        "                loss = criterion(outputs, labels)\n",
        "\n",
        "                # Statistics\n",
        "                val_running_loss += loss.item()\n",
        "                _, predicted = outputs.max(1)\n",
        "                val_total += labels.size(0)\n",
        "                val_correct += predicted.eq(labels).sum().item()\n",
        "\n",
        "                # Update progress bar\n",
        "                val_progress.set_postfix(loss=loss.item())\n",
        "\n",
        "        # Calculate validation metrics\n",
        "        val_loss = val_running_loss / len(test_loader)\n",
        "        val_accuracy = 100. * val_correct / val_total\n",
        "\n",
        "        # Print epoch summary\n",
        "        print(f\"Epoch {epoch+1}/{num_epochs} Summary:\")\n",
        "        print(f\"  Train Loss: {train_loss:.4f}, Train Accuracy: {train_accuracy:.2f}%\")\n",
        "        print(f\"  Val Loss: {val_loss:.4f}, Val Accuracy: {val_accuracy:.2f}%\")\n",
        "        print(\"-\" * 50)"
      ]
    },
    {
      "cell_type": "markdown",
      "metadata": {
        "id": "1CpsOdOVx-jz"
      },
      "source": [
        "### Train ViT-B-32 Model"
      ]
    },
    {
      "cell_type": "code",
      "execution_count": null,
      "metadata": {
        "id": "WoGD64IIv7Bf"
      },
      "outputs": [],
      "source": [
        "model_vit_b32 = model_vit_b32.to(device)"
      ]
    },
    {
      "cell_type": "code",
      "execution_count": null,
      "metadata": {
        "colab": {
          "base_uri": "https://localhost:8080/"
        },
        "id": "uQKNy52qxuFY",
        "outputId": "1fd0f47c-a795-4c52-e784-2850157727ec"
      },
      "outputs": [
        {
          "name": "stdout",
          "output_type": "stream",
          "text": [
            "Training ViT-B-32...\n",
            "Epoch 1/20: Training\n"
          ]
        },
        {
          "name": "stderr",
          "output_type": "stream",
          "text": [
            "Epoch 1 [Train]: 100%|██████████| 782/782 [01:45<00:00,  7.38it/s, loss=1.17]"
          ]
        },
        {
          "name": "stdout",
          "output_type": "stream",
          "text": [
            "Epoch 1/20: Validation\n"
          ]
        },
        {
          "name": "stderr",
          "output_type": "stream",
          "text": [
            "\n",
            "Epoch 1 [Val]: 100%|██████████| 157/157 [00:09<00:00, 16.24it/s, loss=1.26]"
          ]
        },
        {
          "name": "stdout",
          "output_type": "stream",
          "text": [
            "Epoch 1/20 Summary:\n",
            "  Train Loss: 1.6486, Train Accuracy: 40.34%\n",
            "  Val Loss: 1.4082, Val Accuracy: 49.24%\n",
            "--------------------------------------------------\n",
            "Epoch 2/20: Training\n"
          ]
        },
        {
          "name": "stderr",
          "output_type": "stream",
          "text": [
            "\n",
            "Epoch 2 [Train]: 100%|██████████| 782/782 [01:46<00:00,  7.37it/s, loss=1.23]"
          ]
        },
        {
          "name": "stdout",
          "output_type": "stream",
          "text": [
            "Epoch 2/20: Validation\n"
          ]
        },
        {
          "name": "stderr",
          "output_type": "stream",
          "text": [
            "\n",
            "Epoch 2 [Val]: 100%|██████████| 157/157 [00:09<00:00, 16.29it/s, loss=0.898]"
          ]
        },
        {
          "name": "stdout",
          "output_type": "stream",
          "text": [
            "Epoch 2/20 Summary:\n",
            "  Train Loss: 1.2051, Train Accuracy: 56.06%\n",
            "  Val Loss: 1.0949, Val Accuracy: 60.48%\n",
            "--------------------------------------------------\n",
            "Epoch 3/20: Training\n"
          ]
        },
        {
          "name": "stderr",
          "output_type": "stream",
          "text": [
            "\n",
            "Epoch 3 [Train]: 100%|██████████| 782/782 [01:46<00:00,  7.37it/s, loss=1.13]"
          ]
        },
        {
          "name": "stdout",
          "output_type": "stream",
          "text": [
            "Epoch 3/20: Validation\n"
          ]
        },
        {
          "name": "stderr",
          "output_type": "stream",
          "text": [
            "\n",
            "Epoch 3 [Val]: 100%|██████████| 157/157 [00:09<00:00, 16.17it/s, loss=0.903]"
          ]
        },
        {
          "name": "stdout",
          "output_type": "stream",
          "text": [
            "Epoch 3/20 Summary:\n",
            "  Train Loss: 1.0692, Train Accuracy: 61.70%\n",
            "  Val Loss: 0.9975, Val Accuracy: 64.56%\n",
            "--------------------------------------------------\n",
            "Epoch 4/20: Training\n"
          ]
        },
        {
          "name": "stderr",
          "output_type": "stream",
          "text": [
            "\n",
            "Epoch 4 [Train]: 100%|██████████| 782/782 [01:46<00:00,  7.37it/s, loss=1.32]"
          ]
        },
        {
          "name": "stdout",
          "output_type": "stream",
          "text": [
            "Epoch 4/20: Validation\n"
          ]
        },
        {
          "name": "stderr",
          "output_type": "stream",
          "text": [
            "\n",
            "Epoch 4 [Val]: 100%|██████████| 157/157 [00:09<00:00, 16.09it/s, loss=0.621]"
          ]
        },
        {
          "name": "stdout",
          "output_type": "stream",
          "text": [
            "Epoch 4/20 Summary:\n",
            "  Train Loss: 0.9603, Train Accuracy: 65.67%\n",
            "  Val Loss: 0.9306, Val Accuracy: 66.69%\n",
            "--------------------------------------------------\n",
            "Epoch 5/20: Training\n"
          ]
        },
        {
          "name": "stderr",
          "output_type": "stream",
          "text": [
            "\n",
            "Epoch 5 [Train]: 100%|██████████| 782/782 [01:46<00:00,  7.36it/s, loss=0.624]"
          ]
        },
        {
          "name": "stdout",
          "output_type": "stream",
          "text": [
            "Epoch 5/20: Validation\n"
          ]
        },
        {
          "name": "stderr",
          "output_type": "stream",
          "text": [
            "\n",
            "Epoch 5 [Val]: 100%|██████████| 157/157 [00:09<00:00, 16.20it/s, loss=0.752]"
          ]
        },
        {
          "name": "stdout",
          "output_type": "stream",
          "text": [
            "Epoch 5/20 Summary:\n",
            "  Train Loss: 0.8651, Train Accuracy: 69.23%\n",
            "  Val Loss: 0.9208, Val Accuracy: 67.48%\n",
            "--------------------------------------------------\n",
            "Epoch 6/20: Training\n"
          ]
        },
        {
          "name": "stderr",
          "output_type": "stream",
          "text": [
            "\n",
            "Epoch 6 [Train]: 100%|██████████| 782/782 [01:46<00:00,  7.36it/s, loss=0.904]"
          ]
        },
        {
          "name": "stdout",
          "output_type": "stream",
          "text": [
            "Epoch 6/20: Validation\n"
          ]
        },
        {
          "name": "stderr",
          "output_type": "stream",
          "text": [
            "\n",
            "Epoch 6 [Val]: 100%|██████████| 157/157 [00:09<00:00, 16.17it/s, loss=0.689]"
          ]
        },
        {
          "name": "stdout",
          "output_type": "stream",
          "text": [
            "Epoch 6/20 Summary:\n",
            "  Train Loss: 0.7951, Train Accuracy: 71.64%\n",
            "  Val Loss: 0.9102, Val Accuracy: 68.14%\n",
            "--------------------------------------------------\n",
            "Epoch 7/20: Training\n"
          ]
        },
        {
          "name": "stderr",
          "output_type": "stream",
          "text": [
            "\n",
            "Epoch 7 [Train]: 100%|██████████| 782/782 [01:46<00:00,  7.36it/s, loss=0.341]"
          ]
        },
        {
          "name": "stdout",
          "output_type": "stream",
          "text": [
            "Epoch 7/20: Validation\n"
          ]
        },
        {
          "name": "stderr",
          "output_type": "stream",
          "text": [
            "\n",
            "Epoch 7 [Val]: 100%|██████████| 157/157 [00:09<00:00, 16.25it/s, loss=0.496]"
          ]
        },
        {
          "name": "stdout",
          "output_type": "stream",
          "text": [
            "Epoch 7/20 Summary:\n",
            "  Train Loss: 0.7245, Train Accuracy: 74.31%\n",
            "  Val Loss: 0.7950, Val Accuracy: 71.92%\n",
            "--------------------------------------------------\n",
            "Epoch 8/20: Training\n"
          ]
        },
        {
          "name": "stderr",
          "output_type": "stream",
          "text": [
            "\n",
            "Epoch 8 [Train]: 100%|██████████| 782/782 [01:46<00:00,  7.35it/s, loss=1.13]"
          ]
        },
        {
          "name": "stdout",
          "output_type": "stream",
          "text": [
            "Epoch 8/20: Validation\n"
          ]
        },
        {
          "name": "stderr",
          "output_type": "stream",
          "text": [
            "\n",
            "Epoch 8 [Val]: 100%|██████████| 157/157 [00:09<00:00, 16.13it/s, loss=0.612]"
          ]
        },
        {
          "name": "stdout",
          "output_type": "stream",
          "text": [
            "Epoch 8/20 Summary:\n",
            "  Train Loss: 0.6702, Train Accuracy: 76.46%\n",
            "  Val Loss: 0.7280, Val Accuracy: 74.21%\n",
            "--------------------------------------------------\n",
            "Epoch 9/20: Training\n"
          ]
        },
        {
          "name": "stderr",
          "output_type": "stream",
          "text": [
            "\n",
            "Epoch 9 [Train]: 100%|██████████| 782/782 [01:46<00:00,  7.35it/s, loss=1.24]"
          ]
        },
        {
          "name": "stdout",
          "output_type": "stream",
          "text": [
            "Epoch 9/20: Validation\n"
          ]
        },
        {
          "name": "stderr",
          "output_type": "stream",
          "text": [
            "\n",
            "Epoch 9 [Val]: 100%|██████████| 157/157 [00:09<00:00, 16.09it/s, loss=0.591]"
          ]
        },
        {
          "name": "stdout",
          "output_type": "stream",
          "text": [
            "Epoch 9/20 Summary:\n",
            "  Train Loss: 0.6130, Train Accuracy: 78.24%\n",
            "  Val Loss: 0.7266, Val Accuracy: 74.31%\n",
            "--------------------------------------------------\n",
            "Epoch 10/20: Training\n"
          ]
        },
        {
          "name": "stderr",
          "output_type": "stream",
          "text": [
            "\n",
            "Epoch 10 [Train]: 100%|██████████| 782/782 [01:46<00:00,  7.34it/s, loss=0.37]"
          ]
        },
        {
          "name": "stdout",
          "output_type": "stream",
          "text": [
            "Epoch 10/20: Validation\n"
          ]
        },
        {
          "name": "stderr",
          "output_type": "stream",
          "text": [
            "\n",
            "Epoch 10 [Val]: 100%|██████████| 157/157 [00:09<00:00, 16.14it/s, loss=0.539]"
          ]
        },
        {
          "name": "stdout",
          "output_type": "stream",
          "text": [
            "Epoch 10/20 Summary:\n",
            "  Train Loss: 0.5652, Train Accuracy: 80.10%\n",
            "  Val Loss: 0.6413, Val Accuracy: 77.85%\n",
            "--------------------------------------------------\n",
            "Epoch 11/20: Training\n"
          ]
        },
        {
          "name": "stderr",
          "output_type": "stream",
          "text": [
            "\n",
            "Epoch 11 [Train]: 100%|██████████| 782/782 [01:46<00:00,  7.34it/s, loss=0.36]"
          ]
        },
        {
          "name": "stdout",
          "output_type": "stream",
          "text": [
            "Epoch 11/20: Validation\n"
          ]
        },
        {
          "name": "stderr",
          "output_type": "stream",
          "text": [
            "\n",
            "Epoch 11 [Val]: 100%|██████████| 157/157 [00:09<00:00, 16.12it/s, loss=0.945]"
          ]
        },
        {
          "name": "stdout",
          "output_type": "stream",
          "text": [
            "Epoch 11/20 Summary:\n",
            "  Train Loss: 0.5233, Train Accuracy: 81.45%\n",
            "  Val Loss: 0.6728, Val Accuracy: 76.67%\n",
            "--------------------------------------------------\n",
            "Epoch 12/20: Training\n"
          ]
        },
        {
          "name": "stderr",
          "output_type": "stream",
          "text": [
            "\n",
            "Epoch 12 [Train]: 100%|██████████| 782/782 [01:46<00:00,  7.35it/s, loss=0.836]"
          ]
        },
        {
          "name": "stdout",
          "output_type": "stream",
          "text": [
            "Epoch 12/20: Validation\n"
          ]
        },
        {
          "name": "stderr",
          "output_type": "stream",
          "text": [
            "\n",
            "Epoch 12 [Val]: 100%|██████████| 157/157 [00:09<00:00, 16.13it/s, loss=0.419]"
          ]
        },
        {
          "name": "stdout",
          "output_type": "stream",
          "text": [
            "Epoch 12/20 Summary:\n",
            "  Train Loss: 0.4909, Train Accuracy: 82.64%\n",
            "  Val Loss: 0.6528, Val Accuracy: 78.04%\n",
            "--------------------------------------------------\n",
            "Epoch 13/20: Training\n"
          ]
        },
        {
          "name": "stderr",
          "output_type": "stream",
          "text": [
            "\n",
            "Epoch 13 [Train]: 100%|██████████| 782/782 [01:46<00:00,  7.35it/s, loss=0.24]"
          ]
        },
        {
          "name": "stdout",
          "output_type": "stream",
          "text": [
            "Epoch 13/20: Validation\n"
          ]
        },
        {
          "name": "stderr",
          "output_type": "stream",
          "text": [
            "\n",
            "Epoch 13 [Val]: 100%|██████████| 157/157 [00:09<00:00, 16.13it/s, loss=0.377]"
          ]
        },
        {
          "name": "stdout",
          "output_type": "stream",
          "text": [
            "Epoch 13/20 Summary:\n",
            "  Train Loss: 0.4462, Train Accuracy: 84.34%\n",
            "  Val Loss: 0.5960, Val Accuracy: 79.41%\n",
            "--------------------------------------------------\n",
            "Epoch 14/20: Training\n"
          ]
        },
        {
          "name": "stderr",
          "output_type": "stream",
          "text": [
            "\n",
            "Epoch 14 [Train]: 100%|██████████| 782/782 [01:46<00:00,  7.34it/s, loss=0.497]"
          ]
        },
        {
          "name": "stdout",
          "output_type": "stream",
          "text": [
            "Epoch 14/20: Validation\n"
          ]
        },
        {
          "name": "stderr",
          "output_type": "stream",
          "text": [
            "\n",
            "Epoch 14 [Val]: 100%|██████████| 157/157 [00:09<00:00, 16.19it/s, loss=0.48]"
          ]
        },
        {
          "name": "stdout",
          "output_type": "stream",
          "text": [
            "Epoch 14/20 Summary:\n",
            "  Train Loss: 0.4104, Train Accuracy: 85.65%\n",
            "  Val Loss: 0.6288, Val Accuracy: 78.98%\n",
            "--------------------------------------------------\n",
            "Epoch 15/20: Training\n"
          ]
        },
        {
          "name": "stderr",
          "output_type": "stream",
          "text": [
            "\n",
            "Epoch 15 [Train]: 100%|██████████| 782/782 [01:46<00:00,  7.35it/s, loss=0.478]"
          ]
        },
        {
          "name": "stdout",
          "output_type": "stream",
          "text": [
            "Epoch 15/20: Validation\n"
          ]
        },
        {
          "name": "stderr",
          "output_type": "stream",
          "text": [
            "\n",
            "Epoch 15 [Val]: 100%|██████████| 157/157 [00:09<00:00, 16.02it/s, loss=0.584]"
          ]
        },
        {
          "name": "stdout",
          "output_type": "stream",
          "text": [
            "Epoch 15/20 Summary:\n",
            "  Train Loss: 0.3779, Train Accuracy: 86.59%\n",
            "  Val Loss: 0.6670, Val Accuracy: 78.21%\n",
            "--------------------------------------------------\n",
            "Epoch 16/20: Training\n"
          ]
        },
        {
          "name": "stderr",
          "output_type": "stream",
          "text": [
            "\n",
            "Epoch 16 [Train]: 100%|██████████| 782/782 [01:46<00:00,  7.34it/s, loss=0.27]"
          ]
        },
        {
          "name": "stdout",
          "output_type": "stream",
          "text": [
            "Epoch 16/20: Validation\n"
          ]
        },
        {
          "name": "stderr",
          "output_type": "stream",
          "text": [
            "\n",
            "Epoch 16 [Val]: 100%|██████████| 157/157 [00:09<00:00, 16.11it/s, loss=0.459]"
          ]
        },
        {
          "name": "stdout",
          "output_type": "stream",
          "text": [
            "Epoch 16/20 Summary:\n",
            "  Train Loss: 0.3436, Train Accuracy: 87.70%\n",
            "  Val Loss: 0.6262, Val Accuracy: 79.76%\n",
            "--------------------------------------------------\n",
            "Epoch 17/20: Training\n"
          ]
        },
        {
          "name": "stderr",
          "output_type": "stream",
          "text": [
            "\n",
            "Epoch 17 [Train]: 100%|██████████| 782/782 [01:46<00:00,  7.35it/s, loss=0.4]"
          ]
        },
        {
          "name": "stdout",
          "output_type": "stream",
          "text": [
            "Epoch 17/20: Validation\n"
          ]
        },
        {
          "name": "stderr",
          "output_type": "stream",
          "text": [
            "\n",
            "Epoch 17 [Val]: 100%|██████████| 157/157 [00:09<00:00, 16.03it/s, loss=0.445]"
          ]
        },
        {
          "name": "stdout",
          "output_type": "stream",
          "text": [
            "Epoch 17/20 Summary:\n",
            "  Train Loss: 0.3194, Train Accuracy: 88.75%\n",
            "  Val Loss: 0.6088, Val Accuracy: 80.80%\n",
            "--------------------------------------------------\n",
            "Epoch 18/20: Training\n"
          ]
        },
        {
          "name": "stderr",
          "output_type": "stream",
          "text": [
            "\n",
            "Epoch 18 [Train]: 100%|██████████| 782/782 [01:46<00:00,  7.34it/s, loss=0.122]"
          ]
        },
        {
          "name": "stdout",
          "output_type": "stream",
          "text": [
            "Epoch 18/20: Validation\n"
          ]
        },
        {
          "name": "stderr",
          "output_type": "stream",
          "text": [
            "\n",
            "Epoch 18 [Val]: 100%|██████████| 157/157 [00:09<00:00, 16.17it/s, loss=0.29]"
          ]
        },
        {
          "name": "stdout",
          "output_type": "stream",
          "text": [
            "Epoch 18/20 Summary:\n",
            "  Train Loss: 0.2910, Train Accuracy: 89.63%\n",
            "  Val Loss: 0.6522, Val Accuracy: 79.93%\n",
            "--------------------------------------------------\n",
            "Epoch 19/20: Training\n"
          ]
        },
        {
          "name": "stderr",
          "output_type": "stream",
          "text": [
            "\n",
            "Epoch 19 [Train]: 100%|██████████| 782/782 [01:46<00:00,  7.34it/s, loss=0.198]"
          ]
        },
        {
          "name": "stdout",
          "output_type": "stream",
          "text": [
            "Epoch 19/20: Validation\n"
          ]
        },
        {
          "name": "stderr",
          "output_type": "stream",
          "text": [
            "\n",
            "Epoch 19 [Val]: 100%|██████████| 157/157 [00:09<00:00, 16.18it/s, loss=0.722]"
          ]
        },
        {
          "name": "stdout",
          "output_type": "stream",
          "text": [
            "Epoch 19/20 Summary:\n",
            "  Train Loss: 0.2676, Train Accuracy: 90.55%\n",
            "  Val Loss: 0.6675, Val Accuracy: 79.70%\n",
            "--------------------------------------------------\n",
            "Epoch 20/20: Training\n"
          ]
        },
        {
          "name": "stderr",
          "output_type": "stream",
          "text": [
            "\n",
            "Epoch 20 [Train]: 100%|██████████| 782/782 [01:46<00:00,  7.33it/s, loss=0.0219]"
          ]
        },
        {
          "name": "stdout",
          "output_type": "stream",
          "text": [
            "Epoch 20/20: Validation\n"
          ]
        },
        {
          "name": "stderr",
          "output_type": "stream",
          "text": [
            "\n",
            "Epoch 20 [Val]: 100%|██████████| 157/157 [00:09<00:00, 16.17it/s, loss=0.361]"
          ]
        },
        {
          "name": "stdout",
          "output_type": "stream",
          "text": [
            "Epoch 20/20 Summary:\n",
            "  Train Loss: 0.2441, Train Accuracy: 91.15%\n",
            "  Val Loss: 0.6241, Val Accuracy: 81.18%\n",
            "--------------------------------------------------\n"
          ]
        },
        {
          "name": "stderr",
          "output_type": "stream",
          "text": [
            "\n"
          ]
        }
      ],
      "source": [
        "# ViT-B-16 모델 학습\n",
        "print(\"Training ViT-B-32...\")\n",
        "train_model(model_vit_b32, optimizer_b32, train_loader, test_loader, num_epochs=20)"
      ]
    },
    {
      "cell_type": "markdown",
      "metadata": {
        "id": "_J5nW0N8CdkA"
      },
      "source": [
        "### Evaluate the model"
      ]
    },
    {
      "cell_type": "code",
      "execution_count": null,
      "metadata": {
        "id": "ZNfdNIIcChHb"
      },
      "outputs": [],
      "source": [
        "def evaluate_model(model, data_loader, criterion, device):\n",
        "    model.eval()  # Set model to evaluation mode\n",
        "    running_loss = 0.0\n",
        "    correct = 0\n",
        "    total = 0\n",
        "\n",
        "    with torch.no_grad():  # Disable gradient computation\n",
        "        for images, labels in data_loader:\n",
        "            images, labels = images.to(device), labels.to(device)\n",
        "\n",
        "            # Forward pass\n",
        "            outputs = model(images)\n",
        "            loss = criterion(outputs, labels)\n",
        "\n",
        "            # Statistics\n",
        "            running_loss += loss.item()\n",
        "            _, predicted = outputs.max(1)  # Get class with highest score\n",
        "            total += labels.size(0)\n",
        "            correct += predicted.eq(labels).sum().item()\n",
        "\n",
        "    # Calculate overall metrics\n",
        "    average_loss = running_loss / len(data_loader)\n",
        "    accuracy = 100. * correct / total\n",
        "    return average_loss, accuracy"
      ]
    },
    {
      "cell_type": "code",
      "execution_count": null,
      "metadata": {
        "colab": {
          "base_uri": "https://localhost:8080/"
        },
        "id": "x6sSN2hM0AsW",
        "outputId": "3458a496-5e6e-4648-e25d-a804a3d0b77c"
      },
      "outputs": [
        {
          "output_type": "stream",
          "name": "stdout",
          "text": [
            "Evaluating ViT-B-32...\n",
            "Test Loss: 0.6241, Test Accuracy: 81.18%\n"
          ]
        }
      ],
      "source": [
        "# ViT-B-32 모델 평가\n",
        "# Evaluate ViT-B-32 model\n",
        "print(\"Evaluating ViT-B-32...\")\n",
        "test_loss, test_accuracy = evaluate_model(model_vit_b32, test_loader, criterion, device)\n",
        "print(f\"Test Loss: {test_loss:.4f}, Test Accuracy: {test_accuracy:.2f}%\")"
      ]
    },
    {
      "cell_type": "code",
      "execution_count": null,
      "metadata": {
        "colab": {
          "base_uri": "https://localhost:8080/"
        },
        "id": "fxddvSkw4KgF",
        "outputId": "d5debf5e-718c-4812-8089-db4bfac6bb0f"
      },
      "outputs": [
        {
          "name": "stdout",
          "output_type": "stream",
          "text": [
            "Saved files: ['Baseline Model.ipynb', 'vit_b32_cifar10.pth', 'vit_b16_cifar10.pth', 'ViT-B Model.ipynb']\n"
          ]
        }
      ],
      "source": [
        "# 저장 경로 설정\n",
        "save_dir = '/content/drive/MyDrive/DL Project/'\n",
        "\n",
        "# 모델 저장\n",
        "torch.save(model_vit_b32.state_dict(), os.path.join(save_dir, 'vit_b32_cifar10.pth'))\n",
        "\n",
        "# 저장된 파일 확인\n",
        "saved_files = os.listdir(save_dir)\n",
        "print(\"Saved files:\", saved_files)"
      ]
    },
    {
      "cell_type": "markdown",
      "metadata": {
        "id": "NQ8eMzL1gr2X"
      },
      "source": [
        "### Load the model"
      ]
    },
    {
      "cell_type": "markdown",
      "metadata": {
        "id": "G3GAkK_OlO2o"
      },
      "source": [
        "#### CUDA"
      ]
    },
    {
      "cell_type": "code",
      "execution_count": 10,
      "metadata": {
        "colab": {
          "base_uri": "https://localhost:8080/",
          "height": 212,
          "referenced_widgets": [
            "68dbc9c563d14d7fa58777e4a3ece32d",
            "813ae01021d24eb6b996e0b7a7bacbda",
            "bb9e8c34cb924c169b1a860d52a5ac32",
            "cbd12b9b782e4c4bbd66e934ad1a08b6",
            "582ab8d5c3b04d219993c9175d1ed912",
            "618f24ff68924ae7b82fc2383e57872e",
            "5594bfa3282749488f3bb0df6f94dc54",
            "6f225139d0ac463bb604f36a0a18f8b2",
            "f117ba830d2c4615807962398a550597",
            "9ee3447e69f142e1aed2b7cef6b9acec",
            "6430243f4afd4e6dbbf8d36c244a7095"
          ]
        },
        "id": "OI0IeGOBToEv",
        "outputId": "2471d1d2-552d-43ab-93c2-97192567d481"
      },
      "outputs": [
        {
          "output_type": "stream",
          "name": "stderr",
          "text": [
            "/usr/local/lib/python3.10/dist-packages/huggingface_hub/utils/_auth.py:94: UserWarning: \n",
            "The secret `HF_TOKEN` does not exist in your Colab secrets.\n",
            "To authenticate with the Hugging Face Hub, create a token in your settings tab (https://huggingface.co/settings/tokens), set it as secret in your Google Colab and restart your session.\n",
            "You will be able to reuse this secret in all of your notebooks.\n",
            "Please note that authentication is recommended but still optional to access public models or datasets.\n",
            "  warnings.warn(\n"
          ]
        },
        {
          "output_type": "display_data",
          "data": {
            "text/plain": [
              "model.safetensors:   0%|          | 0.00/353M [00:00<?, ?B/s]"
            ],
            "application/vnd.jupyter.widget-view+json": {
              "version_major": 2,
              "version_minor": 0,
              "model_id": "68dbc9c563d14d7fa58777e4a3ece32d"
            }
          },
          "metadata": {}
        },
        {
          "output_type": "stream",
          "name": "stderr",
          "text": [
            "<ipython-input-10-1c82c1469d14>:8: FutureWarning: You are using `torch.load` with `weights_only=False` (the current default value), which uses the default pickle module implicitly. It is possible to construct malicious pickle data which will execute arbitrary code during unpickling (See https://github.com/pytorch/pytorch/blob/main/SECURITY.md#untrusted-models for more details). In a future release, the default value for `weights_only` will be flipped to `True`. This limits the functions that could be executed during unpickling. Arbitrary objects will no longer be allowed to be loaded via this mode unless they are explicitly allowlisted by the user via `torch.serialization.add_safe_globals`. We recommend you start setting `weights_only=True` for any use case where you don't have full control of the loaded file. Please open an issue on GitHub for any issues related to this experimental feature.\n",
            "  model_vit_b32.load_state_dict(torch.load(os.path.join(save_dir, 'vit_b32_cifar10.pth')))\n"
          ]
        }
      ],
      "source": [
        "# 저장 경로 설정\n",
        "save_dir = '/content/drive/MyDrive/DL Project/'\n",
        "\n",
        "# 모델 정의\n",
        "model_vit_b32 = create_vit_model('vit_base_patch32_224', num_classes=10)\n",
        "\n",
        "# 가중치 로드\n",
        "model_vit_b32.load_state_dict(torch.load(os.path.join(save_dir, 'vit_b32_cifar10.pth')))\n",
        "\n",
        "# 모델을 올바른 장치로 이동\n",
        "model_vit_b32 = model_vit_b32.to(device)"
      ]
    },
    {
      "cell_type": "markdown",
      "metadata": {
        "id": "A9FNbYbSlNjT"
      },
      "source": [
        "#### CPU"
      ]
    },
    {
      "cell_type": "code",
      "source": [
        "# Set save directory\n",
        "save_dir = '/content/drive/MyDrive/DL Project/'\n",
        "\n",
        "# Define device\n",
        "device = torch.device('cuda' if torch.cuda.is_available() else 'cpu')\n",
        "\n",
        "# Define the model\n",
        "model_vit_b32 = create_vit_model('vit_base_patch32_224', num_classes=10)\n",
        "\n",
        "# Load weights with proper mapping\n",
        "model_vit_b32.load_state_dict(\n",
        "    torch.load(os.path.join(save_dir, 'vit_b32_cifar10.pth'), map_location=device)\n",
        ")\n",
        "\n",
        "# Move model to the correct device\n",
        "model_vit_b32 = model_vit_b32.to(device)\n",
        "\n",
        "print(\"Model successfully loaded and moved to device:\", device)"
      ],
      "metadata": {
        "id": "1gTxVtKgjwgi"
      },
      "execution_count": null,
      "outputs": []
    },
    {
      "cell_type": "markdown",
      "source": [
        "### Resize 32 x 32"
      ],
      "metadata": {
        "id": "q_JlT2CM83zw"
      }
    },
    {
      "cell_type": "code",
      "source": [
        "def interpolate_positional_embeddings(model, new_img_size, patch_size=32):\n",
        "    # 기존 Positional Embedding 가져오기\n",
        "    old_pos_embed = model.pos_embed.detach()  # Shape: [1, num_patches + 1, embed_dim]\n",
        "    cls_token = old_pos_embed[:, :1, :]  # CLS 토큰\n",
        "    patch_pos_embed = old_pos_embed[:, 1:, :]  # 패치 위치 임베딩\n",
        "\n",
        "    # 기존 패치 크기 계산\n",
        "    old_grid_size = int((patch_pos_embed.size(1))**0.5)\n",
        "    new_grid_size = new_img_size // patch_size\n",
        "\n",
        "    # 위치 임베딩 Reshape 및 Interpolation\n",
        "    patch_pos_embed = patch_pos_embed.reshape(1, old_grid_size, old_grid_size, -1).permute(0, 3, 1, 2)\n",
        "    new_pos_embed = torch.nn.functional.interpolate(\n",
        "        patch_pos_embed,\n",
        "        size=(new_grid_size, new_grid_size),\n",
        "        mode=\"bilinear\"\n",
        "    ).permute(0, 2, 3, 1).reshape(1, -1, patch_pos_embed.size(1))\n",
        "\n",
        "    # CLS 토큰과 새로운 위치 임베딩 결합\n",
        "    new_pos_embed = torch.cat([cls_token, new_pos_embed], dim=1)\n",
        "    model.pos_embed = torch.nn.Parameter(new_pos_embed)"
      ],
      "metadata": {
        "id": "z4raI3IP859U"
      },
      "execution_count": null,
      "outputs": []
    },
    {
      "cell_type": "code",
      "source": [
        "# Positional Embedding 업데이트\n",
        "interpolate_positional_embeddings(model_vit_b32, new_img_size=32, patch_size=32)\n",
        "print(\"Positional embeddings updated for 32x32 input.\")"
      ],
      "metadata": {
        "colab": {
          "base_uri": "https://localhost:8080/"
        },
        "id": "mEfrdO4N8__l",
        "outputId": "f1e83242-10f9-4a77-c744-9029d91736e6"
      },
      "execution_count": null,
      "outputs": [
        {
          "output_type": "stream",
          "name": "stdout",
          "text": [
            "Positional embeddings updated for 32x32 input.\n"
          ]
        }
      ]
    },
    {
      "cell_type": "code",
      "source": [
        "# PatchEmbed 수정\n",
        "model_vit_b32.patch_embed.img_size = (32, 32)  # 새로운 이미지 크기\n",
        "model_vit_b32.patch_embed.num_patches = (32 // 32) * (32 // 32)  # 1 패치로 변경\n",
        "print(\"Patch embedding updated for 32x32 input.\")"
      ],
      "metadata": {
        "colab": {
          "base_uri": "https://localhost:8080/"
        },
        "id": "F9M7Sf1c9IrO",
        "outputId": "ec780026-eb82-4738-d492-6c7565621aa8"
      },
      "execution_count": null,
      "outputs": [
        {
          "output_type": "stream",
          "name": "stdout",
          "text": [
            "Patch embedding updated for 32x32 input.\n"
          ]
        }
      ]
    },
    {
      "cell_type": "code",
      "source": [
        "# 데이터 전처리 수정\n",
        "transform_test_32 = transforms.Compose([\n",
        "    transforms.Resize((32, 32)),  # 32x32 크기로 리사이즈\n",
        "    transforms.ToTensor(),\n",
        "    transforms.Normalize((0.5, 0.5, 0.5), (0.5, 0.5, 0.5)),\n",
        "])"
      ],
      "metadata": {
        "id": "E-eOZMVb9LdW"
      },
      "execution_count": null,
      "outputs": []
    },
    {
      "cell_type": "code",
      "source": [
        "# 데이터셋 로드\n",
        "test_dataset_32 = datasets.CIFAR10(root='./data', train=False, transform=transform_test_32, download=True)\n",
        "test_loader_32 = DataLoader(test_dataset_32, batch_size=64, shuffle=False, num_workers=2)"
      ],
      "metadata": {
        "colab": {
          "base_uri": "https://localhost:8080/"
        },
        "id": "q-7r3eAv9N3_",
        "outputId": "07a9bf1e-4da4-4b3b-d5bd-d3039b238dd1"
      },
      "execution_count": null,
      "outputs": [
        {
          "output_type": "stream",
          "name": "stdout",
          "text": [
            "Files already downloaded and verified\n"
          ]
        }
      ]
    },
    {
      "cell_type": "code",
      "source": [
        "# ViT-B-32 모델 평가\n",
        "# Evaluate ViT-B-32 model\n",
        "print(\"Evaluating ViT-B-32...\")\n",
        "test_loss, test_accuracy = evaluate_model(model_vit_b32, test_loader_32, criterion, device)\n",
        "print(f\"Test Loss: {test_loss:.4f}, Test Accuracy: {test_accuracy:.2f}%\")"
      ],
      "metadata": {
        "colab": {
          "base_uri": "https://localhost:8080/"
        },
        "id": "-8lKCEa1BYTf",
        "outputId": "227dad83-60ff-43e9-c133-25f6764a7dcb"
      },
      "execution_count": null,
      "outputs": [
        {
          "output_type": "stream",
          "name": "stdout",
          "text": [
            "Evaluating ViT-B-32...\n",
            "Test Loss: 4.8469, Test Accuracy: 16.54%\n"
          ]
        }
      ]
    },
    {
      "cell_type": "markdown",
      "metadata": {
        "id": "nPx7GKMWam4j"
      },
      "source": [
        "## Whitebox"
      ]
    },
    {
      "cell_type": "markdown",
      "metadata": {
        "id": "UgkU6X6Ag08H"
      },
      "source": [
        "### Evaluate whitebox attack model"
      ]
    },
    {
      "cell_type": "code",
      "execution_count": 11,
      "metadata": {
        "id": "wefRoDFcg3WR"
      },
      "outputs": [],
      "source": [
        "def evaluate(model, data_loader):\n",
        "    model.eval()\n",
        "    correct = 0\n",
        "    total = 0\n",
        "\n",
        "    for images, labels in data_loader:\n",
        "        images, labels = images.to(device), labels.to(device)\n",
        "\n",
        "        # Forward pass\n",
        "        outputs = model(images)\n",
        "        _, predicted = torch.max(outputs.data, 1)\n",
        "        total += labels.size(0)\n",
        "        correct += (predicted == labels).sum().item()\n",
        "\n",
        "    accuracy = 100 * correct / total\n",
        "    print(f'Accuracy on adversarial examples: {accuracy:.2f}%')\n",
        "    return accuracy"
      ]
    },
    {
      "cell_type": "markdown",
      "metadata": {
        "id": "yM59eZpTasdH"
      },
      "source": [
        "### Fast Gradient Sign Method (FGSM)"
      ]
    },
    {
      "cell_type": "code",
      "source": [
        "model_vit_b32 = model_vit_b32.to(device)"
      ],
      "metadata": {
        "id": "ryTldQ7GJLx7"
      },
      "execution_count": null,
      "outputs": []
    },
    {
      "cell_type": "code",
      "execution_count": null,
      "metadata": {
        "id": "Nv1EmrO-apC1"
      },
      "outputs": [],
      "source": [
        "# FGSM\n",
        "epsilon = 0.031  # Perturbation magnitude\n",
        "clip_min = 0.0  # Minimum pixel value\n",
        "clip_max = 1.0  # Maximum pixel value\n",
        "targeted = False  # False for untargeted attacks, True for targeted attacks\n",
        "\n",
        "# Generate adversarial examples using FGSMNativePytorch\n",
        "adv_loader_FGSM = FGSMNativePytorch(\n",
        "    device=device,\n",
        "    dataLoader=test_loader,\n",
        "    model=model_vit_b32,\n",
        "    epsilonMax=epsilon,\n",
        "    clipMin=clip_min,\n",
        "    clipMax=clip_max,\n",
        "    targeted=targeted\n",
        ")"
      ]
    },
    {
      "cell_type": "code",
      "execution_count": null,
      "metadata": {
        "colab": {
          "base_uri": "https://localhost:8080/",
          "height": 128
        },
        "id": "KIF-AvaMasOe",
        "outputId": "bfaa6cf9-750d-4e3e-babb-35a430b5c0b7"
      },
      "outputs": [
        {
          "output_type": "display_data",
          "data": {
            "text/plain": [
              "<Figure size 640x480 with 1 Axes>"
            ],
            "image/png": "[encoded data removed]"
          },
          "metadata": {}
        }
      ],
      "source": [
        "# Get a batch of adversarial examples\n",
        "for adv_images, labels in adv_loader_FGSM:\n",
        "    break\n",
        "\n",
        "# Unnormalize for visualization\n",
        "adv_images = adv_images * 0.5 + 0.5  # Assuming CIFAR-10 normalization\n",
        "\n",
        "# Show the images\n",
        "grid = torchvision.utils.make_grid(adv_images[:8])\n",
        "plt.imshow(grid.permute(1, 2, 0))\n",
        "plt.show()"
      ]
    },
    {
      "cell_type": "code",
      "execution_count": null,
      "metadata": {
        "colab": {
          "base_uri": "https://localhost:8080/"
        },
        "id": "-7QIZjAigwiV",
        "outputId": "10e14ce8-d05b-4f7e-85bc-1fcb5fc65c00"
      },
      "outputs": [
        {
          "output_type": "stream",
          "name": "stdout",
          "text": [
            "Accuracy on adversarial examples: 17.44%\n"
          ]
        },
        {
          "output_type": "execute_result",
          "data": {
            "text/plain": [
              "17.44"
            ]
          },
          "metadata": {},
          "execution_count": 16
        }
      ],
      "source": [
        "evaluate(model_vit_b32, adv_loader_FGSM)"
      ]
    },
    {
      "cell_type": "markdown",
      "metadata": {
        "id": "z49dFOZPa1zo"
      },
      "source": [
        "### Momentum Iterative Method (MIM)"
      ]
    },
    {
      "cell_type": "code",
      "execution_count": null,
      "metadata": {
        "colab": {
          "base_uri": "https://localhost:8080/"
        },
        "id": "gA3uIAv-Gntp",
        "outputId": "6b470ddd-6bb0-40d5-eeb3-60e1ce7a17cd"
      },
      "outputs": [
        {
          "output_type": "stream",
          "name": "stdout",
          "text": [
            "Processing up to sample= 64\n",
            "Processing up to sample= 128\n",
            "Processing up to sample= 192\n",
            "Processing up to sample= 256\n",
            "Processing up to sample= 320\n",
            "Processing up to sample= 384\n",
            "Processing up to sample= 448\n",
            "Processing up to sample= 512\n",
            "Processing up to sample= 576\n",
            "Processing up to sample= 640\n",
            "Processing up to sample= 704\n",
            "Processing up to sample= 768\n",
            "Processing up to sample= 832\n",
            "Processing up to sample= 896\n",
            "Processing up to sample= 960\n",
            "Processing up to sample= 1024\n",
            "Processing up to sample= 1088\n",
            "Processing up to sample= 1152\n",
            "Processing up to sample= 1216\n",
            "Processing up to sample= 1280\n",
            "Processing up to sample= 1344\n",
            "Processing up to sample= 1408\n",
            "Processing up to sample= 1472\n",
            "Processing up to sample= 1536\n",
            "Processing up to sample= 1600\n",
            "Processing up to sample= 1664\n",
            "Processing up to sample= 1728\n",
            "Processing up to sample= 1792\n",
            "Processing up to sample= 1856\n",
            "Processing up to sample= 1920\n",
            "Processing up to sample= 1984\n",
            "Processing up to sample= 2048\n",
            "Processing up to sample= 2112\n",
            "Processing up to sample= 2176\n",
            "Processing up to sample= 2240\n",
            "Processing up to sample= 2304\n",
            "Processing up to sample= 2368\n",
            "Processing up to sample= 2432\n",
            "Processing up to sample= 2496\n",
            "Processing up to sample= 2560\n",
            "Processing up to sample= 2624\n",
            "Processing up to sample= 2688\n",
            "Processing up to sample= 2752\n",
            "Processing up to sample= 2816\n",
            "Processing up to sample= 2880\n",
            "Processing up to sample= 2944\n",
            "Processing up to sample= 3008\n",
            "Processing up to sample= 3072\n",
            "Processing up to sample= 3136\n",
            "Processing up to sample= 3200\n",
            "Processing up to sample= 3264\n",
            "Processing up to sample= 3328\n",
            "Processing up to sample= 3392\n",
            "Processing up to sample= 3456\n",
            "Processing up to sample= 3520\n",
            "Processing up to sample= 3584\n",
            "Processing up to sample= 3648\n",
            "Processing up to sample= 3712\n",
            "Processing up to sample= 3776\n",
            "Processing up to sample= 3840\n",
            "Processing up to sample= 3904\n",
            "Processing up to sample= 3968\n",
            "Processing up to sample= 4032\n",
            "Processing up to sample= 4096\n",
            "Processing up to sample= 4160\n",
            "Processing up to sample= 4224\n",
            "Processing up to sample= 4288\n",
            "Processing up to sample= 4352\n",
            "Processing up to sample= 4416\n",
            "Processing up to sample= 4480\n",
            "Processing up to sample= 4544\n",
            "Processing up to sample= 4608\n",
            "Processing up to sample= 4672\n",
            "Processing up to sample= 4736\n",
            "Processing up to sample= 4800\n",
            "Processing up to sample= 4864\n",
            "Processing up to sample= 4928\n",
            "Processing up to sample= 4992\n",
            "Processing up to sample= 5056\n",
            "Processing up to sample= 5120\n",
            "Processing up to sample= 5184\n",
            "Processing up to sample= 5248\n",
            "Processing up to sample= 5312\n",
            "Processing up to sample= 5376\n",
            "Processing up to sample= 5440\n",
            "Processing up to sample= 5504\n",
            "Processing up to sample= 5568\n",
            "Processing up to sample= 5632\n",
            "Processing up to sample= 5696\n",
            "Processing up to sample= 5760\n",
            "Processing up to sample= 5824\n",
            "Processing up to sample= 5888\n",
            "Processing up to sample= 5952\n",
            "Processing up to sample= 6016\n",
            "Processing up to sample= 6080\n",
            "Processing up to sample= 6144\n",
            "Processing up to sample= 6208\n",
            "Processing up to sample= 6272\n",
            "Processing up to sample= 6336\n",
            "Processing up to sample= 6400\n",
            "Processing up to sample= 6464\n",
            "Processing up to sample= 6528\n",
            "Processing up to sample= 6592\n",
            "Processing up to sample= 6656\n",
            "Processing up to sample= 6720\n",
            "Processing up to sample= 6784\n",
            "Processing up to sample= 6848\n",
            "Processing up to sample= 6912\n",
            "Processing up to sample= 6976\n",
            "Processing up to sample= 7040\n",
            "Processing up to sample= 7104\n",
            "Processing up to sample= 7168\n",
            "Processing up to sample= 7232\n",
            "Processing up to sample= 7296\n",
            "Processing up to sample= 7360\n",
            "Processing up to sample= 7424\n",
            "Processing up to sample= 7488\n",
            "Processing up to sample= 7552\n",
            "Processing up to sample= 7616\n",
            "Processing up to sample= 7680\n",
            "Processing up to sample= 7744\n",
            "Processing up to sample= 7808\n",
            "Processing up to sample= 7872\n",
            "Processing up to sample= 7936\n",
            "Processing up to sample= 8000\n",
            "Processing up to sample= 8064\n",
            "Processing up to sample= 8128\n",
            "Processing up to sample= 8192\n",
            "Processing up to sample= 8256\n",
            "Processing up to sample= 8320\n",
            "Processing up to sample= 8384\n",
            "Processing up to sample= 8448\n",
            "Processing up to sample= 8512\n",
            "Processing up to sample= 8576\n",
            "Processing up to sample= 8640\n",
            "Processing up to sample= 8704\n",
            "Processing up to sample= 8768\n",
            "Processing up to sample= 8832\n",
            "Processing up to sample= 8896\n",
            "Processing up to sample= 8960\n",
            "Processing up to sample= 9024\n",
            "Processing up to sample= 9088\n",
            "Processing up to sample= 9152\n",
            "Processing up to sample= 9216\n",
            "Processing up to sample= 9280\n",
            "Processing up to sample= 9344\n",
            "Processing up to sample= 9408\n",
            "Processing up to sample= 9472\n",
            "Processing up to sample= 9536\n",
            "Processing up to sample= 9600\n",
            "Processing up to sample= 9664\n",
            "Processing up to sample= 9728\n",
            "Processing up to sample= 9792\n",
            "Processing up to sample= 9856\n",
            "Processing up to sample= 9920\n",
            "Processing up to sample= 9984\n",
            "Processing up to sample= 10000\n"
          ]
        }
      ],
      "source": [
        "# MIM\n",
        "# Define parameters\n",
        "epsilon = 0.031  # Maximum perturbation magnitude\n",
        "epsilon_step = 0.00155  # Step size for each iteration\n",
        "num_steps = 10  # Number of attack iterations\n",
        "decay_factor = 1.0  # Momentum decay factor\n",
        "clip_min = 0.0  # Minimum pixel value\n",
        "clip_max = 1.0  # Maximum pixel value\n",
        "targeted = False  # False for untargeted attacks, True for targeted attacks\n",
        "\n",
        "# Generate adversarial examples using MIMNativePytorch\n",
        "adv_loader_MIM = MIMNativePytorch(\n",
        "    device=device,\n",
        "    dataLoader=test_loader,\n",
        "    model=model_vit_b32,\n",
        "    decayFactor=decay_factor,\n",
        "    epsilonMax=epsilon,\n",
        "    epsilonStep=epsilon_step,\n",
        "    numSteps=num_steps,\n",
        "    clipMin=clip_min,\n",
        "    clipMax=clip_max,\n",
        "    targeted=targeted\n",
        ")"
      ]
    },
    {
      "cell_type": "code",
      "execution_count": null,
      "metadata": {
        "colab": {
          "base_uri": "https://localhost:8080/",
          "height": 128
        },
        "id": "7FM_sSxjdG5t",
        "outputId": "7275c891-d5de-4862-e7dd-bfa3b1254fd3"
      },
      "outputs": [
        {
          "output_type": "display_data",
          "data": {
            "text/plain": [
              "<Figure size 640x480 with 1 Axes>"
            ],
            "image/png": "[encoded data removed]"
          },
          "metadata": {}
        }
      ],
      "source": [
        "# Get a batch of adversarial examples\n",
        "for adv_images, labels in adv_loader_MIM:\n",
        "    break\n",
        "\n",
        "# Unnormalize for visualization\n",
        "adv_images = adv_images * 0.5 + 0.5\n",
        "# Show the images\n",
        "grid = torchvision.utils.make_grid(adv_images[:8])\n",
        "plt.imshow(grid.permute(1, 2, 0))\n",
        "plt.show()"
      ]
    },
    {
      "cell_type": "code",
      "execution_count": null,
      "metadata": {
        "colab": {
          "base_uri": "https://localhost:8080/"
        },
        "id": "IQQaOoQJhmJi",
        "outputId": "28fda173-ec18-4f07-8528-87410e6473dc"
      },
      "outputs": [
        {
          "output_type": "stream",
          "name": "stdout",
          "text": [
            "Accuracy on adversarial examples: 2.14%\n"
          ]
        },
        {
          "output_type": "execute_result",
          "data": {
            "text/plain": [
              "2.14"
            ]
          },
          "metadata": {},
          "execution_count": 43
        }
      ],
      "source": [
        "evaluate(model_vit_b32, adv_loader_MIM)"
      ]
    },
    {
      "cell_type": "markdown",
      "metadata": {
        "id": "AVphSnALawZR"
      },
      "source": [
        "### Projected Gradient Descent (PGD)"
      ]
    },
    {
      "cell_type": "code",
      "execution_count": null,
      "metadata": {
        "id": "0S55dzeyazny"
      },
      "outputs": [],
      "source": [
        "def PGDNativePytorch(device, dataLoader, model, epsilonMax, epsilonStep, numSteps, clipMin, clipMax, targeted):\n",
        "    model.eval()  # Set model to evaluation mode\n",
        "    # Generate variables for storing the adversarial examples\n",
        "    numSamples = len(dataLoader.dataset)\n",
        "    xShape = next(iter(dataLoader))[0].shape[1:]  # Get input shape from DataLoader\n",
        "    xAdv = torch.zeros(numSamples, *xShape)\n",
        "    yClean = torch.zeros(numSamples, dtype=torch.long)\n",
        "\n",
        "    advSampleIndex = 0\n",
        "    for xData, yData in dataLoader:\n",
        "        xData, yData = xData.to(device), yData.to(device)\n",
        "        batchSize = xData.shape[0]\n",
        "        advImages = xData.clone().detach()\n",
        "\n",
        "        # PGD iterations\n",
        "        for _ in range(numSteps):\n",
        "            advImages.requires_grad = True\n",
        "            outputs = model(advImages)\n",
        "            loss = torch.nn.CrossEntropyLoss()(outputs, yData)\n",
        "            model.zero_grad()\n",
        "            loss.backward()\n",
        "\n",
        "            # Generate adversarial perturbations\n",
        "            gradSign = advImages.grad.sign()\n",
        "            if targeted:\n",
        "                advImages = advImages - epsilonStep * gradSign  # Targeted: decrease towards target\n",
        "            else:\n",
        "                advImages = advImages + epsilonStep * gradSign  # Untargeted: increase loss\n",
        "\n",
        "            # Project adversarial examples to epsilon-ball and clip to valid range\n",
        "            advImages = torch.clamp(advImages, xData - epsilonMax, xData + epsilonMax)\n",
        "            advImages = torch.clamp(advImages, clipMin, clipMax).detach()\n",
        "\n",
        "        # Save adversarial examples\n",
        "        for j in range(batchSize):\n",
        "            xAdv[advSampleIndex] = advImages[j].cpu()\n",
        "            yClean[advSampleIndex] = yData[j].cpu()\n",
        "            advSampleIndex += 1\n",
        "\n",
        "    # Return DataLoader with adversarial examples\n",
        "    advLoader = torch.utils.data.DataLoader(\n",
        "        torch.utils.data.TensorDataset(xAdv, yClean),\n",
        "        batch_size=dataLoader.batch_size,\n",
        "        shuffle=False\n",
        "    )\n",
        "    return advLoader"
      ]
    },
    {
      "cell_type": "code",
      "execution_count": null,
      "metadata": {
        "id": "HViI5hhaGeVg"
      },
      "outputs": [],
      "source": [
        "# Define PGD parameters\n",
        "epsilon = 0.031  # Maximum perturbation magnitude\n",
        "epsilon_step = 0.00155  # Step size\n",
        "num_steps = 20  # Number of attack iterations\n",
        "clip_min = 0.0  # Minimum pixel value\n",
        "clip_max = 1.0  # Maximum pixel value\n",
        "targeted = False  # False for untargeted attacks, True for targeted attacks\n",
        "\n",
        "# Generate adversarial examples using PGD\n",
        "adv_loader_PGD = PGDNativePytorch(\n",
        "    device=device,\n",
        "    dataLoader=test_loader,\n",
        "    model=model_vit_b32,\n",
        "    epsilonMax=epsilon,\n",
        "    epsilonStep=epsilon_step,\n",
        "    numSteps=num_steps,\n",
        "    clipMin=clip_min,\n",
        "    clipMax=clip_max,\n",
        "    targeted=targeted\n",
        ")"
      ]
    },
    {
      "cell_type": "code",
      "execution_count": null,
      "metadata": {
        "colab": {
          "base_uri": "https://localhost:8080/",
          "height": 128
        },
        "id": "LCzW2w10bY5S",
        "outputId": "b6243c6e-0ffd-4ba8-c017-d3a678c2ab85"
      },
      "outputs": [
        {
          "output_type": "display_data",
          "data": {
            "text/plain": [
              "<Figure size 640x480 with 1 Axes>"
            ],
            "image/png": "[encoded data removed]"
          },
          "metadata": {}
        }
      ],
      "source": [
        "# Get a batch of adversarial examples\n",
        "for adv_images, labels in adv_loader_PGD:\n",
        "    break\n",
        "\n",
        "# Unnormalize for visualization\n",
        "adv_images = adv_images * 0.5 + 0.5\n",
        "# Show the images\n",
        "grid = torchvision.utils.make_grid(adv_images[:8])\n",
        "plt.imshow(grid.permute(1, 2, 0))\n",
        "plt.show()"
      ]
    },
    {
      "cell_type": "code",
      "execution_count": null,
      "metadata": {
        "colab": {
          "base_uri": "https://localhost:8080/"
        },
        "id": "AGTMAJn4hQ1A",
        "outputId": "7c21104f-a316-475a-ad07-69a9b3f8c99d"
      },
      "outputs": [
        {
          "output_type": "stream",
          "name": "stdout",
          "text": [
            "Accuracy on adversarial examples: 0.37%\n"
          ]
        },
        {
          "output_type": "execute_result",
          "data": {
            "text/plain": [
              "0.37"
            ]
          },
          "metadata": {},
          "execution_count": 36
        }
      ],
      "source": [
        "evaluate(model_vit_b32, adv_loader_PGD)"
      ]
    },
    {
      "cell_type": "markdown",
      "metadata": {
        "id": "pxN5-s9Ca6id"
      },
      "source": [
        "### Auto Projected Gradient Descent (APGD)"
      ]
    },
    {
      "cell_type": "code",
      "execution_count": null,
      "metadata": {
        "id": "SJfXvPdLzJ4b"
      },
      "outputs": [],
      "source": [
        "def APGDNativePytorch(\n",
        "    device, dataLoader, model, epsilonMax, numSteps, clipMin, clipMax, restarts=1, rho=0.75, max_queries=5000\n",
        "):\n",
        "    \"\"\"\n",
        "    Implements the APGD attack with parameters specified in the paper.\n",
        "\n",
        "    Args:\n",
        "        device (torch.device): Device for computations.\n",
        "        dataLoader (DataLoader): DataLoader for clean test images.\n",
        "        model (nn.Module): Target model.\n",
        "        epsilonMax (float): Maximum perturbation magnitude.\n",
        "        numSteps (int): Number of attack iterations.\n",
        "        clipMin (float): Minimum pixel value.\n",
        "        clipMax (float): Maximum pixel value.\n",
        "        restarts (int): Number of restarts (default: 1).\n",
        "        rho (float): Early stopping threshold (default: 0.75).\n",
        "        max_queries (int): Maximum number of queries per sample (default: 5000).\n",
        "\n",
        "    Returns:\n",
        "        DataLoader: DataLoader containing adversarial examples and their true labels.\n",
        "    \"\"\"\n",
        "    model.eval()\n",
        "    attack = APGD(model, eps=epsilonMax, steps=numSteps, n_restarts=restarts)\n",
        "\n",
        "    # Store adversarial examples\n",
        "    numSamples = len(dataLoader.dataset)\n",
        "    xShape = next(iter(dataLoader))[0].shape[1:]\n",
        "    xAdv = torch.zeros(numSamples, *xShape)\n",
        "    yClean = torch.zeros(numSamples, dtype=torch.long)\n",
        "\n",
        "    advSampleIndex = 0\n",
        "    query_count = 0\n",
        "\n",
        "    for xData, yData in dataLoader:\n",
        "        xData, yData = xData.to(device), yData.to(device)\n",
        "\n",
        "        # Early stopping mechanism based on ρ and max_queries\n",
        "        for restart in range(restarts):\n",
        "            if query_count >= max_queries:\n",
        "                break  # Stop if query budget is reached\n",
        "\n",
        "            advImages = attack(xData, yData)\n",
        "\n",
        "            # Update query count\n",
        "            query_count += xData.size(0)\n",
        "\n",
        "            # Check if early stopping conditions (ρ) are satisfied\n",
        "            outputs = model(advImages)\n",
        "            _, preds = outputs.max(1)\n",
        "            success_rate = ((preds != yData).sum().item()) / yData.size(0)\n",
        "\n",
        "            if success_rate >= rho:\n",
        "                break  # Early stopping if success rate reaches threshold\n",
        "\n",
        "        # Save adversarial examples\n",
        "        batchSize = xData.shape[0]\n",
        "        for j in range(batchSize):\n",
        "            xAdv[advSampleIndex] = advImages[j].cpu()\n",
        "            yClean[advSampleIndex] = yData[j].cpu()\n",
        "            advSampleIndex += 1\n",
        "\n",
        "    # Return DataLoader with adversarial examples\n",
        "    advLoader = DataLoader(\n",
        "        TensorDataset(xAdv, yClean),\n",
        "        batch_size=dataLoader.batch_size,\n",
        "        shuffle=False\n",
        "    )\n",
        "    return advLoader"
      ]
    },
    {
      "cell_type": "code",
      "execution_count": null,
      "metadata": {
        "id": "SAZowNiKGw58"
      },
      "outputs": [],
      "source": [
        "# Parameters for APGD from the paper\n",
        "epsilon = 0.031\n",
        "num_steps = 10\n",
        "restarts = 1\n",
        "rho = 0.75\n",
        "max_queries = 5000\n",
        "clip_min = 0.0\n",
        "clip_max = 1.0"
      ]
    },
    {
      "cell_type": "code",
      "execution_count": null,
      "metadata": {
        "id": "-qW4CZ_mgfF_"
      },
      "outputs": [],
      "source": [
        "# Generate adversarial examples using APGD\n",
        "adv_loader_APGD = APGDNativePytorch(\n",
        "    device=device,\n",
        "    dataLoader=test_loader,\n",
        "    model=model_vit_b32,\n",
        "    epsilonMax=epsilon,\n",
        "    numSteps=num_steps,\n",
        "    clipMin=clip_min,\n",
        "    clipMax=clip_max,\n",
        "    restarts=restarts,\n",
        "    rho=rho,\n",
        "    max_queries=max_queries\n",
        ")"
      ]
    },
    {
      "cell_type": "code",
      "execution_count": null,
      "metadata": {
        "colab": {
          "base_uri": "https://localhost:8080/",
          "height": 128
        },
        "id": "u3PeDx0IdZji",
        "outputId": "3f951832-d7fc-43d4-9d77-0e9044ffcd1d"
      },
      "outputs": [
        {
          "output_type": "display_data",
          "data": {
            "text/plain": [
              "<Figure size 640x480 with 1 Axes>"
            ],
            "image/png": "[encoded data removed]"
          },
          "metadata": {}
        }
      ],
      "source": [
        "# Get a batch of adversarial examples\n",
        "for adv_images, labels in adv_loader_APGD:\n",
        "    break\n",
        "\n",
        "# Unnormalize for visualization\n",
        "adv_images = adv_images * 0.5 + 0.5\n",
        "# Show the images\n",
        "grid = torchvision.utils.make_grid(adv_images[:8])\n",
        "plt.imshow(grid.permute(1, 2, 0))\n",
        "plt.show()"
      ]
    },
    {
      "cell_type": "code",
      "execution_count": null,
      "metadata": {
        "colab": {
          "base_uri": "https://localhost:8080/"
        },
        "id": "yGdcG3lFVj8k",
        "outputId": "25fd776f-3711-42cf-d9cb-01cdd7f6e20d"
      },
      "outputs": [
        {
          "output_type": "stream",
          "name": "stdout",
          "text": [
            "Accuracy on adversarial examples: 4.80%\n"
          ]
        },
        {
          "output_type": "execute_result",
          "data": {
            "text/plain": [
              "4.8"
            ]
          },
          "metadata": {},
          "execution_count": 16
        }
      ],
      "source": [
        "evaluate(model_vit_b32, adv_loader_APGD)"
      ]
    },
    {
      "cell_type": "markdown",
      "metadata": {
        "id": "Y8yMbNoXW8lp"
      },
      "source": [
        "## Additional White-box Attacks"
      ]
    },
    {
      "cell_type": "markdown",
      "metadata": {
        "id": "mo_x0lk8W5cw"
      },
      "source": [
        "### Backward Pass Differentiable Approximation (BPDA)"
      ]
    },
    {
      "cell_type": "code",
      "execution_count": null,
      "metadata": {
        "id": "2-QpEO-OXA_I"
      },
      "outputs": [],
      "source": [
        "def BPDANativePytorch(device, dataLoader, model, epsilonMax, epsilonStep, numSteps, clipMin, clipMax):\n",
        "    model.eval()  # Set the model to evaluation mode\n",
        "\n",
        "    # Initialize variables to store adversarial examples\n",
        "    numSamples = len(dataLoader.dataset)\n",
        "    xShape = next(iter(dataLoader))[0].shape[1:]  # Get the input shape from DataLoader\n",
        "    xAdv = torch.zeros(numSamples, *xShape)\n",
        "    yClean = torch.zeros(numSamples, dtype=torch.long)\n",
        "    advSampleIndex = 0\n",
        "\n",
        "    for xData, yData in dataLoader:\n",
        "        xData, yData = xData.to(device), yData.to(device)\n",
        "        batchSize = xData.size(0)\n",
        "        advImages = xData.clone().detach()\n",
        "\n",
        "        # BPDA iterations\n",
        "        for _ in range(numSteps):\n",
        "            advImages.requires_grad = True\n",
        "\n",
        "            # Forward pass through the model (with a differentiable approximation if needed)\n",
        "            outputs = model(advImages)\n",
        "\n",
        "            # Define a loss function (e.g., CrossEntropyLoss)\n",
        "            loss = torch.nn.CrossEntropyLoss()(outputs, yData)\n",
        "\n",
        "            # Zero all gradients, compute gradients, and update adversarial examples\n",
        "            model.zero_grad()\n",
        "            loss.backward()\n",
        "\n",
        "            # Approximate gradients of non-differentiable operations here if applicable\n",
        "            gradSign = advImages.grad.sign()\n",
        "            advImages = advImages + epsilonStep * gradSign\n",
        "            advImages = torch.clamp(advImages, xData - epsilonMax, xData + epsilonMax)  # Epsilon-ball projection\n",
        "            advImages = torch.clamp(advImages, clipMin, clipMax).detach()  # Clip to valid range\n",
        "\n",
        "        # Save adversarial examples\n",
        "        for j in range(batchSize):\n",
        "            xAdv[advSampleIndex] = advImages[j].cpu()\n",
        "            yClean[advSampleIndex] = yData[j].cpu()\n",
        "            advSampleIndex += 1\n",
        "\n",
        "    # Return a DataLoader with adversarial examples\n",
        "    advLoader = torch.utils.data.DataLoader(\n",
        "        torch.utils.data.TensorDataset(xAdv, yClean),\n",
        "        batch_size=dataLoader.batch_size,\n",
        "        shuffle=False\n",
        "    )\n",
        "    return advLoader"
      ]
    },
    {
      "cell_type": "code",
      "execution_count": null,
      "metadata": {
        "id": "8tVJ0av8XDLP"
      },
      "outputs": [],
      "source": [
        "# BPDA parameters\n",
        "epsilon = 0.031  # Maximum perturbation magnitude\n",
        "epsilon_step = 0.01  # Step size\n",
        "num_steps = 10  # Number of iterations\n",
        "clip_min = 0.0\n",
        "clip_max = 1.0\n",
        "\n",
        "# Generate BPDA adversarial examples\n",
        "adv_loader_BPDA = BPDANativePytorch(\n",
        "    device=device,\n",
        "    dataLoader=test_loader,\n",
        "    model=model_vit_b32,\n",
        "    epsilonMax=epsilon,\n",
        "    epsilonStep=epsilon_step,\n",
        "    numSteps=num_steps,\n",
        "    clipMin=clip_min,\n",
        "    clipMax=clip_max\n",
        ")"
      ]
    },
    {
      "cell_type": "code",
      "execution_count": null,
      "metadata": {
        "colab": {
          "base_uri": "https://localhost:8080/",
          "height": 128
        },
        "id": "yRqT6eMaXMzH",
        "outputId": "abd8c360-4e7e-46dd-a659-7d445c7cd2e2"
      },
      "outputs": [
        {
          "data": {
            "image/png": "[encoded data removed]",
            "text/plain": [
              "<Figure size 640x480 with 1 Axes>"
            ]
          },
          "metadata": {},
          "output_type": "display_data"
        }
      ],
      "source": [
        "# Get a batch of adversarial examples\n",
        "for adv_images, labels in adv_loader_BPDA:\n",
        "    break\n",
        "\n",
        "# Unnormalize for visualization\n",
        "adv_images = adv_images * 0.5 + 0.5\n",
        "# Show the images\n",
        "grid = torchvision.utils.make_grid(adv_images[:8])\n",
        "plt.imshow(grid.permute(1, 2, 0))\n",
        "plt.show()"
      ]
    },
    {
      "cell_type": "code",
      "execution_count": null,
      "metadata": {
        "colab": {
          "base_uri": "https://localhost:8080/"
        },
        "id": "iX4xwLzDXQEY",
        "outputId": "785c23d7-7284-4c93-ae46-8431839e2dbd"
      },
      "outputs": [
        {
          "name": "stdout",
          "output_type": "stream",
          "text": [
            "Accuracy on adversarial examples: 0.36%\n"
          ]
        },
        {
          "data": {
            "text/plain": [
              "0.36"
            ]
          },
          "execution_count": 21,
          "metadata": {},
          "output_type": "execute_result"
        }
      ],
      "source": [
        "evaluate(model_vit_b32, adv_loader_BPDA)"
      ]
    },
    {
      "cell_type": "markdown",
      "metadata": {
        "id": "T0xnmlKjXYGg"
      },
      "source": [
        "### Carlini and Wagner (C&W)"
      ]
    },
    {
      "cell_type": "code",
      "execution_count": null,
      "metadata": {
        "id": "sLiMh2efXj0M"
      },
      "outputs": [],
      "source": [
        "def CWPytorch(device, dataLoader, model, c=1.0, kappa=0, numSteps=1000, lr=0.01, clipMin=0.0, clipMax=1.0):\n",
        "    model.eval()  # Set the model to evaluation mode\n",
        "\n",
        "    # Initialize variables to store adversarial examples\n",
        "    numSamples = len(dataLoader.dataset)\n",
        "    xShape = next(iter(dataLoader))[0].shape[1:]  # Get input shape from DataLoader\n",
        "    xAdv = torch.zeros(numSamples, *xShape)\n",
        "    yClean = torch.zeros(numSamples, dtype=torch.long)\n",
        "    advSampleIndex = 0\n",
        "\n",
        "    for xData, yData in dataLoader:\n",
        "        xData, yData = xData.to(device), yData.to(device)\n",
        "        batchSize = xData.size(0)\n",
        "\n",
        "        # Initialize adversarial perturbation\n",
        "        delta = torch.zeros_like(xData, requires_grad=True).to(device)\n",
        "\n",
        "        # Define optimizer for delta\n",
        "        optimizer = optim.Adam([delta], lr=lr)\n",
        "\n",
        "        for _ in range(numSteps):\n",
        "            advImages = torch.clamp(xData + delta, clipMin, clipMax)  # Add perturbation and clip to valid range\n",
        "\n",
        "            # Forward pass\n",
        "            outputs = model(advImages)\n",
        "\n",
        "            # Define C&W loss function\n",
        "            real = outputs.gather(1, yData.view(-1, 1)).squeeze()  # Correct class scores\n",
        "            one_hot = torch.eye(outputs.size(1), device=device)[yData]\n",
        "            other = torch.max((outputs - one_hot * 1e4), dim=1)[0]  # Max of incorrect class scores\n",
        "            f = torch.clamp(real - other + kappa, min=0)  # Confidence margin\n",
        "\n",
        "            l2_norm = torch.sum(delta ** 2)\n",
        "            loss = l2_norm + c * torch.sum(f)\n",
        "\n",
        "            # Backward pass\n",
        "            optimizer.zero_grad()\n",
        "            loss.backward()\n",
        "            optimizer.step()\n",
        "\n",
        "        # Save adversarial examples\n",
        "        for j in range(batchSize):\n",
        "            xAdv[advSampleIndex] = torch.clamp(xData[j] + delta[j], clipMin, clipMax).cpu()\n",
        "            yClean[advSampleIndex] = yData[j].cpu()\n",
        "            advSampleIndex += 1\n",
        "\n",
        "    # Return a DataLoader with adversarial examples\n",
        "    advLoader = torch.utils.data.DataLoader(\n",
        "        torch.utils.data.TensorDataset(xAdv, yClean),\n",
        "        batch_size=dataLoader.batch_size,\n",
        "        shuffle=False\n",
        "    )\n",
        "    return advLoader"
      ]
    },
    {
      "cell_type": "code",
      "execution_count": null,
      "metadata": {
        "id": "npQf5odThrTW"
      },
      "outputs": [],
      "source": [
        "# C&W parameters\n",
        "c = 1.0  # Regularization constant\n",
        "kappa = 0  # Confidence margin\n",
        "num_steps = 100  # Number of iterations\n",
        "lr = 0.01  # Learning rate\n",
        "clip_min = 0.0\n",
        "clip_max = 1.0\n",
        "\n",
        "# Generate C&W adversarial examples\n",
        "adv_loader_CW = CWPytorch(\n",
        "    device=device,\n",
        "    dataLoader=test_loader,\n",
        "    model=model_vit_b32,\n",
        "    c=c,\n",
        "    kappa=kappa,\n",
        "    numSteps=num_steps,\n",
        "    lr=lr,\n",
        "    clipMin=clip_min,\n",
        "    clipMax=clip_max\n",
        ")"
      ]
    },
    {
      "cell_type": "code",
      "execution_count": null,
      "metadata": {
        "id": "48qdWUuAhzYX"
      },
      "outputs": [],
      "source": [
        "# Get a batch of adversarial examples\n",
        "for adv_images, labels in adv_loader_CW:\n",
        "    break\n",
        "\n",
        "# Unnormalize for visualization\n",
        "adv_images = adv_images * 0.5 + 0.5\n",
        "# Show the images\n",
        "grid = torchvision.utils.make_grid(adv_images[:8])\n",
        "plt.imshow(grid.permute(1, 2, 0))\n",
        "plt.show()"
      ]
    },
    {
      "cell_type": "code",
      "execution_count": null,
      "metadata": {
        "colab": {
          "base_uri": "https://localhost:8080/"
        },
        "id": "Y4BnPVKCYUwE",
        "outputId": "ca228511-02ca-4870-c830-123b6a4e55a6"
      },
      "outputs": [
        {
          "name": "stdout",
          "output_type": "stream",
          "text": [
            "Accuracy on adversarial examples: 26.48%\n"
          ]
        },
        {
          "data": {
            "text/plain": [
              "26.48"
            ]
          },
          "execution_count": 20,
          "metadata": {},
          "output_type": "execute_result"
        }
      ],
      "source": [
        "evaluate(model_vit_b32, adv_loader_CW)"
      ]
    },
    {
      "cell_type": "markdown",
      "source": [
        "## Transferaibility"
      ],
      "metadata": {
        "id": "Lybl3nuK-ZKE"
      }
    },
    {
      "cell_type": "markdown",
      "source": [
        "### Load the Resnet56"
      ],
      "metadata": {
        "id": "VTOcloEY-6YG"
      }
    },
    {
      "cell_type": "code",
      "source": [
        "# Define the path to the weights\n",
        "save_dir = '/content/drive/MyDrive/DL Project/'\n",
        "weight_path = os.path.join(save_dir, 'resnet56_cifar10_2.pth')\n",
        "\n",
        "model_resnet = resnet56(inputImageSize=32, numClasses=10).to(device)\n",
        "\n",
        "# Load the weights\n",
        "model_resnet.load_state_dict(torch.load(weight_path))\n",
        "\n",
        "# Move the model to the correct device\n",
        "device = torch.device('cuda' if torch.cuda.is_available() else 'cpu')\n",
        "model_resnet = model_resnet.to(device)\n",
        "\n",
        "print(\"ResNet56 weights loaded successfully!\")"
      ],
      "metadata": {
        "colab": {
          "base_uri": "https://localhost:8080/"
        },
        "id": "BftSWWEm_TsH",
        "outputId": "3e808dba-cc2d-41e7-e9ab-c1db00631d6a"
      },
      "execution_count": 12,
      "outputs": [
        {
          "output_type": "stream",
          "name": "stderr",
          "text": [
            "<ipython-input-12-9e44ae761b55>:8: FutureWarning: You are using `torch.load` with `weights_only=False` (the current default value), which uses the default pickle module implicitly. It is possible to construct malicious pickle data which will execute arbitrary code during unpickling (See https://github.com/pytorch/pytorch/blob/main/SECURITY.md#untrusted-models for more details). In a future release, the default value for `weights_only` will be flipped to `True`. This limits the functions that could be executed during unpickling. Arbitrary objects will no longer be allowed to be loaded via this mode unless they are explicitly allowlisted by the user via `torch.serialization.add_safe_globals`. We recommend you start setting `weights_only=True` for any use case where you don't have full control of the loaded file. Please open an issue on GitHub for any issues related to this experimental feature.\n",
            "  model_resnet.load_state_dict(torch.load(weight_path))\n"
          ]
        },
        {
          "output_type": "stream",
          "name": "stdout",
          "text": [
            "ResNet56 weights loaded successfully!\n"
          ]
        }
      ]
    },
    {
      "cell_type": "code",
      "source": [
        "# Loss function\n",
        "criterion_res = nn.CrossEntropyLoss()\n",
        "\n",
        "# Optimizer\n",
        "optimizer_res = optim.SGD(model_resnet.parameters(), lr=0.01, momentum=0.9, weight_decay=5e-4)"
      ],
      "metadata": {
        "id": "MxPkrk1xQVoy"
      },
      "execution_count": 13,
      "outputs": []
    },
    {
      "cell_type": "markdown",
      "source": [
        "### Resnet56 Model Dataset Setup"
      ],
      "metadata": {
        "id": "PR_9BGTLPxvx"
      }
    },
    {
      "cell_type": "code",
      "source": [
        "# Define transformations for ViT\n",
        "res_transform_train = transforms.Compose([\n",
        "    transforms.Resize(32),  # Resize to 224x224 for ViT\n",
        "    transforms.RandomCrop(224, padding=4),  # Optional data augmentation\n",
        "    transforms.RandomHorizontalFlip(),\n",
        "    transforms.ToTensor(),\n",
        "    transforms.Normalize((0.5, 0.5, 0.5), (0.5, 0.5, 0.5)),  # Normalize to [-1, 1]\n",
        "])\n",
        "\n",
        "res_transform_test = transforms.Compose([\n",
        "    transforms.Resize(32),  # Resize to 224x224\n",
        "    transforms.ToTensor(),\n",
        "    transforms.Normalize((0.5, 0.5, 0.5), (0.5, 0.5, 0.5)),  # Normalize to [-1, 1]\n",
        "])\n",
        "\n",
        "# Load CIFAR-10 dataset with ViT transformations\n",
        "res_train_dataset = datasets.CIFAR10(root='./data', train=True, download=True, transform=res_transform_train)\n",
        "res_test_dataset = datasets.CIFAR10(root='./data', train=False, download=True, transform=res_transform_test)\n",
        "\n",
        "# Create DataLoaders for ViT\n",
        "res_train_loader = DataLoader(res_train_dataset, batch_size=64, shuffle=True, num_workers=2)\n",
        "res_test_loader = DataLoader(res_test_dataset, batch_size=64, shuffle=False, num_workers=2)"
      ],
      "metadata": {
        "colab": {
          "base_uri": "https://localhost:8080/"
        },
        "id": "erERaZuuP0Zq",
        "outputId": "51d7f109-7dab-46de-97b3-a57fbf3e9e0f"
      },
      "execution_count": 14,
      "outputs": [
        {
          "output_type": "stream",
          "name": "stdout",
          "text": [
            "Files already downloaded and verified\n",
            "Files already downloaded and verified\n"
          ]
        }
      ]
    },
    {
      "cell_type": "code",
      "source": [
        "def validate(model, test_loader, criterion, device):\n",
        "    model.eval()\n",
        "    running_loss = 0.0\n",
        "    correct = 0\n",
        "    total = 0\n",
        "\n",
        "    with torch.no_grad():\n",
        "        for inputs, labels in test_loader:\n",
        "            inputs, labels = inputs.to(device), labels.to(device)\n",
        "\n",
        "            # Forward pass\n",
        "            outputs = model(inputs)\n",
        "            loss = criterion(outputs, labels)\n",
        "\n",
        "            # Statistics\n",
        "            running_loss += loss.item()\n",
        "            _, predicted = outputs.max(1)\n",
        "            total += labels.size(0)\n",
        "            correct += predicted.eq(labels).sum().item()\n",
        "\n",
        "    epoch_loss = running_loss / len(test_loader)\n",
        "    accuracy = 100. * correct / total\n",
        "    return epoch_loss, accuracy"
      ],
      "metadata": {
        "id": "Pm_Hw4SoQCnM"
      },
      "execution_count": 15,
      "outputs": []
    },
    {
      "cell_type": "code",
      "source": [
        "# Evaluate the ViT model on resized CIFAR-10 test data\n",
        "test_loss, test_acc = validate(model_resnet, res_test_loader, criterion_res, device)\n",
        "print(f\"Test Loss: {test_loss:.4f}, Test Accuracy: {test_acc:.2f}%\")"
      ],
      "metadata": {
        "colab": {
          "base_uri": "https://localhost:8080/"
        },
        "id": "Sb0OUQ0iP_Fx",
        "outputId": "e28203ab-112e-4bb7-c430-e24e26dcd1ff"
      },
      "execution_count": 16,
      "outputs": [
        {
          "output_type": "stream",
          "name": "stderr",
          "text": [
            "/content/ResNetPytorch.py:161: UserWarning: Implicit dimension choice for softmax has been deprecated. Change the call to include dim=X as an argument.\n",
            "  out = F.softmax(self.sm(out))\n"
          ]
        },
        {
          "output_type": "stream",
          "name": "stdout",
          "text": [
            "Test Loss: 1.6941, Test Accuracy: 77.25%\n"
          ]
        }
      ]
    },
    {
      "cell_type": "markdown",
      "source": [
        "### Define Resizing and Evaluation"
      ],
      "metadata": {
        "id": "TIBODpaCQuTQ"
      }
    },
    {
      "cell_type": "code",
      "source": [
        "# Function to resize adversarial examples\n",
        "def resize_adv_loader(adv_loader, target_size, device):\n",
        "    \"\"\"\n",
        "    Resize adversarial examples to match the target model's input size.\n",
        "\n",
        "    Args:\n",
        "        adv_loader (DataLoader): DataLoader containing adversarial examples and labels.\n",
        "        target_size (tuple): Target size (height, width) for resizing.\n",
        "        device (torch.device): Device for computations.\n",
        "\n",
        "    Returns:\n",
        "        DataLoader: DataLoader with resized adversarial examples.\n",
        "    \"\"\"\n",
        "    resized_images = []\n",
        "    resized_labels = []\n",
        "\n",
        "    for images, labels in adv_loader:\n",
        "        images = images.to(device)\n",
        "        labels = labels.to(device)\n",
        "\n",
        "        # Resize images\n",
        "        resized = torch.nn.functional.interpolate(images, size=target_size, mode='bilinear', align_corners=False)\n",
        "        resized_images.append(resized.cpu())\n",
        "        resized_labels.append(labels.cpu())\n",
        "\n",
        "    # Concatenate resized images and labels\n",
        "    resized_images = torch.cat(resized_images)\n",
        "    resized_labels = torch.cat(resized_labels)\n",
        "\n",
        "    # Create a new DataLoader\n",
        "    dataset = TensorDataset(resized_images, resized_labels)\n",
        "    resized_loader = DataLoader(dataset, batch_size=adv_loader.batch_size, shuffle=False)\n",
        "\n",
        "    return resized_loader"
      ],
      "metadata": {
        "id": "uBVOox5tQwoO"
      },
      "execution_count": 17,
      "outputs": []
    },
    {
      "cell_type": "code",
      "source": [
        "# Function to evaluate transferability\n",
        "def evaluate_transferability(target_model, adv_loader, device):\n",
        "    \"\"\"\n",
        "    Evaluate transferability of adversarial examples on the target model.\n",
        "\n",
        "    Args:\n",
        "        target_model (nn.Module): The target model (e.g., ViT-B-32).\n",
        "        adv_loader (DataLoader): DataLoader containing adversarial examples and their true labels.\n",
        "        device (torch.device): Device for computations.\n",
        "\n",
        "    Returns:\n",
        "        float: Transferability success rate (% of adversarial examples that are misclassified).\n",
        "    \"\"\"\n",
        "    target_model.eval()\n",
        "    correct = 0\n",
        "    total = 0\n",
        "\n",
        "    for adv_images, labels in adv_loader:\n",
        "        adv_images, labels = adv_images.to(device), labels.to(device)\n",
        "\n",
        "        # Test adversarial examples on the target model\n",
        "        outputs = target_model(adv_images)\n",
        "        _, predicted = outputs.max(1)\n",
        "\n",
        "        # Count correctly classified examples\n",
        "        total += labels.size(0)\n",
        "        correct += (predicted == labels).sum().item()\n",
        "\n",
        "    transfer_success_rate = 100.0 * (1 - correct / total)\n",
        "    print(f\"Transferability Success Rate: {transfer_success_rate:.2f}%\")\n",
        "    return transfer_success_rate"
      ],
      "metadata": {
        "id": "4_AyDnASRCZF"
      },
      "execution_count": 18,
      "outputs": []
    },
    {
      "cell_type": "markdown",
      "source": [
        "### Fast Gradient Sign Method (FGSM)"
      ],
      "metadata": {
        "id": "0hcWkoJNQnX7"
      }
    },
    {
      "cell_type": "code",
      "source": [
        "adv_loader_resized_fgsm = resize_adv_loader(adv_loader_FGSM, target_size=(32, 32), device=device)"
      ],
      "metadata": {
        "id": "Ob7DE-TqRFBV"
      },
      "execution_count": null,
      "outputs": []
    },
    {
      "cell_type": "code",
      "source": [
        "transfer_success_rate = evaluate_transferability(\n",
        "    target_model=model_resnet,\n",
        "    adv_loader=adv_loader_resized_fgsm,\n",
        "    device=device\n",
        ")"
      ],
      "metadata": {
        "colab": {
          "base_uri": "https://localhost:8080/"
        },
        "id": "UpY8wGODRJWG",
        "outputId": "13875852-0bc0-43ec-c8f8-b0e775bd69ae"
      },
      "execution_count": null,
      "outputs": [
        {
          "output_type": "stream",
          "name": "stdout",
          "text": [
            "Transferability Success Rate: 81.47%\n"
          ]
        }
      ]
    },
    {
      "cell_type": "markdown",
      "source": [
        "### Momentum Iterative Method (MIM)"
      ],
      "metadata": {
        "id": "mW6G3kHDRPgj"
      }
    },
    {
      "cell_type": "code",
      "source": [
        "# MIM\n",
        "adv_loader_resized_mim = resize_adv_loader(adv_loader_MIM, target_size=(32, 32), device=device)"
      ],
      "metadata": {
        "id": "JUkYXyvQRSen"
      },
      "execution_count": null,
      "outputs": []
    },
    {
      "cell_type": "code",
      "source": [
        "transfer_success_rate_MIM = evaluate_transferability(\n",
        "    target_model=model_resnet,\n",
        "    adv_loader=adv_loader_resized_mim,\n",
        "    device=device\n",
        ")"
      ],
      "metadata": {
        "colab": {
          "base_uri": "https://localhost:8080/"
        },
        "id": "4V2FTlOiRXkJ",
        "outputId": "77f45355-00e6-46e4-cf68-bd1deb252915"
      },
      "execution_count": null,
      "outputs": [
        {
          "output_type": "stream",
          "name": "stdout",
          "text": [
            "Transferability Success Rate: 67.55%\n"
          ]
        }
      ]
    },
    {
      "cell_type": "markdown",
      "source": [
        "### Projected Gradient Descent (PGD)"
      ],
      "metadata": {
        "id": "zhldXNsxShD8"
      }
    },
    {
      "cell_type": "code",
      "source": [
        "adv_loader_resized_pgd = resize_adv_loader(adv_loader_PGD, target_size=(32, 32), device=device)"
      ],
      "metadata": {
        "id": "ewuFwA2uSmeK"
      },
      "execution_count": null,
      "outputs": []
    },
    {
      "cell_type": "code",
      "source": [
        "transfer_success_rate_PGD = evaluate_transferability(\n",
        "    target_model=model_resnet,\n",
        "    adv_loader=adv_loader_resized_pgd,\n",
        "    device=device\n",
        ")"
      ],
      "metadata": {
        "colab": {
          "base_uri": "https://localhost:8080/"
        },
        "id": "eP5kvxNsUDZC",
        "outputId": "e29cf7a9-a0b4-4191-80a2-0f903b4bc513"
      },
      "execution_count": null,
      "outputs": [
        {
          "output_type": "stream",
          "name": "stderr",
          "text": [
            "/content/ResNetPytorch.py:161: UserWarning: Implicit dimension choice for softmax has been deprecated. Change the call to include dim=X as an argument.\n",
            "  out = F.softmax(self.sm(out))\n"
          ]
        },
        {
          "output_type": "stream",
          "name": "stdout",
          "text": [
            "Transferability Success Rate: 68.78%\n"
          ]
        }
      ]
    },
    {
      "cell_type": "markdown",
      "source": [
        "### Auto Projected Gradient Descent (APGD)"
      ],
      "metadata": {
        "id": "ZAELxXJxnM4B"
      }
    },
    {
      "cell_type": "code",
      "source": [
        "adv_loader_resized_apgd = resize_adv_loader(adv_loader_APGD, target_size=(32, 32), device=device)"
      ],
      "metadata": {
        "id": "3rp9tJQrnR6T"
      },
      "execution_count": null,
      "outputs": []
    },
    {
      "cell_type": "code",
      "source": [
        "transfer_success_rate = evaluate_transferability(\n",
        "    target_model=model_resnet,\n",
        "    adv_loader=adv_loader_resized_apgd,\n",
        "    device=device\n",
        ")"
      ],
      "metadata": {
        "colab": {
          "base_uri": "https://localhost:8080/"
        },
        "id": "TW1Q3_aNngaH",
        "outputId": "9741fc75-1d6d-4159-aea9-c0da3163bd65"
      },
      "execution_count": null,
      "outputs": [
        {
          "output_type": "stream",
          "name": "stderr",
          "text": [
            "/content/ResNetPytorch.py:161: UserWarning: Implicit dimension choice for softmax has been deprecated. Change the call to include dim=X as an argument.\n",
            "  out = F.softmax(self.sm(out))\n"
          ]
        },
        {
          "output_type": "stream",
          "name": "stdout",
          "text": [
            "Transferability Success Rate: 76.24%\n"
          ]
        }
      ]
    },
    {
      "cell_type": "markdown",
      "source": [
        "## Blackbox Attacks"
      ],
      "metadata": {
        "id": "fGqexigYsr-I"
      }
    },
    {
      "cell_type": "markdown",
      "source": [
        "### RayS Attack"
      ],
      "metadata": {
        "id": "8zfVai__2H_o"
      }
    },
    {
      "cell_type": "code",
      "source": [
        "def RaySAttack(model, images, labels, epsilon, query_budget, device):\n",
        "    model.eval()  # Ensure the model is in evaluation mode\n",
        "\n",
        "    # Ensure images and labels are on the correct device\n",
        "    images = images.to(device)\n",
        "    labels = labels.to(device)\n",
        "\n",
        "    batch_size = images.size(0)\n",
        "    perturbations = torch.zeros_like(images, device=device)\n",
        "\n",
        "    # Initial random directions (ensure they are on the correct device)\n",
        "    directions = torch.randn_like(images).sign().to(device)\n",
        "\n",
        "    for query_count in range(query_budget):\n",
        "        # Positive and negative perturbations\n",
        "        pos_images = torch.clamp(images + perturbations + epsilon * directions, 0, 1)\n",
        "        neg_images = torch.clamp(images + perturbations - epsilon * directions, 0, 1)\n",
        "\n",
        "        # Query the model\n",
        "        pos_outputs = model(pos_images)\n",
        "        neg_outputs = model(neg_images)\n",
        "\n",
        "        # Get predictions\n",
        "        _, pos_preds = pos_outputs.max(1)\n",
        "        _, neg_preds = neg_outputs.max(1)\n",
        "\n",
        "        # Update perturbations based on misclassification\n",
        "        pos_misclassified = pos_preds != labels\n",
        "        neg_misclassified = neg_preds != labels\n",
        "\n",
        "        perturbations[pos_misclassified] += epsilon * directions[pos_misclassified]\n",
        "        perturbations[neg_misclassified] -= epsilon * directions[neg_misclassified]\n",
        "\n",
        "        # Stop if all images are misclassified\n",
        "        if pos_misclassified.sum() + neg_misclassified.sum() == batch_size:\n",
        "            break\n",
        "\n",
        "    # Apply the final perturbations\n",
        "    adversarial_examples = torch.clamp(images + perturbations, 0, 1)\n",
        "    return adversarial_examples"
      ],
      "metadata": {
        "id": "DlKO4RJg08KZ"
      },
      "execution_count": 40,
      "outputs": []
    },
    {
      "cell_type": "code",
      "source": [
        "def generate_rays_adv_loader(model, data_loader, epsilon, query_budget, device):\n",
        "    model.eval()\n",
        "\n",
        "    adv_images_list = []\n",
        "    labels_list = []\n",
        "\n",
        "    # Wrap data_loader with tqdm to track progress\n",
        "    for images, labels in tqdm(data_loader, desc=\"Generating Adversarial Examples\"):\n",
        "        images, labels = images.to(device), labels.to(device)\n",
        "\n",
        "        batch_adv_images = []\n",
        "        for i in range(images.size(0)):\n",
        "            # Run RaySAttack on a single image\n",
        "            adv_image = RaySAttack(\n",
        "                model=model,\n",
        "                images=images[i:i+1],  # Single image\n",
        "                labels=labels[i:i+1],\n",
        "                epsilon=epsilon,\n",
        "                query_budget=query_budget,\n",
        "                device=device\n",
        "            )\n",
        "            batch_adv_images.append(adv_image)\n",
        "\n",
        "        # Concatenate adversarial examples for the batch\n",
        "        adv_images_list.append(torch.cat(batch_adv_images, dim=0).cpu())\n",
        "        labels_list.append(labels.cpu())\n",
        "\n",
        "    # Concatenate all adversarial examples and labels\n",
        "    adv_images_all = torch.cat(adv_images_list, dim=0)\n",
        "    labels_all = torch.cat(labels_list, dim=0)\n",
        "\n",
        "    # Create a new DataLoader for adversarial examples\n",
        "    adv_dataset = TensorDataset(adv_images_all, labels_all)\n",
        "    adv_loader = DataLoader(adv_dataset, batch_size=data_loader.batch_size, shuffle=False)\n",
        "\n",
        "    return adv_loader"
      ],
      "metadata": {
        "id": "dJdoU73G19Qs"
      },
      "execution_count": 46,
      "outputs": []
    },
    {
      "cell_type": "code",
      "source": [
        "def generate_rays_adv_loader(model, data_loader, epsilon, query_budget, device):\n",
        "    model.eval()\n",
        "\n",
        "    adv_images_list = []\n",
        "    labels_list = []\n",
        "\n",
        "    for batch_idx, (images, labels) in enumerate(tqdm(data_loader, desc=\"Generating Adversarial Examples\")):\n",
        "        print(f\"Batch {batch_idx + 1}/{len(data_loader)} started.\")\n",
        "\n",
        "        # Ensure images and labels are on the correct device\n",
        "        images, labels = images.to(device), labels.to(device)\n",
        "\n",
        "        # Initialize the list for storing adversarial examples of the current batch\n",
        "        batch_adv_images = []\n",
        "\n",
        "        for i in range(images.size(0)):\n",
        "            try:\n",
        "                adv_image = RaySAttack(\n",
        "                    model=model,\n",
        "                    images=images[i:i+1],  # Single image\n",
        "                    labels=labels[i:i+1],\n",
        "                    epsilon=epsilon,\n",
        "                    query_budget=query_budget,\n",
        "                    device=device\n",
        "                )\n",
        "\n",
        "                if adv_image is not None:\n",
        "                    print(f\"[INFO] Adversarial example generated for image {i + 1}/{images.size(0)}: Shape {adv_image.shape}\")\n",
        "                    batch_adv_images.append(adv_image)\n",
        "                else:\n",
        "                    print(f\"[WARNING] No adversarial example generated for image {i + 1}/{images.size(0)}.\")\n",
        "            except Exception as e:\n",
        "                print(f\"[ERROR] Failed to generate adversarial example for image {i + 1}/{images.size(0)}: {e}\")\n",
        "\n",
        "        # Check and log the number of adversarial examples generated\n",
        "        print(f\"Batch adversarial images length: {len(batch_adv_images)}\")\n",
        "        if len(batch_adv_images) > 0:\n",
        "            adv_images_list.append(torch.cat(batch_adv_images, dim=0).cpu())\n",
        "            labels_list.append(labels.cpu())\n",
        "        else:\n",
        "            print(f\"[WARNING] No adversarial examples generated for batch {batch_idx + 1}.\")\n",
        "\n",
        "    # Final concatenation of all adversarial examples and labels\n",
        "    if len(adv_images_list) == 0 or len(labels_list) == 0:\n",
        "        raise RuntimeError(\"No adversarial examples were generated for any batch.\")\n",
        "\n",
        "    adv_images_all = torch.cat(adv_images_list, dim=0)\n",
        "    labels_all = torch.cat(labels_list, dim=0)\n",
        "\n",
        "    # Create a new DataLoader for adversarial examples\n",
        "    adv_dataset = TensorDataset(adv_images_all, labels_all)\n",
        "    adv_loader = DataLoader(adv_dataset, batch_size=data_loader.batch_size, shuffle=False)\n",
        "\n",
        "    return adv_loader"
      ],
      "metadata": {
        "id": "YW_VZajCmZ4d"
      },
      "execution_count": 50,
      "outputs": []
    },
    {
      "cell_type": "code",
      "source": [
        "def create_subset(dataset, subset_percentage, seed=None):\n",
        "    \"\"\"\n",
        "    Create a subset of a dataset based on a specified percentage.\n",
        "\n",
        "    Args:\n",
        "        dataset (torch.utils.data.Dataset): The full dataset.\n",
        "        subset_percentage (float): The percentage of the dataset to use (e.g., 0.1 for 10%).\n",
        "        seed (int, optional): Seed for reproducibility. Default is None.\n",
        "\n",
        "    Returns:\n",
        "        Subset: A subset of the dataset.\n",
        "    \"\"\"\n",
        "    if seed is not None:\n",
        "        np.random.seed(seed)  # Set the seed for reproducibility\n",
        "\n",
        "    total_samples = len(dataset)\n",
        "    subset_size = int(total_samples * subset_percentage)\n",
        "\n",
        "    # Generate random indices for the subset\n",
        "    subset_indices = np.random.choice(range(total_samples), subset_size, replace=False)\n",
        "\n",
        "    # Create a subset dataset\n",
        "    return Subset(dataset, subset_indices)"
      ],
      "metadata": {
        "id": "rf6ppEsU2SZW"
      },
      "execution_count": 51,
      "outputs": []
    },
    {
      "cell_type": "code",
      "source": [
        "subset_indices = np.random.choice(len(test_dataset), size=1000, replace=False)\n",
        "test_subset = Subset(test_dataset, subset_indices)\n",
        "test_loader_subset = DataLoader(test_subset, batch_size=64, shuffle=False, num_workers=2)"
      ],
      "metadata": {
        "id": "gp8Dbe7E2l_b"
      },
      "execution_count": 52,
      "outputs": []
    },
    {
      "cell_type": "code",
      "source": [
        "# Parameters for RayS attack\n",
        "epsilon = 0.031\n",
        "query_budget = 100\n",
        "\n",
        "# Generate adversarial examples for the entire test dataset\n",
        "adv_loader_RayS = generate_rays_adv_loader(model=model_vit_b32, data_loader=test_loader_subset, epsilon=epsilon, query_budget=query_budget, device=device)"
      ],
      "metadata": {
        "colab": {
          "base_uri": "https://localhost:8080/"
        },
        "id": "Q-P79ALtnfFW",
        "outputId": "6c9dee37-986f-4b38-ee3f-d98731ebd402"
      },
      "execution_count": 56,
      "outputs": [
        {
          "output_type": "stream",
          "name": "stderr",
          "text": [
            "\rGenerating Adversarial Examples:   0%|          | 0/16 [00:00<?, ?it/s]"
          ]
        },
        {
          "output_type": "stream",
          "name": "stdout",
          "text": [
            "Batch 1/16 started.\n",
            "[INFO] Adversarial example generated for image 1/64: Shape torch.Size([1, 3, 224, 224])\n",
            "[INFO] Adversarial example generated for image 2/64: Shape torch.Size([1, 3, 224, 224])\n",
            "[INFO] Adversarial example generated for image 3/64: Shape torch.Size([1, 3, 224, 224])\n",
            "[INFO] Adversarial example generated for image 4/64: Shape torch.Size([1, 3, 224, 224])\n",
            "[INFO] Adversarial example generated for image 5/64: Shape torch.Size([1, 3, 224, 224])\n",
            "[INFO] Adversarial example generated for image 6/64: Shape torch.Size([1, 3, 224, 224])\n",
            "[INFO] Adversarial example generated for image 7/64: Shape torch.Size([1, 3, 224, 224])\n",
            "[INFO] Adversarial example generated for image 8/64: Shape torch.Size([1, 3, 224, 224])\n",
            "[INFO] Adversarial example generated for image 9/64: Shape torch.Size([1, 3, 224, 224])\n",
            "[INFO] Adversarial example generated for image 10/64: Shape torch.Size([1, 3, 224, 224])\n",
            "[INFO] Adversarial example generated for image 11/64: Shape torch.Size([1, 3, 224, 224])\n",
            "[INFO] Adversarial example generated for image 12/64: Shape torch.Size([1, 3, 224, 224])\n",
            "[INFO] Adversarial example generated for image 13/64: Shape torch.Size([1, 3, 224, 224])\n",
            "[INFO] Adversarial example generated for image 14/64: Shape torch.Size([1, 3, 224, 224])\n",
            "[INFO] Adversarial example generated for image 15/64: Shape torch.Size([1, 3, 224, 224])\n",
            "[INFO] Adversarial example generated for image 16/64: Shape torch.Size([1, 3, 224, 224])\n",
            "[INFO] Adversarial example generated for image 17/64: Shape torch.Size([1, 3, 224, 224])\n",
            "[INFO] Adversarial example generated for image 18/64: Shape torch.Size([1, 3, 224, 224])\n",
            "[INFO] Adversarial example generated for image 19/64: Shape torch.Size([1, 3, 224, 224])\n",
            "[INFO] Adversarial example generated for image 20/64: Shape torch.Size([1, 3, 224, 224])\n",
            "[INFO] Adversarial example generated for image 21/64: Shape torch.Size([1, 3, 224, 224])\n",
            "[INFO] Adversarial example generated for image 22/64: Shape torch.Size([1, 3, 224, 224])\n",
            "[INFO] Adversarial example generated for image 23/64: Shape torch.Size([1, 3, 224, 224])\n",
            "[INFO] Adversarial example generated for image 24/64: Shape torch.Size([1, 3, 224, 224])\n",
            "[INFO] Adversarial example generated for image 25/64: Shape torch.Size([1, 3, 224, 224])\n",
            "[INFO] Adversarial example generated for image 26/64: Shape torch.Size([1, 3, 224, 224])\n",
            "[INFO] Adversarial example generated for image 27/64: Shape torch.Size([1, 3, 224, 224])\n",
            "[INFO] Adversarial example generated for image 28/64: Shape torch.Size([1, 3, 224, 224])\n",
            "[INFO] Adversarial example generated for image 29/64: Shape torch.Size([1, 3, 224, 224])\n",
            "[INFO] Adversarial example generated for image 30/64: Shape torch.Size([1, 3, 224, 224])\n",
            "[INFO] Adversarial example generated for image 31/64: Shape torch.Size([1, 3, 224, 224])\n",
            "[INFO] Adversarial example generated for image 32/64: Shape torch.Size([1, 3, 224, 224])\n",
            "[INFO] Adversarial example generated for image 33/64: Shape torch.Size([1, 3, 224, 224])\n",
            "[INFO] Adversarial example generated for image 34/64: Shape torch.Size([1, 3, 224, 224])\n",
            "[INFO] Adversarial example generated for image 35/64: Shape torch.Size([1, 3, 224, 224])\n",
            "[INFO] Adversarial example generated for image 36/64: Shape torch.Size([1, 3, 224, 224])\n",
            "[INFO] Adversarial example generated for image 37/64: Shape torch.Size([1, 3, 224, 224])\n",
            "[INFO] Adversarial example generated for image 38/64: Shape torch.Size([1, 3, 224, 224])\n",
            "[INFO] Adversarial example generated for image 39/64: Shape torch.Size([1, 3, 224, 224])\n",
            "[INFO] Adversarial example generated for image 40/64: Shape torch.Size([1, 3, 224, 224])\n",
            "[INFO] Adversarial example generated for image 41/64: Shape torch.Size([1, 3, 224, 224])\n",
            "[INFO] Adversarial example generated for image 42/64: Shape torch.Size([1, 3, 224, 224])\n",
            "[INFO] Adversarial example generated for image 43/64: Shape torch.Size([1, 3, 224, 224])\n",
            "[INFO] Adversarial example generated for image 44/64: Shape torch.Size([1, 3, 224, 224])\n",
            "[INFO] Adversarial example generated for image 45/64: Shape torch.Size([1, 3, 224, 224])\n",
            "[INFO] Adversarial example generated for image 46/64: Shape torch.Size([1, 3, 224, 224])\n",
            "[INFO] Adversarial example generated for image 47/64: Shape torch.Size([1, 3, 224, 224])\n",
            "[INFO] Adversarial example generated for image 48/64: Shape torch.Size([1, 3, 224, 224])\n",
            "[INFO] Adversarial example generated for image 49/64: Shape torch.Size([1, 3, 224, 224])\n",
            "[INFO] Adversarial example generated for image 50/64: Shape torch.Size([1, 3, 224, 224])\n",
            "[INFO] Adversarial example generated for image 51/64: Shape torch.Size([1, 3, 224, 224])\n",
            "[INFO] Adversarial example generated for image 52/64: Shape torch.Size([1, 3, 224, 224])\n",
            "[INFO] Adversarial example generated for image 53/64: Shape torch.Size([1, 3, 224, 224])\n",
            "[INFO] Adversarial example generated for image 54/64: Shape torch.Size([1, 3, 224, 224])\n",
            "[INFO] Adversarial example generated for image 55/64: Shape torch.Size([1, 3, 224, 224])\n",
            "[INFO] Adversarial example generated for image 56/64: Shape torch.Size([1, 3, 224, 224])\n",
            "[INFO] Adversarial example generated for image 57/64: Shape torch.Size([1, 3, 224, 224])\n",
            "[INFO] Adversarial example generated for image 58/64: Shape torch.Size([1, 3, 224, 224])\n",
            "[INFO] Adversarial example generated for image 59/64: Shape torch.Size([1, 3, 224, 224])\n",
            "[INFO] Adversarial example generated for image 60/64: Shape torch.Size([1, 3, 224, 224])\n",
            "[INFO] Adversarial example generated for image 61/64: Shape torch.Size([1, 3, 224, 224])\n",
            "[INFO] Adversarial example generated for image 62/64: Shape torch.Size([1, 3, 224, 224])\n",
            "[INFO] Adversarial example generated for image 63/64: Shape torch.Size([1, 3, 224, 224])\n"
          ]
        },
        {
          "output_type": "stream",
          "name": "stderr",
          "text": [
            "\rGenerating Adversarial Examples:   6%|▋         | 1/16 [01:27<21:50, 87.35s/it]"
          ]
        },
        {
          "output_type": "stream",
          "name": "stdout",
          "text": [
            "[INFO] Adversarial example generated for image 64/64: Shape torch.Size([1, 3, 224, 224])\n",
            "Batch adversarial images length: 64\n",
            "Batch 2/16 started.\n",
            "[INFO] Adversarial example generated for image 1/64: Shape torch.Size([1, 3, 224, 224])\n",
            "[INFO] Adversarial example generated for image 2/64: Shape torch.Size([1, 3, 224, 224])\n",
            "[INFO] Adversarial example generated for image 3/64: Shape torch.Size([1, 3, 224, 224])\n",
            "[INFO] Adversarial example generated for image 4/64: Shape torch.Size([1, 3, 224, 224])\n",
            "[INFO] Adversarial example generated for image 5/64: Shape torch.Size([1, 3, 224, 224])\n",
            "[INFO] Adversarial example generated for image 6/64: Shape torch.Size([1, 3, 224, 224])\n",
            "[INFO] Adversarial example generated for image 7/64: Shape torch.Size([1, 3, 224, 224])\n",
            "[INFO] Adversarial example generated for image 8/64: Shape torch.Size([1, 3, 224, 224])\n",
            "[INFO] Adversarial example generated for image 9/64: Shape torch.Size([1, 3, 224, 224])\n",
            "[INFO] Adversarial example generated for image 10/64: Shape torch.Size([1, 3, 224, 224])\n",
            "[INFO] Adversarial example generated for image 11/64: Shape torch.Size([1, 3, 224, 224])\n",
            "[INFO] Adversarial example generated for image 12/64: Shape torch.Size([1, 3, 224, 224])\n",
            "[INFO] Adversarial example generated for image 13/64: Shape torch.Size([1, 3, 224, 224])\n",
            "[INFO] Adversarial example generated for image 14/64: Shape torch.Size([1, 3, 224, 224])\n",
            "[INFO] Adversarial example generated for image 15/64: Shape torch.Size([1, 3, 224, 224])\n",
            "[INFO] Adversarial example generated for image 16/64: Shape torch.Size([1, 3, 224, 224])\n",
            "[INFO] Adversarial example generated for image 17/64: Shape torch.Size([1, 3, 224, 224])\n",
            "[INFO] Adversarial example generated for image 18/64: Shape torch.Size([1, 3, 224, 224])\n",
            "[INFO] Adversarial example generated for image 19/64: Shape torch.Size([1, 3, 224, 224])\n",
            "[INFO] Adversarial example generated for image 20/64: Shape torch.Size([1, 3, 224, 224])\n",
            "[INFO] Adversarial example generated for image 21/64: Shape torch.Size([1, 3, 224, 224])\n",
            "[INFO] Adversarial example generated for image 22/64: Shape torch.Size([1, 3, 224, 224])\n",
            "[INFO] Adversarial example generated for image 23/64: Shape torch.Size([1, 3, 224, 224])\n",
            "[INFO] Adversarial example generated for image 24/64: Shape torch.Size([1, 3, 224, 224])\n",
            "[INFO] Adversarial example generated for image 25/64: Shape torch.Size([1, 3, 224, 224])\n",
            "[INFO] Adversarial example generated for image 26/64: Shape torch.Size([1, 3, 224, 224])\n",
            "[INFO] Adversarial example generated for image 27/64: Shape torch.Size([1, 3, 224, 224])\n",
            "[INFO] Adversarial example generated for image 28/64: Shape torch.Size([1, 3, 224, 224])\n",
            "[INFO] Adversarial example generated for image 29/64: Shape torch.Size([1, 3, 224, 224])\n",
            "[INFO] Adversarial example generated for image 30/64: Shape torch.Size([1, 3, 224, 224])\n",
            "[INFO] Adversarial example generated for image 31/64: Shape torch.Size([1, 3, 224, 224])\n",
            "[INFO] Adversarial example generated for image 32/64: Shape torch.Size([1, 3, 224, 224])\n",
            "[INFO] Adversarial example generated for image 33/64: Shape torch.Size([1, 3, 224, 224])\n",
            "[INFO] Adversarial example generated for image 34/64: Shape torch.Size([1, 3, 224, 224])\n",
            "[INFO] Adversarial example generated for image 35/64: Shape torch.Size([1, 3, 224, 224])\n",
            "[INFO] Adversarial example generated for image 36/64: Shape torch.Size([1, 3, 224, 224])\n",
            "[INFO] Adversarial example generated for image 37/64: Shape torch.Size([1, 3, 224, 224])\n",
            "[INFO] Adversarial example generated for image 38/64: Shape torch.Size([1, 3, 224, 224])\n",
            "[INFO] Adversarial example generated for image 39/64: Shape torch.Size([1, 3, 224, 224])\n",
            "[INFO] Adversarial example generated for image 40/64: Shape torch.Size([1, 3, 224, 224])\n",
            "[INFO] Adversarial example generated for image 41/64: Shape torch.Size([1, 3, 224, 224])\n",
            "[INFO] Adversarial example generated for image 42/64: Shape torch.Size([1, 3, 224, 224])\n",
            "[INFO] Adversarial example generated for image 43/64: Shape torch.Size([1, 3, 224, 224])\n",
            "[INFO] Adversarial example generated for image 44/64: Shape torch.Size([1, 3, 224, 224])\n",
            "[INFO] Adversarial example generated for image 45/64: Shape torch.Size([1, 3, 224, 224])\n",
            "[INFO] Adversarial example generated for image 46/64: Shape torch.Size([1, 3, 224, 224])\n",
            "[INFO] Adversarial example generated for image 47/64: Shape torch.Size([1, 3, 224, 224])\n",
            "[INFO] Adversarial example generated for image 48/64: Shape torch.Size([1, 3, 224, 224])\n",
            "[INFO] Adversarial example generated for image 49/64: Shape torch.Size([1, 3, 224, 224])\n",
            "[INFO] Adversarial example generated for image 50/64: Shape torch.Size([1, 3, 224, 224])\n",
            "[INFO] Adversarial example generated for image 51/64: Shape torch.Size([1, 3, 224, 224])\n",
            "[INFO] Adversarial example generated for image 52/64: Shape torch.Size([1, 3, 224, 224])\n",
            "[INFO] Adversarial example generated for image 53/64: Shape torch.Size([1, 3, 224, 224])\n",
            "[INFO] Adversarial example generated for image 54/64: Shape torch.Size([1, 3, 224, 224])\n",
            "[INFO] Adversarial example generated for image 55/64: Shape torch.Size([1, 3, 224, 224])\n",
            "[INFO] Adversarial example generated for image 56/64: Shape torch.Size([1, 3, 224, 224])\n",
            "[INFO] Adversarial example generated for image 57/64: Shape torch.Size([1, 3, 224, 224])\n",
            "[INFO] Adversarial example generated for image 58/64: Shape torch.Size([1, 3, 224, 224])\n",
            "[INFO] Adversarial example generated for image 59/64: Shape torch.Size([1, 3, 224, 224])\n",
            "[INFO] Adversarial example generated for image 60/64: Shape torch.Size([1, 3, 224, 224])\n",
            "[INFO] Adversarial example generated for image 61/64: Shape torch.Size([1, 3, 224, 224])\n",
            "[INFO] Adversarial example generated for image 62/64: Shape torch.Size([1, 3, 224, 224])\n",
            "[INFO] Adversarial example generated for image 63/64: Shape torch.Size([1, 3, 224, 224])\n"
          ]
        },
        {
          "output_type": "stream",
          "name": "stderr",
          "text": [
            "\rGenerating Adversarial Examples:  12%|█▎        | 2/16 [03:00<21:09, 90.66s/it]"
          ]
        },
        {
          "output_type": "stream",
          "name": "stdout",
          "text": [
            "[INFO] Adversarial example generated for image 64/64: Shape torch.Size([1, 3, 224, 224])\n",
            "Batch adversarial images length: 64\n",
            "Batch 3/16 started.\n",
            "[INFO] Adversarial example generated for image 1/64: Shape torch.Size([1, 3, 224, 224])\n",
            "[INFO] Adversarial example generated for image 2/64: Shape torch.Size([1, 3, 224, 224])\n",
            "[INFO] Adversarial example generated for image 3/64: Shape torch.Size([1, 3, 224, 224])\n",
            "[INFO] Adversarial example generated for image 4/64: Shape torch.Size([1, 3, 224, 224])\n",
            "[INFO] Adversarial example generated for image 5/64: Shape torch.Size([1, 3, 224, 224])\n",
            "[INFO] Adversarial example generated for image 6/64: Shape torch.Size([1, 3, 224, 224])\n",
            "[INFO] Adversarial example generated for image 7/64: Shape torch.Size([1, 3, 224, 224])\n",
            "[INFO] Adversarial example generated for image 8/64: Shape torch.Size([1, 3, 224, 224])\n",
            "[INFO] Adversarial example generated for image 9/64: Shape torch.Size([1, 3, 224, 224])\n",
            "[INFO] Adversarial example generated for image 10/64: Shape torch.Size([1, 3, 224, 224])\n",
            "[INFO] Adversarial example generated for image 11/64: Shape torch.Size([1, 3, 224, 224])\n",
            "[INFO] Adversarial example generated for image 12/64: Shape torch.Size([1, 3, 224, 224])\n",
            "[INFO] Adversarial example generated for image 13/64: Shape torch.Size([1, 3, 224, 224])\n",
            "[INFO] Adversarial example generated for image 14/64: Shape torch.Size([1, 3, 224, 224])\n",
            "[INFO] Adversarial example generated for image 15/64: Shape torch.Size([1, 3, 224, 224])\n",
            "[INFO] Adversarial example generated for image 16/64: Shape torch.Size([1, 3, 224, 224])\n",
            "[INFO] Adversarial example generated for image 17/64: Shape torch.Size([1, 3, 224, 224])\n",
            "[INFO] Adversarial example generated for image 18/64: Shape torch.Size([1, 3, 224, 224])\n",
            "[INFO] Adversarial example generated for image 19/64: Shape torch.Size([1, 3, 224, 224])\n",
            "[INFO] Adversarial example generated for image 20/64: Shape torch.Size([1, 3, 224, 224])\n",
            "[INFO] Adversarial example generated for image 21/64: Shape torch.Size([1, 3, 224, 224])\n",
            "[INFO] Adversarial example generated for image 22/64: Shape torch.Size([1, 3, 224, 224])\n",
            "[INFO] Adversarial example generated for image 23/64: Shape torch.Size([1, 3, 224, 224])\n",
            "[INFO] Adversarial example generated for image 24/64: Shape torch.Size([1, 3, 224, 224])\n",
            "[INFO] Adversarial example generated for image 25/64: Shape torch.Size([1, 3, 224, 224])\n",
            "[INFO] Adversarial example generated for image 26/64: Shape torch.Size([1, 3, 224, 224])\n",
            "[INFO] Adversarial example generated for image 27/64: Shape torch.Size([1, 3, 224, 224])\n",
            "[INFO] Adversarial example generated for image 28/64: Shape torch.Size([1, 3, 224, 224])\n",
            "[INFO] Adversarial example generated for image 29/64: Shape torch.Size([1, 3, 224, 224])\n",
            "[INFO] Adversarial example generated for image 30/64: Shape torch.Size([1, 3, 224, 224])\n",
            "[INFO] Adversarial example generated for image 31/64: Shape torch.Size([1, 3, 224, 224])\n",
            "[INFO] Adversarial example generated for image 32/64: Shape torch.Size([1, 3, 224, 224])\n",
            "[INFO] Adversarial example generated for image 33/64: Shape torch.Size([1, 3, 224, 224])\n",
            "[INFO] Adversarial example generated for image 34/64: Shape torch.Size([1, 3, 224, 224])\n",
            "[INFO] Adversarial example generated for image 35/64: Shape torch.Size([1, 3, 224, 224])\n",
            "[INFO] Adversarial example generated for image 36/64: Shape torch.Size([1, 3, 224, 224])\n",
            "[INFO] Adversarial example generated for image 37/64: Shape torch.Size([1, 3, 224, 224])\n",
            "[INFO] Adversarial example generated for image 38/64: Shape torch.Size([1, 3, 224, 224])\n",
            "[INFO] Adversarial example generated for image 39/64: Shape torch.Size([1, 3, 224, 224])\n",
            "[INFO] Adversarial example generated for image 40/64: Shape torch.Size([1, 3, 224, 224])\n",
            "[INFO] Adversarial example generated for image 41/64: Shape torch.Size([1, 3, 224, 224])\n",
            "[INFO] Adversarial example generated for image 42/64: Shape torch.Size([1, 3, 224, 224])\n",
            "[INFO] Adversarial example generated for image 43/64: Shape torch.Size([1, 3, 224, 224])\n",
            "[INFO] Adversarial example generated for image 44/64: Shape torch.Size([1, 3, 224, 224])\n",
            "[INFO] Adversarial example generated for image 45/64: Shape torch.Size([1, 3, 224, 224])\n",
            "[INFO] Adversarial example generated for image 46/64: Shape torch.Size([1, 3, 224, 224])\n",
            "[INFO] Adversarial example generated for image 47/64: Shape torch.Size([1, 3, 224, 224])\n",
            "[INFO] Adversarial example generated for image 48/64: Shape torch.Size([1, 3, 224, 224])\n",
            "[INFO] Adversarial example generated for image 49/64: Shape torch.Size([1, 3, 224, 224])\n",
            "[INFO] Adversarial example generated for image 50/64: Shape torch.Size([1, 3, 224, 224])\n",
            "[INFO] Adversarial example generated for image 51/64: Shape torch.Size([1, 3, 224, 224])\n",
            "[INFO] Adversarial example generated for image 52/64: Shape torch.Size([1, 3, 224, 224])\n",
            "[INFO] Adversarial example generated for image 53/64: Shape torch.Size([1, 3, 224, 224])\n",
            "[INFO] Adversarial example generated for image 54/64: Shape torch.Size([1, 3, 224, 224])\n",
            "[INFO] Adversarial example generated for image 55/64: Shape torch.Size([1, 3, 224, 224])\n",
            "[INFO] Adversarial example generated for image 56/64: Shape torch.Size([1, 3, 224, 224])\n",
            "[INFO] Adversarial example generated for image 57/64: Shape torch.Size([1, 3, 224, 224])\n",
            "[INFO] Adversarial example generated for image 58/64: Shape torch.Size([1, 3, 224, 224])\n",
            "[INFO] Adversarial example generated for image 59/64: Shape torch.Size([1, 3, 224, 224])\n",
            "[INFO] Adversarial example generated for image 60/64: Shape torch.Size([1, 3, 224, 224])\n",
            "[INFO] Adversarial example generated for image 61/64: Shape torch.Size([1, 3, 224, 224])\n",
            "[INFO] Adversarial example generated for image 62/64: Shape torch.Size([1, 3, 224, 224])\n",
            "[INFO] Adversarial example generated for image 63/64: Shape torch.Size([1, 3, 224, 224])\n"
          ]
        },
        {
          "output_type": "stream",
          "name": "stderr",
          "text": [
            "\rGenerating Adversarial Examples:  19%|█▉        | 3/16 [04:32<19:50, 91.56s/it]"
          ]
        },
        {
          "output_type": "stream",
          "name": "stdout",
          "text": [
            "[INFO] Adversarial example generated for image 64/64: Shape torch.Size([1, 3, 224, 224])\n",
            "Batch adversarial images length: 64\n",
            "Batch 4/16 started.\n",
            "[INFO] Adversarial example generated for image 1/64: Shape torch.Size([1, 3, 224, 224])\n",
            "[INFO] Adversarial example generated for image 2/64: Shape torch.Size([1, 3, 224, 224])\n",
            "[INFO] Adversarial example generated for image 3/64: Shape torch.Size([1, 3, 224, 224])\n",
            "[INFO] Adversarial example generated for image 4/64: Shape torch.Size([1, 3, 224, 224])\n",
            "[INFO] Adversarial example generated for image 5/64: Shape torch.Size([1, 3, 224, 224])\n",
            "[INFO] Adversarial example generated for image 6/64: Shape torch.Size([1, 3, 224, 224])\n",
            "[INFO] Adversarial example generated for image 7/64: Shape torch.Size([1, 3, 224, 224])\n",
            "[INFO] Adversarial example generated for image 8/64: Shape torch.Size([1, 3, 224, 224])\n",
            "[INFO] Adversarial example generated for image 9/64: Shape torch.Size([1, 3, 224, 224])\n",
            "[INFO] Adversarial example generated for image 10/64: Shape torch.Size([1, 3, 224, 224])\n",
            "[INFO] Adversarial example generated for image 11/64: Shape torch.Size([1, 3, 224, 224])\n",
            "[INFO] Adversarial example generated for image 12/64: Shape torch.Size([1, 3, 224, 224])\n",
            "[INFO] Adversarial example generated for image 13/64: Shape torch.Size([1, 3, 224, 224])\n",
            "[INFO] Adversarial example generated for image 14/64: Shape torch.Size([1, 3, 224, 224])\n",
            "[INFO] Adversarial example generated for image 15/64: Shape torch.Size([1, 3, 224, 224])\n",
            "[INFO] Adversarial example generated for image 16/64: Shape torch.Size([1, 3, 224, 224])\n",
            "[INFO] Adversarial example generated for image 17/64: Shape torch.Size([1, 3, 224, 224])\n",
            "[INFO] Adversarial example generated for image 18/64: Shape torch.Size([1, 3, 224, 224])\n",
            "[INFO] Adversarial example generated for image 19/64: Shape torch.Size([1, 3, 224, 224])\n",
            "[INFO] Adversarial example generated for image 20/64: Shape torch.Size([1, 3, 224, 224])\n",
            "[INFO] Adversarial example generated for image 21/64: Shape torch.Size([1, 3, 224, 224])\n",
            "[INFO] Adversarial example generated for image 22/64: Shape torch.Size([1, 3, 224, 224])\n",
            "[INFO] Adversarial example generated for image 23/64: Shape torch.Size([1, 3, 224, 224])\n",
            "[INFO] Adversarial example generated for image 24/64: Shape torch.Size([1, 3, 224, 224])\n",
            "[INFO] Adversarial example generated for image 25/64: Shape torch.Size([1, 3, 224, 224])\n",
            "[INFO] Adversarial example generated for image 26/64: Shape torch.Size([1, 3, 224, 224])\n",
            "[INFO] Adversarial example generated for image 27/64: Shape torch.Size([1, 3, 224, 224])\n",
            "[INFO] Adversarial example generated for image 28/64: Shape torch.Size([1, 3, 224, 224])\n",
            "[INFO] Adversarial example generated for image 29/64: Shape torch.Size([1, 3, 224, 224])\n",
            "[INFO] Adversarial example generated for image 30/64: Shape torch.Size([1, 3, 224, 224])\n",
            "[INFO] Adversarial example generated for image 31/64: Shape torch.Size([1, 3, 224, 224])\n",
            "[INFO] Adversarial example generated for image 32/64: Shape torch.Size([1, 3, 224, 224])\n",
            "[INFO] Adversarial example generated for image 33/64: Shape torch.Size([1, 3, 224, 224])\n",
            "[INFO] Adversarial example generated for image 34/64: Shape torch.Size([1, 3, 224, 224])\n",
            "[INFO] Adversarial example generated for image 35/64: Shape torch.Size([1, 3, 224, 224])\n",
            "[INFO] Adversarial example generated for image 36/64: Shape torch.Size([1, 3, 224, 224])\n",
            "[INFO] Adversarial example generated for image 37/64: Shape torch.Size([1, 3, 224, 224])\n",
            "[INFO] Adversarial example generated for image 38/64: Shape torch.Size([1, 3, 224, 224])\n",
            "[INFO] Adversarial example generated for image 39/64: Shape torch.Size([1, 3, 224, 224])\n",
            "[INFO] Adversarial example generated for image 40/64: Shape torch.Size([1, 3, 224, 224])\n",
            "[INFO] Adversarial example generated for image 41/64: Shape torch.Size([1, 3, 224, 224])\n",
            "[INFO] Adversarial example generated for image 42/64: Shape torch.Size([1, 3, 224, 224])\n",
            "[INFO] Adversarial example generated for image 43/64: Shape torch.Size([1, 3, 224, 224])\n",
            "[INFO] Adversarial example generated for image 44/64: Shape torch.Size([1, 3, 224, 224])\n",
            "[INFO] Adversarial example generated for image 45/64: Shape torch.Size([1, 3, 224, 224])\n",
            "[INFO] Adversarial example generated for image 46/64: Shape torch.Size([1, 3, 224, 224])\n",
            "[INFO] Adversarial example generated for image 47/64: Shape torch.Size([1, 3, 224, 224])\n",
            "[INFO] Adversarial example generated for image 48/64: Shape torch.Size([1, 3, 224, 224])\n",
            "[INFO] Adversarial example generated for image 49/64: Shape torch.Size([1, 3, 224, 224])\n",
            "[INFO] Adversarial example generated for image 50/64: Shape torch.Size([1, 3, 224, 224])\n",
            "[INFO] Adversarial example generated for image 51/64: Shape torch.Size([1, 3, 224, 224])\n",
            "[INFO] Adversarial example generated for image 52/64: Shape torch.Size([1, 3, 224, 224])\n",
            "[INFO] Adversarial example generated for image 53/64: Shape torch.Size([1, 3, 224, 224])\n",
            "[INFO] Adversarial example generated for image 54/64: Shape torch.Size([1, 3, 224, 224])\n",
            "[INFO] Adversarial example generated for image 55/64: Shape torch.Size([1, 3, 224, 224])\n",
            "[INFO] Adversarial example generated for image 56/64: Shape torch.Size([1, 3, 224, 224])\n",
            "[INFO] Adversarial example generated for image 57/64: Shape torch.Size([1, 3, 224, 224])\n",
            "[INFO] Adversarial example generated for image 58/64: Shape torch.Size([1, 3, 224, 224])\n",
            "[INFO] Adversarial example generated for image 59/64: Shape torch.Size([1, 3, 224, 224])\n",
            "[INFO] Adversarial example generated for image 60/64: Shape torch.Size([1, 3, 224, 224])\n",
            "[INFO] Adversarial example generated for image 61/64: Shape torch.Size([1, 3, 224, 224])\n",
            "[INFO] Adversarial example generated for image 62/64: Shape torch.Size([1, 3, 224, 224])\n",
            "[INFO] Adversarial example generated for image 63/64: Shape torch.Size([1, 3, 224, 224])\n"
          ]
        },
        {
          "output_type": "stream",
          "name": "stderr",
          "text": [
            "\rGenerating Adversarial Examples:  25%|██▌       | 4/16 [06:04<18:18, 91.53s/it]"
          ]
        },
        {
          "output_type": "stream",
          "name": "stdout",
          "text": [
            "[INFO] Adversarial example generated for image 64/64: Shape torch.Size([1, 3, 224, 224])\n",
            "Batch adversarial images length: 64\n",
            "Batch 5/16 started.\n",
            "[INFO] Adversarial example generated for image 1/64: Shape torch.Size([1, 3, 224, 224])\n",
            "[INFO] Adversarial example generated for image 2/64: Shape torch.Size([1, 3, 224, 224])\n",
            "[INFO] Adversarial example generated for image 3/64: Shape torch.Size([1, 3, 224, 224])\n",
            "[INFO] Adversarial example generated for image 4/64: Shape torch.Size([1, 3, 224, 224])\n",
            "[INFO] Adversarial example generated for image 5/64: Shape torch.Size([1, 3, 224, 224])\n",
            "[INFO] Adversarial example generated for image 6/64: Shape torch.Size([1, 3, 224, 224])\n",
            "[INFO] Adversarial example generated for image 7/64: Shape torch.Size([1, 3, 224, 224])\n",
            "[INFO] Adversarial example generated for image 8/64: Shape torch.Size([1, 3, 224, 224])\n",
            "[INFO] Adversarial example generated for image 9/64: Shape torch.Size([1, 3, 224, 224])\n",
            "[INFO] Adversarial example generated for image 10/64: Shape torch.Size([1, 3, 224, 224])\n",
            "[INFO] Adversarial example generated for image 11/64: Shape torch.Size([1, 3, 224, 224])\n",
            "[INFO] Adversarial example generated for image 12/64: Shape torch.Size([1, 3, 224, 224])\n",
            "[INFO] Adversarial example generated for image 13/64: Shape torch.Size([1, 3, 224, 224])\n",
            "[INFO] Adversarial example generated for image 14/64: Shape torch.Size([1, 3, 224, 224])\n",
            "[INFO] Adversarial example generated for image 15/64: Shape torch.Size([1, 3, 224, 224])\n",
            "[INFO] Adversarial example generated for image 16/64: Shape torch.Size([1, 3, 224, 224])\n",
            "[INFO] Adversarial example generated for image 17/64: Shape torch.Size([1, 3, 224, 224])\n",
            "[INFO] Adversarial example generated for image 18/64: Shape torch.Size([1, 3, 224, 224])\n",
            "[INFO] Adversarial example generated for image 19/64: Shape torch.Size([1, 3, 224, 224])\n",
            "[INFO] Adversarial example generated for image 20/64: Shape torch.Size([1, 3, 224, 224])\n",
            "[INFO] Adversarial example generated for image 21/64: Shape torch.Size([1, 3, 224, 224])\n",
            "[INFO] Adversarial example generated for image 22/64: Shape torch.Size([1, 3, 224, 224])\n",
            "[INFO] Adversarial example generated for image 23/64: Shape torch.Size([1, 3, 224, 224])\n",
            "[INFO] Adversarial example generated for image 24/64: Shape torch.Size([1, 3, 224, 224])\n",
            "[INFO] Adversarial example generated for image 25/64: Shape torch.Size([1, 3, 224, 224])\n",
            "[INFO] Adversarial example generated for image 26/64: Shape torch.Size([1, 3, 224, 224])\n",
            "[INFO] Adversarial example generated for image 27/64: Shape torch.Size([1, 3, 224, 224])\n",
            "[INFO] Adversarial example generated for image 28/64: Shape torch.Size([1, 3, 224, 224])\n",
            "[INFO] Adversarial example generated for image 29/64: Shape torch.Size([1, 3, 224, 224])\n",
            "[INFO] Adversarial example generated for image 30/64: Shape torch.Size([1, 3, 224, 224])\n",
            "[INFO] Adversarial example generated for image 31/64: Shape torch.Size([1, 3, 224, 224])\n",
            "[INFO] Adversarial example generated for image 32/64: Shape torch.Size([1, 3, 224, 224])\n",
            "[INFO] Adversarial example generated for image 33/64: Shape torch.Size([1, 3, 224, 224])\n",
            "[INFO] Adversarial example generated for image 34/64: Shape torch.Size([1, 3, 224, 224])\n",
            "[INFO] Adversarial example generated for image 35/64: Shape torch.Size([1, 3, 224, 224])\n",
            "[INFO] Adversarial example generated for image 36/64: Shape torch.Size([1, 3, 224, 224])\n",
            "[INFO] Adversarial example generated for image 37/64: Shape torch.Size([1, 3, 224, 224])\n",
            "[INFO] Adversarial example generated for image 38/64: Shape torch.Size([1, 3, 224, 224])\n",
            "[INFO] Adversarial example generated for image 39/64: Shape torch.Size([1, 3, 224, 224])\n",
            "[INFO] Adversarial example generated for image 40/64: Shape torch.Size([1, 3, 224, 224])\n",
            "[INFO] Adversarial example generated for image 41/64: Shape torch.Size([1, 3, 224, 224])\n",
            "[INFO] Adversarial example generated for image 42/64: Shape torch.Size([1, 3, 224, 224])\n",
            "[INFO] Adversarial example generated for image 43/64: Shape torch.Size([1, 3, 224, 224])\n",
            "[INFO] Adversarial example generated for image 44/64: Shape torch.Size([1, 3, 224, 224])\n",
            "[INFO] Adversarial example generated for image 45/64: Shape torch.Size([1, 3, 224, 224])\n",
            "[INFO] Adversarial example generated for image 46/64: Shape torch.Size([1, 3, 224, 224])\n",
            "[INFO] Adversarial example generated for image 47/64: Shape torch.Size([1, 3, 224, 224])\n",
            "[INFO] Adversarial example generated for image 48/64: Shape torch.Size([1, 3, 224, 224])\n",
            "[INFO] Adversarial example generated for image 49/64: Shape torch.Size([1, 3, 224, 224])\n",
            "[INFO] Adversarial example generated for image 50/64: Shape torch.Size([1, 3, 224, 224])\n",
            "[INFO] Adversarial example generated for image 51/64: Shape torch.Size([1, 3, 224, 224])\n",
            "[INFO] Adversarial example generated for image 52/64: Shape torch.Size([1, 3, 224, 224])\n",
            "[INFO] Adversarial example generated for image 53/64: Shape torch.Size([1, 3, 224, 224])\n",
            "[INFO] Adversarial example generated for image 54/64: Shape torch.Size([1, 3, 224, 224])\n",
            "[INFO] Adversarial example generated for image 55/64: Shape torch.Size([1, 3, 224, 224])\n",
            "[INFO] Adversarial example generated for image 56/64: Shape torch.Size([1, 3, 224, 224])\n",
            "[INFO] Adversarial example generated for image 57/64: Shape torch.Size([1, 3, 224, 224])\n",
            "[INFO] Adversarial example generated for image 58/64: Shape torch.Size([1, 3, 224, 224])\n",
            "[INFO] Adversarial example generated for image 59/64: Shape torch.Size([1, 3, 224, 224])\n",
            "[INFO] Adversarial example generated for image 60/64: Shape torch.Size([1, 3, 224, 224])\n",
            "[INFO] Adversarial example generated for image 61/64: Shape torch.Size([1, 3, 224, 224])\n",
            "[INFO] Adversarial example generated for image 62/64: Shape torch.Size([1, 3, 224, 224])\n",
            "[INFO] Adversarial example generated for image 63/64: Shape torch.Size([1, 3, 224, 224])\n"
          ]
        },
        {
          "output_type": "stream",
          "name": "stderr",
          "text": [
            "\rGenerating Adversarial Examples:  31%|███▏      | 5/16 [07:37<16:53, 92.13s/it]"
          ]
        },
        {
          "output_type": "stream",
          "name": "stdout",
          "text": [
            "[INFO] Adversarial example generated for image 64/64: Shape torch.Size([1, 3, 224, 224])\n",
            "Batch adversarial images length: 64\n",
            "Batch 6/16 started.\n",
            "[INFO] Adversarial example generated for image 1/64: Shape torch.Size([1, 3, 224, 224])\n",
            "[INFO] Adversarial example generated for image 2/64: Shape torch.Size([1, 3, 224, 224])\n",
            "[INFO] Adversarial example generated for image 3/64: Shape torch.Size([1, 3, 224, 224])\n",
            "[INFO] Adversarial example generated for image 4/64: Shape torch.Size([1, 3, 224, 224])\n",
            "[INFO] Adversarial example generated for image 5/64: Shape torch.Size([1, 3, 224, 224])\n",
            "[INFO] Adversarial example generated for image 6/64: Shape torch.Size([1, 3, 224, 224])\n",
            "[INFO] Adversarial example generated for image 7/64: Shape torch.Size([1, 3, 224, 224])\n",
            "[INFO] Adversarial example generated for image 8/64: Shape torch.Size([1, 3, 224, 224])\n",
            "[INFO] Adversarial example generated for image 9/64: Shape torch.Size([1, 3, 224, 224])\n",
            "[INFO] Adversarial example generated for image 10/64: Shape torch.Size([1, 3, 224, 224])\n",
            "[INFO] Adversarial example generated for image 11/64: Shape torch.Size([1, 3, 224, 224])\n",
            "[INFO] Adversarial example generated for image 12/64: Shape torch.Size([1, 3, 224, 224])\n",
            "[INFO] Adversarial example generated for image 13/64: Shape torch.Size([1, 3, 224, 224])\n",
            "[INFO] Adversarial example generated for image 14/64: Shape torch.Size([1, 3, 224, 224])\n",
            "[INFO] Adversarial example generated for image 15/64: Shape torch.Size([1, 3, 224, 224])\n",
            "[INFO] Adversarial example generated for image 16/64: Shape torch.Size([1, 3, 224, 224])\n",
            "[INFO] Adversarial example generated for image 17/64: Shape torch.Size([1, 3, 224, 224])\n",
            "[INFO] Adversarial example generated for image 18/64: Shape torch.Size([1, 3, 224, 224])\n",
            "[INFO] Adversarial example generated for image 19/64: Shape torch.Size([1, 3, 224, 224])\n",
            "[INFO] Adversarial example generated for image 20/64: Shape torch.Size([1, 3, 224, 224])\n",
            "[INFO] Adversarial example generated for image 21/64: Shape torch.Size([1, 3, 224, 224])\n",
            "[INFO] Adversarial example generated for image 22/64: Shape torch.Size([1, 3, 224, 224])\n",
            "[INFO] Adversarial example generated for image 23/64: Shape torch.Size([1, 3, 224, 224])\n",
            "[INFO] Adversarial example generated for image 24/64: Shape torch.Size([1, 3, 224, 224])\n",
            "[INFO] Adversarial example generated for image 25/64: Shape torch.Size([1, 3, 224, 224])\n",
            "[INFO] Adversarial example generated for image 26/64: Shape torch.Size([1, 3, 224, 224])\n",
            "[INFO] Adversarial example generated for image 27/64: Shape torch.Size([1, 3, 224, 224])\n",
            "[INFO] Adversarial example generated for image 28/64: Shape torch.Size([1, 3, 224, 224])\n",
            "[INFO] Adversarial example generated for image 29/64: Shape torch.Size([1, 3, 224, 224])\n",
            "[INFO] Adversarial example generated for image 30/64: Shape torch.Size([1, 3, 224, 224])\n",
            "[INFO] Adversarial example generated for image 31/64: Shape torch.Size([1, 3, 224, 224])\n",
            "[INFO] Adversarial example generated for image 32/64: Shape torch.Size([1, 3, 224, 224])\n",
            "[INFO] Adversarial example generated for image 33/64: Shape torch.Size([1, 3, 224, 224])\n",
            "[INFO] Adversarial example generated for image 34/64: Shape torch.Size([1, 3, 224, 224])\n",
            "[INFO] Adversarial example generated for image 35/64: Shape torch.Size([1, 3, 224, 224])\n",
            "[INFO] Adversarial example generated for image 36/64: Shape torch.Size([1, 3, 224, 224])\n",
            "[INFO] Adversarial example generated for image 37/64: Shape torch.Size([1, 3, 224, 224])\n",
            "[INFO] Adversarial example generated for image 38/64: Shape torch.Size([1, 3, 224, 224])\n",
            "[INFO] Adversarial example generated for image 39/64: Shape torch.Size([1, 3, 224, 224])\n",
            "[INFO] Adversarial example generated for image 40/64: Shape torch.Size([1, 3, 224, 224])\n",
            "[INFO] Adversarial example generated for image 41/64: Shape torch.Size([1, 3, 224, 224])\n",
            "[INFO] Adversarial example generated for image 42/64: Shape torch.Size([1, 3, 224, 224])\n",
            "[INFO] Adversarial example generated for image 43/64: Shape torch.Size([1, 3, 224, 224])\n",
            "[INFO] Adversarial example generated for image 44/64: Shape torch.Size([1, 3, 224, 224])\n",
            "[INFO] Adversarial example generated for image 45/64: Shape torch.Size([1, 3, 224, 224])\n",
            "[INFO] Adversarial example generated for image 46/64: Shape torch.Size([1, 3, 224, 224])\n",
            "[INFO] Adversarial example generated for image 47/64: Shape torch.Size([1, 3, 224, 224])\n",
            "[INFO] Adversarial example generated for image 48/64: Shape torch.Size([1, 3, 224, 224])\n",
            "[INFO] Adversarial example generated for image 49/64: Shape torch.Size([1, 3, 224, 224])\n",
            "[INFO] Adversarial example generated for image 50/64: Shape torch.Size([1, 3, 224, 224])\n",
            "[INFO] Adversarial example generated for image 51/64: Shape torch.Size([1, 3, 224, 224])\n",
            "[INFO] Adversarial example generated for image 52/64: Shape torch.Size([1, 3, 224, 224])\n",
            "[INFO] Adversarial example generated for image 53/64: Shape torch.Size([1, 3, 224, 224])\n",
            "[INFO] Adversarial example generated for image 54/64: Shape torch.Size([1, 3, 224, 224])\n",
            "[INFO] Adversarial example generated for image 55/64: Shape torch.Size([1, 3, 224, 224])\n",
            "[INFO] Adversarial example generated for image 56/64: Shape torch.Size([1, 3, 224, 224])\n",
            "[INFO] Adversarial example generated for image 57/64: Shape torch.Size([1, 3, 224, 224])\n",
            "[INFO] Adversarial example generated for image 58/64: Shape torch.Size([1, 3, 224, 224])\n",
            "[INFO] Adversarial example generated for image 59/64: Shape torch.Size([1, 3, 224, 224])\n",
            "[INFO] Adversarial example generated for image 60/64: Shape torch.Size([1, 3, 224, 224])\n",
            "[INFO] Adversarial example generated for image 61/64: Shape torch.Size([1, 3, 224, 224])\n",
            "[INFO] Adversarial example generated for image 62/64: Shape torch.Size([1, 3, 224, 224])\n",
            "[INFO] Adversarial example generated for image 63/64: Shape torch.Size([1, 3, 224, 224])\n"
          ]
        },
        {
          "output_type": "stream",
          "name": "stderr",
          "text": [
            "\rGenerating Adversarial Examples:  38%|███▊      | 6/16 [09:09<15:19, 91.99s/it]"
          ]
        },
        {
          "output_type": "stream",
          "name": "stdout",
          "text": [
            "[INFO] Adversarial example generated for image 64/64: Shape torch.Size([1, 3, 224, 224])\n",
            "Batch adversarial images length: 64\n",
            "Batch 7/16 started.\n",
            "[INFO] Adversarial example generated for image 1/64: Shape torch.Size([1, 3, 224, 224])\n",
            "[INFO] Adversarial example generated for image 2/64: Shape torch.Size([1, 3, 224, 224])\n",
            "[INFO] Adversarial example generated for image 3/64: Shape torch.Size([1, 3, 224, 224])\n",
            "[INFO] Adversarial example generated for image 4/64: Shape torch.Size([1, 3, 224, 224])\n",
            "[INFO] Adversarial example generated for image 5/64: Shape torch.Size([1, 3, 224, 224])\n",
            "[INFO] Adversarial example generated for image 6/64: Shape torch.Size([1, 3, 224, 224])\n",
            "[INFO] Adversarial example generated for image 7/64: Shape torch.Size([1, 3, 224, 224])\n",
            "[INFO] Adversarial example generated for image 8/64: Shape torch.Size([1, 3, 224, 224])\n",
            "[INFO] Adversarial example generated for image 9/64: Shape torch.Size([1, 3, 224, 224])\n",
            "[INFO] Adversarial example generated for image 10/64: Shape torch.Size([1, 3, 224, 224])\n",
            "[INFO] Adversarial example generated for image 11/64: Shape torch.Size([1, 3, 224, 224])\n",
            "[INFO] Adversarial example generated for image 12/64: Shape torch.Size([1, 3, 224, 224])\n",
            "[INFO] Adversarial example generated for image 13/64: Shape torch.Size([1, 3, 224, 224])\n",
            "[INFO] Adversarial example generated for image 14/64: Shape torch.Size([1, 3, 224, 224])\n",
            "[INFO] Adversarial example generated for image 15/64: Shape torch.Size([1, 3, 224, 224])\n",
            "[INFO] Adversarial example generated for image 16/64: Shape torch.Size([1, 3, 224, 224])\n",
            "[INFO] Adversarial example generated for image 17/64: Shape torch.Size([1, 3, 224, 224])\n",
            "[INFO] Adversarial example generated for image 18/64: Shape torch.Size([1, 3, 224, 224])\n",
            "[INFO] Adversarial example generated for image 19/64: Shape torch.Size([1, 3, 224, 224])\n",
            "[INFO] Adversarial example generated for image 20/64: Shape torch.Size([1, 3, 224, 224])\n",
            "[INFO] Adversarial example generated for image 21/64: Shape torch.Size([1, 3, 224, 224])\n",
            "[INFO] Adversarial example generated for image 22/64: Shape torch.Size([1, 3, 224, 224])\n",
            "[INFO] Adversarial example generated for image 23/64: Shape torch.Size([1, 3, 224, 224])\n",
            "[INFO] Adversarial example generated for image 24/64: Shape torch.Size([1, 3, 224, 224])\n",
            "[INFO] Adversarial example generated for image 25/64: Shape torch.Size([1, 3, 224, 224])\n",
            "[INFO] Adversarial example generated for image 26/64: Shape torch.Size([1, 3, 224, 224])\n",
            "[INFO] Adversarial example generated for image 27/64: Shape torch.Size([1, 3, 224, 224])\n",
            "[INFO] Adversarial example generated for image 28/64: Shape torch.Size([1, 3, 224, 224])\n",
            "[INFO] Adversarial example generated for image 29/64: Shape torch.Size([1, 3, 224, 224])\n",
            "[INFO] Adversarial example generated for image 30/64: Shape torch.Size([1, 3, 224, 224])\n",
            "[INFO] Adversarial example generated for image 31/64: Shape torch.Size([1, 3, 224, 224])\n",
            "[INFO] Adversarial example generated for image 32/64: Shape torch.Size([1, 3, 224, 224])\n",
            "[INFO] Adversarial example generated for image 33/64: Shape torch.Size([1, 3, 224, 224])\n",
            "[INFO] Adversarial example generated for image 34/64: Shape torch.Size([1, 3, 224, 224])\n",
            "[INFO] Adversarial example generated for image 35/64: Shape torch.Size([1, 3, 224, 224])\n",
            "[INFO] Adversarial example generated for image 36/64: Shape torch.Size([1, 3, 224, 224])\n",
            "[INFO] Adversarial example generated for image 37/64: Shape torch.Size([1, 3, 224, 224])\n",
            "[INFO] Adversarial example generated for image 38/64: Shape torch.Size([1, 3, 224, 224])\n",
            "[INFO] Adversarial example generated for image 39/64: Shape torch.Size([1, 3, 224, 224])\n",
            "[INFO] Adversarial example generated for image 40/64: Shape torch.Size([1, 3, 224, 224])\n",
            "[INFO] Adversarial example generated for image 41/64: Shape torch.Size([1, 3, 224, 224])\n",
            "[INFO] Adversarial example generated for image 42/64: Shape torch.Size([1, 3, 224, 224])\n",
            "[INFO] Adversarial example generated for image 43/64: Shape torch.Size([1, 3, 224, 224])\n",
            "[INFO] Adversarial example generated for image 44/64: Shape torch.Size([1, 3, 224, 224])\n",
            "[INFO] Adversarial example generated for image 45/64: Shape torch.Size([1, 3, 224, 224])\n",
            "[INFO] Adversarial example generated for image 46/64: Shape torch.Size([1, 3, 224, 224])\n",
            "[INFO] Adversarial example generated for image 47/64: Shape torch.Size([1, 3, 224, 224])\n",
            "[INFO] Adversarial example generated for image 48/64: Shape torch.Size([1, 3, 224, 224])\n",
            "[INFO] Adversarial example generated for image 49/64: Shape torch.Size([1, 3, 224, 224])\n",
            "[INFO] Adversarial example generated for image 50/64: Shape torch.Size([1, 3, 224, 224])\n",
            "[INFO] Adversarial example generated for image 51/64: Shape torch.Size([1, 3, 224, 224])\n",
            "[INFO] Adversarial example generated for image 52/64: Shape torch.Size([1, 3, 224, 224])\n",
            "[INFO] Adversarial example generated for image 53/64: Shape torch.Size([1, 3, 224, 224])\n",
            "[INFO] Adversarial example generated for image 54/64: Shape torch.Size([1, 3, 224, 224])\n",
            "[INFO] Adversarial example generated for image 55/64: Shape torch.Size([1, 3, 224, 224])\n",
            "[INFO] Adversarial example generated for image 56/64: Shape torch.Size([1, 3, 224, 224])\n",
            "[INFO] Adversarial example generated for image 57/64: Shape torch.Size([1, 3, 224, 224])\n",
            "[INFO] Adversarial example generated for image 58/64: Shape torch.Size([1, 3, 224, 224])\n",
            "[INFO] Adversarial example generated for image 59/64: Shape torch.Size([1, 3, 224, 224])\n",
            "[INFO] Adversarial example generated for image 60/64: Shape torch.Size([1, 3, 224, 224])\n",
            "[INFO] Adversarial example generated for image 61/64: Shape torch.Size([1, 3, 224, 224])\n",
            "[INFO] Adversarial example generated for image 62/64: Shape torch.Size([1, 3, 224, 224])\n",
            "[INFO] Adversarial example generated for image 63/64: Shape torch.Size([1, 3, 224, 224])\n"
          ]
        },
        {
          "output_type": "stream",
          "name": "stderr",
          "text": [
            "\rGenerating Adversarial Examples:  44%|████▍     | 7/16 [10:38<13:38, 90.93s/it]"
          ]
        },
        {
          "output_type": "stream",
          "name": "stdout",
          "text": [
            "[INFO] Adversarial example generated for image 64/64: Shape torch.Size([1, 3, 224, 224])\n",
            "Batch adversarial images length: 64\n",
            "Batch 8/16 started.\n",
            "[INFO] Adversarial example generated for image 1/64: Shape torch.Size([1, 3, 224, 224])\n",
            "[INFO] Adversarial example generated for image 2/64: Shape torch.Size([1, 3, 224, 224])\n",
            "[INFO] Adversarial example generated for image 3/64: Shape torch.Size([1, 3, 224, 224])\n",
            "[INFO] Adversarial example generated for image 4/64: Shape torch.Size([1, 3, 224, 224])\n",
            "[INFO] Adversarial example generated for image 5/64: Shape torch.Size([1, 3, 224, 224])\n",
            "[INFO] Adversarial example generated for image 6/64: Shape torch.Size([1, 3, 224, 224])\n",
            "[INFO] Adversarial example generated for image 7/64: Shape torch.Size([1, 3, 224, 224])\n",
            "[INFO] Adversarial example generated for image 8/64: Shape torch.Size([1, 3, 224, 224])\n",
            "[INFO] Adversarial example generated for image 9/64: Shape torch.Size([1, 3, 224, 224])\n",
            "[INFO] Adversarial example generated for image 10/64: Shape torch.Size([1, 3, 224, 224])\n",
            "[INFO] Adversarial example generated for image 11/64: Shape torch.Size([1, 3, 224, 224])\n",
            "[INFO] Adversarial example generated for image 12/64: Shape torch.Size([1, 3, 224, 224])\n",
            "[INFO] Adversarial example generated for image 13/64: Shape torch.Size([1, 3, 224, 224])\n",
            "[INFO] Adversarial example generated for image 14/64: Shape torch.Size([1, 3, 224, 224])\n",
            "[INFO] Adversarial example generated for image 15/64: Shape torch.Size([1, 3, 224, 224])\n",
            "[INFO] Adversarial example generated for image 16/64: Shape torch.Size([1, 3, 224, 224])\n",
            "[INFO] Adversarial example generated for image 17/64: Shape torch.Size([1, 3, 224, 224])\n",
            "[INFO] Adversarial example generated for image 18/64: Shape torch.Size([1, 3, 224, 224])\n",
            "[INFO] Adversarial example generated for image 19/64: Shape torch.Size([1, 3, 224, 224])\n",
            "[INFO] Adversarial example generated for image 20/64: Shape torch.Size([1, 3, 224, 224])\n",
            "[INFO] Adversarial example generated for image 21/64: Shape torch.Size([1, 3, 224, 224])\n",
            "[INFO] Adversarial example generated for image 22/64: Shape torch.Size([1, 3, 224, 224])\n",
            "[INFO] Adversarial example generated for image 23/64: Shape torch.Size([1, 3, 224, 224])\n",
            "[INFO] Adversarial example generated for image 24/64: Shape torch.Size([1, 3, 224, 224])\n",
            "[INFO] Adversarial example generated for image 25/64: Shape torch.Size([1, 3, 224, 224])\n",
            "[INFO] Adversarial example generated for image 26/64: Shape torch.Size([1, 3, 224, 224])\n",
            "[INFO] Adversarial example generated for image 27/64: Shape torch.Size([1, 3, 224, 224])\n",
            "[INFO] Adversarial example generated for image 28/64: Shape torch.Size([1, 3, 224, 224])\n",
            "[INFO] Adversarial example generated for image 29/64: Shape torch.Size([1, 3, 224, 224])\n",
            "[INFO] Adversarial example generated for image 30/64: Shape torch.Size([1, 3, 224, 224])\n",
            "[INFO] Adversarial example generated for image 31/64: Shape torch.Size([1, 3, 224, 224])\n",
            "[INFO] Adversarial example generated for image 32/64: Shape torch.Size([1, 3, 224, 224])\n",
            "[INFO] Adversarial example generated for image 33/64: Shape torch.Size([1, 3, 224, 224])\n",
            "[INFO] Adversarial example generated for image 34/64: Shape torch.Size([1, 3, 224, 224])\n",
            "[INFO] Adversarial example generated for image 35/64: Shape torch.Size([1, 3, 224, 224])\n",
            "[INFO] Adversarial example generated for image 36/64: Shape torch.Size([1, 3, 224, 224])\n",
            "[INFO] Adversarial example generated for image 37/64: Shape torch.Size([1, 3, 224, 224])\n",
            "[INFO] Adversarial example generated for image 38/64: Shape torch.Size([1, 3, 224, 224])\n",
            "[INFO] Adversarial example generated for image 39/64: Shape torch.Size([1, 3, 224, 224])\n",
            "[INFO] Adversarial example generated for image 40/64: Shape torch.Size([1, 3, 224, 224])\n",
            "[INFO] Adversarial example generated for image 41/64: Shape torch.Size([1, 3, 224, 224])\n",
            "[INFO] Adversarial example generated for image 42/64: Shape torch.Size([1, 3, 224, 224])\n",
            "[INFO] Adversarial example generated for image 43/64: Shape torch.Size([1, 3, 224, 224])\n",
            "[INFO] Adversarial example generated for image 44/64: Shape torch.Size([1, 3, 224, 224])\n",
            "[INFO] Adversarial example generated for image 45/64: Shape torch.Size([1, 3, 224, 224])\n",
            "[INFO] Adversarial example generated for image 46/64: Shape torch.Size([1, 3, 224, 224])\n",
            "[INFO] Adversarial example generated for image 47/64: Shape torch.Size([1, 3, 224, 224])\n",
            "[INFO] Adversarial example generated for image 48/64: Shape torch.Size([1, 3, 224, 224])\n",
            "[INFO] Adversarial example generated for image 49/64: Shape torch.Size([1, 3, 224, 224])\n",
            "[INFO] Adversarial example generated for image 50/64: Shape torch.Size([1, 3, 224, 224])\n",
            "[INFO] Adversarial example generated for image 51/64: Shape torch.Size([1, 3, 224, 224])\n",
            "[INFO] Adversarial example generated for image 52/64: Shape torch.Size([1, 3, 224, 224])\n",
            "[INFO] Adversarial example generated for image 53/64: Shape torch.Size([1, 3, 224, 224])\n",
            "[INFO] Adversarial example generated for image 54/64: Shape torch.Size([1, 3, 224, 224])\n",
            "[INFO] Adversarial example generated for image 55/64: Shape torch.Size([1, 3, 224, 224])\n",
            "[INFO] Adversarial example generated for image 56/64: Shape torch.Size([1, 3, 224, 224])\n",
            "[INFO] Adversarial example generated for image 57/64: Shape torch.Size([1, 3, 224, 224])\n",
            "[INFO] Adversarial example generated for image 58/64: Shape torch.Size([1, 3, 224, 224])\n",
            "[INFO] Adversarial example generated for image 59/64: Shape torch.Size([1, 3, 224, 224])\n",
            "[INFO] Adversarial example generated for image 60/64: Shape torch.Size([1, 3, 224, 224])\n",
            "[INFO] Adversarial example generated for image 61/64: Shape torch.Size([1, 3, 224, 224])\n",
            "[INFO] Adversarial example generated for image 62/64: Shape torch.Size([1, 3, 224, 224])\n",
            "[INFO] Adversarial example generated for image 63/64: Shape torch.Size([1, 3, 224, 224])\n"
          ]
        },
        {
          "output_type": "stream",
          "name": "stderr",
          "text": [
            "\rGenerating Adversarial Examples:  50%|█████     | 8/16 [12:06<12:01, 90.24s/it]"
          ]
        },
        {
          "output_type": "stream",
          "name": "stdout",
          "text": [
            "[INFO] Adversarial example generated for image 64/64: Shape torch.Size([1, 3, 224, 224])\n",
            "Batch adversarial images length: 64\n",
            "Batch 9/16 started.\n",
            "[INFO] Adversarial example generated for image 1/64: Shape torch.Size([1, 3, 224, 224])\n",
            "[INFO] Adversarial example generated for image 2/64: Shape torch.Size([1, 3, 224, 224])\n",
            "[INFO] Adversarial example generated for image 3/64: Shape torch.Size([1, 3, 224, 224])\n",
            "[INFO] Adversarial example generated for image 4/64: Shape torch.Size([1, 3, 224, 224])\n",
            "[INFO] Adversarial example generated for image 5/64: Shape torch.Size([1, 3, 224, 224])\n",
            "[INFO] Adversarial example generated for image 6/64: Shape torch.Size([1, 3, 224, 224])\n",
            "[INFO] Adversarial example generated for image 7/64: Shape torch.Size([1, 3, 224, 224])\n",
            "[INFO] Adversarial example generated for image 8/64: Shape torch.Size([1, 3, 224, 224])\n",
            "[INFO] Adversarial example generated for image 9/64: Shape torch.Size([1, 3, 224, 224])\n",
            "[INFO] Adversarial example generated for image 10/64: Shape torch.Size([1, 3, 224, 224])\n",
            "[INFO] Adversarial example generated for image 11/64: Shape torch.Size([1, 3, 224, 224])\n",
            "[INFO] Adversarial example generated for image 12/64: Shape torch.Size([1, 3, 224, 224])\n",
            "[INFO] Adversarial example generated for image 13/64: Shape torch.Size([1, 3, 224, 224])\n",
            "[INFO] Adversarial example generated for image 14/64: Shape torch.Size([1, 3, 224, 224])\n",
            "[INFO] Adversarial example generated for image 15/64: Shape torch.Size([1, 3, 224, 224])\n",
            "[INFO] Adversarial example generated for image 16/64: Shape torch.Size([1, 3, 224, 224])\n",
            "[INFO] Adversarial example generated for image 17/64: Shape torch.Size([1, 3, 224, 224])\n",
            "[INFO] Adversarial example generated for image 18/64: Shape torch.Size([1, 3, 224, 224])\n",
            "[INFO] Adversarial example generated for image 19/64: Shape torch.Size([1, 3, 224, 224])\n",
            "[INFO] Adversarial example generated for image 20/64: Shape torch.Size([1, 3, 224, 224])\n",
            "[INFO] Adversarial example generated for image 21/64: Shape torch.Size([1, 3, 224, 224])\n",
            "[INFO] Adversarial example generated for image 22/64: Shape torch.Size([1, 3, 224, 224])\n",
            "[INFO] Adversarial example generated for image 23/64: Shape torch.Size([1, 3, 224, 224])\n",
            "[INFO] Adversarial example generated for image 24/64: Shape torch.Size([1, 3, 224, 224])\n",
            "[INFO] Adversarial example generated for image 25/64: Shape torch.Size([1, 3, 224, 224])\n",
            "[INFO] Adversarial example generated for image 26/64: Shape torch.Size([1, 3, 224, 224])\n",
            "[INFO] Adversarial example generated for image 27/64: Shape torch.Size([1, 3, 224, 224])\n",
            "[INFO] Adversarial example generated for image 28/64: Shape torch.Size([1, 3, 224, 224])\n",
            "[INFO] Adversarial example generated for image 29/64: Shape torch.Size([1, 3, 224, 224])\n",
            "[INFO] Adversarial example generated for image 30/64: Shape torch.Size([1, 3, 224, 224])\n",
            "[INFO] Adversarial example generated for image 31/64: Shape torch.Size([1, 3, 224, 224])\n",
            "[INFO] Adversarial example generated for image 32/64: Shape torch.Size([1, 3, 224, 224])\n",
            "[INFO] Adversarial example generated for image 33/64: Shape torch.Size([1, 3, 224, 224])\n",
            "[INFO] Adversarial example generated for image 34/64: Shape torch.Size([1, 3, 224, 224])\n",
            "[INFO] Adversarial example generated for image 35/64: Shape torch.Size([1, 3, 224, 224])\n",
            "[INFO] Adversarial example generated for image 36/64: Shape torch.Size([1, 3, 224, 224])\n",
            "[INFO] Adversarial example generated for image 37/64: Shape torch.Size([1, 3, 224, 224])\n",
            "[INFO] Adversarial example generated for image 38/64: Shape torch.Size([1, 3, 224, 224])\n",
            "[INFO] Adversarial example generated for image 39/64: Shape torch.Size([1, 3, 224, 224])\n",
            "[INFO] Adversarial example generated for image 40/64: Shape torch.Size([1, 3, 224, 224])\n",
            "[INFO] Adversarial example generated for image 41/64: Shape torch.Size([1, 3, 224, 224])\n",
            "[INFO] Adversarial example generated for image 42/64: Shape torch.Size([1, 3, 224, 224])\n",
            "[INFO] Adversarial example generated for image 43/64: Shape torch.Size([1, 3, 224, 224])\n",
            "[INFO] Adversarial example generated for image 44/64: Shape torch.Size([1, 3, 224, 224])\n",
            "[INFO] Adversarial example generated for image 45/64: Shape torch.Size([1, 3, 224, 224])\n",
            "[INFO] Adversarial example generated for image 46/64: Shape torch.Size([1, 3, 224, 224])\n",
            "[INFO] Adversarial example generated for image 47/64: Shape torch.Size([1, 3, 224, 224])\n",
            "[INFO] Adversarial example generated for image 48/64: Shape torch.Size([1, 3, 224, 224])\n",
            "[INFO] Adversarial example generated for image 49/64: Shape torch.Size([1, 3, 224, 224])\n",
            "[INFO] Adversarial example generated for image 50/64: Shape torch.Size([1, 3, 224, 224])\n",
            "[INFO] Adversarial example generated for image 51/64: Shape torch.Size([1, 3, 224, 224])\n",
            "[INFO] Adversarial example generated for image 52/64: Shape torch.Size([1, 3, 224, 224])\n",
            "[INFO] Adversarial example generated for image 53/64: Shape torch.Size([1, 3, 224, 224])\n",
            "[INFO] Adversarial example generated for image 54/64: Shape torch.Size([1, 3, 224, 224])\n",
            "[INFO] Adversarial example generated for image 55/64: Shape torch.Size([1, 3, 224, 224])\n",
            "[INFO] Adversarial example generated for image 56/64: Shape torch.Size([1, 3, 224, 224])\n",
            "[INFO] Adversarial example generated for image 57/64: Shape torch.Size([1, 3, 224, 224])\n",
            "[INFO] Adversarial example generated for image 58/64: Shape torch.Size([1, 3, 224, 224])\n",
            "[INFO] Adversarial example generated for image 59/64: Shape torch.Size([1, 3, 224, 224])\n",
            "[INFO] Adversarial example generated for image 60/64: Shape torch.Size([1, 3, 224, 224])\n",
            "[INFO] Adversarial example generated for image 61/64: Shape torch.Size([1, 3, 224, 224])\n",
            "[INFO] Adversarial example generated for image 62/64: Shape torch.Size([1, 3, 224, 224])\n",
            "[INFO] Adversarial example generated for image 63/64: Shape torch.Size([1, 3, 224, 224])\n"
          ]
        },
        {
          "output_type": "stream",
          "name": "stderr",
          "text": [
            "\rGenerating Adversarial Examples:  56%|█████▋    | 9/16 [13:35<10:27, 89.62s/it]"
          ]
        },
        {
          "output_type": "stream",
          "name": "stdout",
          "text": [
            "[INFO] Adversarial example generated for image 64/64: Shape torch.Size([1, 3, 224, 224])\n",
            "Batch adversarial images length: 64\n",
            "Batch 10/16 started.\n",
            "[INFO] Adversarial example generated for image 1/64: Shape torch.Size([1, 3, 224, 224])\n",
            "[INFO] Adversarial example generated for image 2/64: Shape torch.Size([1, 3, 224, 224])\n",
            "[INFO] Adversarial example generated for image 3/64: Shape torch.Size([1, 3, 224, 224])\n",
            "[INFO] Adversarial example generated for image 4/64: Shape torch.Size([1, 3, 224, 224])\n",
            "[INFO] Adversarial example generated for image 5/64: Shape torch.Size([1, 3, 224, 224])\n",
            "[INFO] Adversarial example generated for image 6/64: Shape torch.Size([1, 3, 224, 224])\n",
            "[INFO] Adversarial example generated for image 7/64: Shape torch.Size([1, 3, 224, 224])\n",
            "[INFO] Adversarial example generated for image 8/64: Shape torch.Size([1, 3, 224, 224])\n",
            "[INFO] Adversarial example generated for image 9/64: Shape torch.Size([1, 3, 224, 224])\n",
            "[INFO] Adversarial example generated for image 10/64: Shape torch.Size([1, 3, 224, 224])\n",
            "[INFO] Adversarial example generated for image 11/64: Shape torch.Size([1, 3, 224, 224])\n",
            "[INFO] Adversarial example generated for image 12/64: Shape torch.Size([1, 3, 224, 224])\n",
            "[INFO] Adversarial example generated for image 13/64: Shape torch.Size([1, 3, 224, 224])\n",
            "[INFO] Adversarial example generated for image 14/64: Shape torch.Size([1, 3, 224, 224])\n",
            "[INFO] Adversarial example generated for image 15/64: Shape torch.Size([1, 3, 224, 224])\n",
            "[INFO] Adversarial example generated for image 16/64: Shape torch.Size([1, 3, 224, 224])\n",
            "[INFO] Adversarial example generated for image 17/64: Shape torch.Size([1, 3, 224, 224])\n",
            "[INFO] Adversarial example generated for image 18/64: Shape torch.Size([1, 3, 224, 224])\n",
            "[INFO] Adversarial example generated for image 19/64: Shape torch.Size([1, 3, 224, 224])\n",
            "[INFO] Adversarial example generated for image 20/64: Shape torch.Size([1, 3, 224, 224])\n",
            "[INFO] Adversarial example generated for image 21/64: Shape torch.Size([1, 3, 224, 224])\n",
            "[INFO] Adversarial example generated for image 22/64: Shape torch.Size([1, 3, 224, 224])\n",
            "[INFO] Adversarial example generated for image 23/64: Shape torch.Size([1, 3, 224, 224])\n",
            "[INFO] Adversarial example generated for image 24/64: Shape torch.Size([1, 3, 224, 224])\n",
            "[INFO] Adversarial example generated for image 25/64: Shape torch.Size([1, 3, 224, 224])\n",
            "[INFO] Adversarial example generated for image 26/64: Shape torch.Size([1, 3, 224, 224])\n",
            "[INFO] Adversarial example generated for image 27/64: Shape torch.Size([1, 3, 224, 224])\n",
            "[INFO] Adversarial example generated for image 28/64: Shape torch.Size([1, 3, 224, 224])\n",
            "[INFO] Adversarial example generated for image 29/64: Shape torch.Size([1, 3, 224, 224])\n",
            "[INFO] Adversarial example generated for image 30/64: Shape torch.Size([1, 3, 224, 224])\n",
            "[INFO] Adversarial example generated for image 31/64: Shape torch.Size([1, 3, 224, 224])\n",
            "[INFO] Adversarial example generated for image 32/64: Shape torch.Size([1, 3, 224, 224])\n",
            "[INFO] Adversarial example generated for image 33/64: Shape torch.Size([1, 3, 224, 224])\n",
            "[INFO] Adversarial example generated for image 34/64: Shape torch.Size([1, 3, 224, 224])\n",
            "[INFO] Adversarial example generated for image 35/64: Shape torch.Size([1, 3, 224, 224])\n",
            "[INFO] Adversarial example generated for image 36/64: Shape torch.Size([1, 3, 224, 224])\n",
            "[INFO] Adversarial example generated for image 37/64: Shape torch.Size([1, 3, 224, 224])\n",
            "[INFO] Adversarial example generated for image 38/64: Shape torch.Size([1, 3, 224, 224])\n",
            "[INFO] Adversarial example generated for image 39/64: Shape torch.Size([1, 3, 224, 224])\n",
            "[INFO] Adversarial example generated for image 40/64: Shape torch.Size([1, 3, 224, 224])\n",
            "[INFO] Adversarial example generated for image 41/64: Shape torch.Size([1, 3, 224, 224])\n",
            "[INFO] Adversarial example generated for image 42/64: Shape torch.Size([1, 3, 224, 224])\n",
            "[INFO] Adversarial example generated for image 43/64: Shape torch.Size([1, 3, 224, 224])\n",
            "[INFO] Adversarial example generated for image 44/64: Shape torch.Size([1, 3, 224, 224])\n",
            "[INFO] Adversarial example generated for image 45/64: Shape torch.Size([1, 3, 224, 224])\n",
            "[INFO] Adversarial example generated for image 46/64: Shape torch.Size([1, 3, 224, 224])\n",
            "[INFO] Adversarial example generated for image 47/64: Shape torch.Size([1, 3, 224, 224])\n",
            "[INFO] Adversarial example generated for image 48/64: Shape torch.Size([1, 3, 224, 224])\n",
            "[INFO] Adversarial example generated for image 49/64: Shape torch.Size([1, 3, 224, 224])\n",
            "[INFO] Adversarial example generated for image 50/64: Shape torch.Size([1, 3, 224, 224])\n",
            "[INFO] Adversarial example generated for image 51/64: Shape torch.Size([1, 3, 224, 224])\n",
            "[INFO] Adversarial example generated for image 52/64: Shape torch.Size([1, 3, 224, 224])\n",
            "[INFO] Adversarial example generated for image 53/64: Shape torch.Size([1, 3, 224, 224])\n",
            "[INFO] Adversarial example generated for image 54/64: Shape torch.Size([1, 3, 224, 224])\n",
            "[INFO] Adversarial example generated for image 55/64: Shape torch.Size([1, 3, 224, 224])\n",
            "[INFO] Adversarial example generated for image 56/64: Shape torch.Size([1, 3, 224, 224])\n",
            "[INFO] Adversarial example generated for image 57/64: Shape torch.Size([1, 3, 224, 224])\n",
            "[INFO] Adversarial example generated for image 58/64: Shape torch.Size([1, 3, 224, 224])\n",
            "[INFO] Adversarial example generated for image 59/64: Shape torch.Size([1, 3, 224, 224])\n",
            "[INFO] Adversarial example generated for image 60/64: Shape torch.Size([1, 3, 224, 224])\n",
            "[INFO] Adversarial example generated for image 61/64: Shape torch.Size([1, 3, 224, 224])\n",
            "[INFO] Adversarial example generated for image 62/64: Shape torch.Size([1, 3, 224, 224])\n",
            "[INFO] Adversarial example generated for image 63/64: Shape torch.Size([1, 3, 224, 224])\n"
          ]
        },
        {
          "output_type": "stream",
          "name": "stderr",
          "text": [
            "\rGenerating Adversarial Examples:  62%|██████▎   | 10/16 [15:07<09:03, 90.51s/it]"
          ]
        },
        {
          "output_type": "stream",
          "name": "stdout",
          "text": [
            "[INFO] Adversarial example generated for image 64/64: Shape torch.Size([1, 3, 224, 224])\n",
            "Batch adversarial images length: 64\n",
            "Batch 11/16 started.\n",
            "[INFO] Adversarial example generated for image 1/64: Shape torch.Size([1, 3, 224, 224])\n",
            "[INFO] Adversarial example generated for image 2/64: Shape torch.Size([1, 3, 224, 224])\n",
            "[INFO] Adversarial example generated for image 3/64: Shape torch.Size([1, 3, 224, 224])\n",
            "[INFO] Adversarial example generated for image 4/64: Shape torch.Size([1, 3, 224, 224])\n",
            "[INFO] Adversarial example generated for image 5/64: Shape torch.Size([1, 3, 224, 224])\n",
            "[INFO] Adversarial example generated for image 6/64: Shape torch.Size([1, 3, 224, 224])\n",
            "[INFO] Adversarial example generated for image 7/64: Shape torch.Size([1, 3, 224, 224])\n",
            "[INFO] Adversarial example generated for image 8/64: Shape torch.Size([1, 3, 224, 224])\n",
            "[INFO] Adversarial example generated for image 9/64: Shape torch.Size([1, 3, 224, 224])\n",
            "[INFO] Adversarial example generated for image 10/64: Shape torch.Size([1, 3, 224, 224])\n",
            "[INFO] Adversarial example generated for image 11/64: Shape torch.Size([1, 3, 224, 224])\n",
            "[INFO] Adversarial example generated for image 12/64: Shape torch.Size([1, 3, 224, 224])\n",
            "[INFO] Adversarial example generated for image 13/64: Shape torch.Size([1, 3, 224, 224])\n",
            "[INFO] Adversarial example generated for image 14/64: Shape torch.Size([1, 3, 224, 224])\n",
            "[INFO] Adversarial example generated for image 15/64: Shape torch.Size([1, 3, 224, 224])\n",
            "[INFO] Adversarial example generated for image 16/64: Shape torch.Size([1, 3, 224, 224])\n",
            "[INFO] Adversarial example generated for image 17/64: Shape torch.Size([1, 3, 224, 224])\n",
            "[INFO] Adversarial example generated for image 18/64: Shape torch.Size([1, 3, 224, 224])\n",
            "[INFO] Adversarial example generated for image 19/64: Shape torch.Size([1, 3, 224, 224])\n",
            "[INFO] Adversarial example generated for image 20/64: Shape torch.Size([1, 3, 224, 224])\n",
            "[INFO] Adversarial example generated for image 21/64: Shape torch.Size([1, 3, 224, 224])\n",
            "[INFO] Adversarial example generated for image 22/64: Shape torch.Size([1, 3, 224, 224])\n",
            "[INFO] Adversarial example generated for image 23/64: Shape torch.Size([1, 3, 224, 224])\n",
            "[INFO] Adversarial example generated for image 24/64: Shape torch.Size([1, 3, 224, 224])\n",
            "[INFO] Adversarial example generated for image 25/64: Shape torch.Size([1, 3, 224, 224])\n",
            "[INFO] Adversarial example generated for image 26/64: Shape torch.Size([1, 3, 224, 224])\n",
            "[INFO] Adversarial example generated for image 27/64: Shape torch.Size([1, 3, 224, 224])\n",
            "[INFO] Adversarial example generated for image 28/64: Shape torch.Size([1, 3, 224, 224])\n",
            "[INFO] Adversarial example generated for image 29/64: Shape torch.Size([1, 3, 224, 224])\n",
            "[INFO] Adversarial example generated for image 30/64: Shape torch.Size([1, 3, 224, 224])\n",
            "[INFO] Adversarial example generated for image 31/64: Shape torch.Size([1, 3, 224, 224])\n",
            "[INFO] Adversarial example generated for image 32/64: Shape torch.Size([1, 3, 224, 224])\n",
            "[INFO] Adversarial example generated for image 33/64: Shape torch.Size([1, 3, 224, 224])\n",
            "[INFO] Adversarial example generated for image 34/64: Shape torch.Size([1, 3, 224, 224])\n",
            "[INFO] Adversarial example generated for image 35/64: Shape torch.Size([1, 3, 224, 224])\n",
            "[INFO] Adversarial example generated for image 36/64: Shape torch.Size([1, 3, 224, 224])\n",
            "[INFO] Adversarial example generated for image 37/64: Shape torch.Size([1, 3, 224, 224])\n",
            "[INFO] Adversarial example generated for image 38/64: Shape torch.Size([1, 3, 224, 224])\n",
            "[INFO] Adversarial example generated for image 39/64: Shape torch.Size([1, 3, 224, 224])\n",
            "[INFO] Adversarial example generated for image 40/64: Shape torch.Size([1, 3, 224, 224])\n",
            "[INFO] Adversarial example generated for image 41/64: Shape torch.Size([1, 3, 224, 224])\n",
            "[INFO] Adversarial example generated for image 42/64: Shape torch.Size([1, 3, 224, 224])\n",
            "[INFO] Adversarial example generated for image 43/64: Shape torch.Size([1, 3, 224, 224])\n",
            "[INFO] Adversarial example generated for image 44/64: Shape torch.Size([1, 3, 224, 224])\n",
            "[INFO] Adversarial example generated for image 45/64: Shape torch.Size([1, 3, 224, 224])\n",
            "[INFO] Adversarial example generated for image 46/64: Shape torch.Size([1, 3, 224, 224])\n",
            "[INFO] Adversarial example generated for image 47/64: Shape torch.Size([1, 3, 224, 224])\n",
            "[INFO] Adversarial example generated for image 48/64: Shape torch.Size([1, 3, 224, 224])\n",
            "[INFO] Adversarial example generated for image 49/64: Shape torch.Size([1, 3, 224, 224])\n",
            "[INFO] Adversarial example generated for image 50/64: Shape torch.Size([1, 3, 224, 224])\n",
            "[INFO] Adversarial example generated for image 51/64: Shape torch.Size([1, 3, 224, 224])\n",
            "[INFO] Adversarial example generated for image 52/64: Shape torch.Size([1, 3, 224, 224])\n",
            "[INFO] Adversarial example generated for image 53/64: Shape torch.Size([1, 3, 224, 224])\n",
            "[INFO] Adversarial example generated for image 54/64: Shape torch.Size([1, 3, 224, 224])\n",
            "[INFO] Adversarial example generated for image 55/64: Shape torch.Size([1, 3, 224, 224])\n",
            "[INFO] Adversarial example generated for image 56/64: Shape torch.Size([1, 3, 224, 224])\n",
            "[INFO] Adversarial example generated for image 57/64: Shape torch.Size([1, 3, 224, 224])\n",
            "[INFO] Adversarial example generated for image 58/64: Shape torch.Size([1, 3, 224, 224])\n",
            "[INFO] Adversarial example generated for image 59/64: Shape torch.Size([1, 3, 224, 224])\n",
            "[INFO] Adversarial example generated for image 60/64: Shape torch.Size([1, 3, 224, 224])\n",
            "[INFO] Adversarial example generated for image 61/64: Shape torch.Size([1, 3, 224, 224])\n",
            "[INFO] Adversarial example generated for image 62/64: Shape torch.Size([1, 3, 224, 224])\n",
            "[INFO] Adversarial example generated for image 63/64: Shape torch.Size([1, 3, 224, 224])\n"
          ]
        },
        {
          "output_type": "stream",
          "name": "stderr",
          "text": [
            "\rGenerating Adversarial Examples:  69%|██████▉   | 11/16 [16:38<07:33, 90.66s/it]"
          ]
        },
        {
          "output_type": "stream",
          "name": "stdout",
          "text": [
            "[INFO] Adversarial example generated for image 64/64: Shape torch.Size([1, 3, 224, 224])\n",
            "Batch adversarial images length: 64\n",
            "Batch 12/16 started.\n",
            "[INFO] Adversarial example generated for image 1/64: Shape torch.Size([1, 3, 224, 224])\n",
            "[INFO] Adversarial example generated for image 2/64: Shape torch.Size([1, 3, 224, 224])\n",
            "[INFO] Adversarial example generated for image 3/64: Shape torch.Size([1, 3, 224, 224])\n",
            "[INFO] Adversarial example generated for image 4/64: Shape torch.Size([1, 3, 224, 224])\n",
            "[INFO] Adversarial example generated for image 5/64: Shape torch.Size([1, 3, 224, 224])\n",
            "[INFO] Adversarial example generated for image 6/64: Shape torch.Size([1, 3, 224, 224])\n",
            "[INFO] Adversarial example generated for image 7/64: Shape torch.Size([1, 3, 224, 224])\n",
            "[INFO] Adversarial example generated for image 8/64: Shape torch.Size([1, 3, 224, 224])\n",
            "[INFO] Adversarial example generated for image 9/64: Shape torch.Size([1, 3, 224, 224])\n",
            "[INFO] Adversarial example generated for image 10/64: Shape torch.Size([1, 3, 224, 224])\n",
            "[INFO] Adversarial example generated for image 11/64: Shape torch.Size([1, 3, 224, 224])\n",
            "[INFO] Adversarial example generated for image 12/64: Shape torch.Size([1, 3, 224, 224])\n",
            "[INFO] Adversarial example generated for image 13/64: Shape torch.Size([1, 3, 224, 224])\n",
            "[INFO] Adversarial example generated for image 14/64: Shape torch.Size([1, 3, 224, 224])\n",
            "[INFO] Adversarial example generated for image 15/64: Shape torch.Size([1, 3, 224, 224])\n",
            "[INFO] Adversarial example generated for image 16/64: Shape torch.Size([1, 3, 224, 224])\n",
            "[INFO] Adversarial example generated for image 17/64: Shape torch.Size([1, 3, 224, 224])\n",
            "[INFO] Adversarial example generated for image 18/64: Shape torch.Size([1, 3, 224, 224])\n",
            "[INFO] Adversarial example generated for image 19/64: Shape torch.Size([1, 3, 224, 224])\n",
            "[INFO] Adversarial example generated for image 20/64: Shape torch.Size([1, 3, 224, 224])\n",
            "[INFO] Adversarial example generated for image 21/64: Shape torch.Size([1, 3, 224, 224])\n",
            "[INFO] Adversarial example generated for image 22/64: Shape torch.Size([1, 3, 224, 224])\n",
            "[INFO] Adversarial example generated for image 23/64: Shape torch.Size([1, 3, 224, 224])\n",
            "[INFO] Adversarial example generated for image 24/64: Shape torch.Size([1, 3, 224, 224])\n",
            "[INFO] Adversarial example generated for image 25/64: Shape torch.Size([1, 3, 224, 224])\n",
            "[INFO] Adversarial example generated for image 26/64: Shape torch.Size([1, 3, 224, 224])\n",
            "[INFO] Adversarial example generated for image 27/64: Shape torch.Size([1, 3, 224, 224])\n",
            "[INFO] Adversarial example generated for image 28/64: Shape torch.Size([1, 3, 224, 224])\n",
            "[INFO] Adversarial example generated for image 29/64: Shape torch.Size([1, 3, 224, 224])\n",
            "[INFO] Adversarial example generated for image 30/64: Shape torch.Size([1, 3, 224, 224])\n",
            "[INFO] Adversarial example generated for image 31/64: Shape torch.Size([1, 3, 224, 224])\n",
            "[INFO] Adversarial example generated for image 32/64: Shape torch.Size([1, 3, 224, 224])\n",
            "[INFO] Adversarial example generated for image 33/64: Shape torch.Size([1, 3, 224, 224])\n",
            "[INFO] Adversarial example generated for image 34/64: Shape torch.Size([1, 3, 224, 224])\n",
            "[INFO] Adversarial example generated for image 35/64: Shape torch.Size([1, 3, 224, 224])\n",
            "[INFO] Adversarial example generated for image 36/64: Shape torch.Size([1, 3, 224, 224])\n",
            "[INFO] Adversarial example generated for image 37/64: Shape torch.Size([1, 3, 224, 224])\n",
            "[INFO] Adversarial example generated for image 38/64: Shape torch.Size([1, 3, 224, 224])\n",
            "[INFO] Adversarial example generated for image 39/64: Shape torch.Size([1, 3, 224, 224])\n",
            "[INFO] Adversarial example generated for image 40/64: Shape torch.Size([1, 3, 224, 224])\n",
            "[INFO] Adversarial example generated for image 41/64: Shape torch.Size([1, 3, 224, 224])\n",
            "[INFO] Adversarial example generated for image 42/64: Shape torch.Size([1, 3, 224, 224])\n",
            "[INFO] Adversarial example generated for image 43/64: Shape torch.Size([1, 3, 224, 224])\n",
            "[INFO] Adversarial example generated for image 44/64: Shape torch.Size([1, 3, 224, 224])\n",
            "[INFO] Adversarial example generated for image 45/64: Shape torch.Size([1, 3, 224, 224])\n",
            "[INFO] Adversarial example generated for image 46/64: Shape torch.Size([1, 3, 224, 224])\n",
            "[INFO] Adversarial example generated for image 47/64: Shape torch.Size([1, 3, 224, 224])\n",
            "[INFO] Adversarial example generated for image 48/64: Shape torch.Size([1, 3, 224, 224])\n",
            "[INFO] Adversarial example generated for image 49/64: Shape torch.Size([1, 3, 224, 224])\n",
            "[INFO] Adversarial example generated for image 50/64: Shape torch.Size([1, 3, 224, 224])\n",
            "[INFO] Adversarial example generated for image 51/64: Shape torch.Size([1, 3, 224, 224])\n",
            "[INFO] Adversarial example generated for image 52/64: Shape torch.Size([1, 3, 224, 224])\n",
            "[INFO] Adversarial example generated for image 53/64: Shape torch.Size([1, 3, 224, 224])\n",
            "[INFO] Adversarial example generated for image 54/64: Shape torch.Size([1, 3, 224, 224])\n",
            "[INFO] Adversarial example generated for image 55/64: Shape torch.Size([1, 3, 224, 224])\n",
            "[INFO] Adversarial example generated for image 56/64: Shape torch.Size([1, 3, 224, 224])\n",
            "[INFO] Adversarial example generated for image 57/64: Shape torch.Size([1, 3, 224, 224])\n",
            "[INFO] Adversarial example generated for image 58/64: Shape torch.Size([1, 3, 224, 224])\n",
            "[INFO] Adversarial example generated for image 59/64: Shape torch.Size([1, 3, 224, 224])\n",
            "[INFO] Adversarial example generated for image 60/64: Shape torch.Size([1, 3, 224, 224])\n",
            "[INFO] Adversarial example generated for image 61/64: Shape torch.Size([1, 3, 224, 224])\n",
            "[INFO] Adversarial example generated for image 62/64: Shape torch.Size([1, 3, 224, 224])\n",
            "[INFO] Adversarial example generated for image 63/64: Shape torch.Size([1, 3, 224, 224])\n"
          ]
        },
        {
          "output_type": "stream",
          "name": "stderr",
          "text": [
            "\rGenerating Adversarial Examples:  75%|███████▌  | 12/16 [18:11<06:05, 91.38s/it]"
          ]
        },
        {
          "output_type": "stream",
          "name": "stdout",
          "text": [
            "[INFO] Adversarial example generated for image 64/64: Shape torch.Size([1, 3, 224, 224])\n",
            "Batch adversarial images length: 64\n",
            "Batch 13/16 started.\n",
            "[INFO] Adversarial example generated for image 1/64: Shape torch.Size([1, 3, 224, 224])\n",
            "[INFO] Adversarial example generated for image 2/64: Shape torch.Size([1, 3, 224, 224])\n",
            "[INFO] Adversarial example generated for image 3/64: Shape torch.Size([1, 3, 224, 224])\n",
            "[INFO] Adversarial example generated for image 4/64: Shape torch.Size([1, 3, 224, 224])\n",
            "[INFO] Adversarial example generated for image 5/64: Shape torch.Size([1, 3, 224, 224])\n",
            "[INFO] Adversarial example generated for image 6/64: Shape torch.Size([1, 3, 224, 224])\n",
            "[INFO] Adversarial example generated for image 7/64: Shape torch.Size([1, 3, 224, 224])\n",
            "[INFO] Adversarial example generated for image 8/64: Shape torch.Size([1, 3, 224, 224])\n",
            "[INFO] Adversarial example generated for image 9/64: Shape torch.Size([1, 3, 224, 224])\n",
            "[INFO] Adversarial example generated for image 10/64: Shape torch.Size([1, 3, 224, 224])\n",
            "[INFO] Adversarial example generated for image 11/64: Shape torch.Size([1, 3, 224, 224])\n",
            "[INFO] Adversarial example generated for image 12/64: Shape torch.Size([1, 3, 224, 224])\n",
            "[INFO] Adversarial example generated for image 13/64: Shape torch.Size([1, 3, 224, 224])\n",
            "[INFO] Adversarial example generated for image 14/64: Shape torch.Size([1, 3, 224, 224])\n",
            "[INFO] Adversarial example generated for image 15/64: Shape torch.Size([1, 3, 224, 224])\n",
            "[INFO] Adversarial example generated for image 16/64: Shape torch.Size([1, 3, 224, 224])\n",
            "[INFO] Adversarial example generated for image 17/64: Shape torch.Size([1, 3, 224, 224])\n",
            "[INFO] Adversarial example generated for image 18/64: Shape torch.Size([1, 3, 224, 224])\n",
            "[INFO] Adversarial example generated for image 19/64: Shape torch.Size([1, 3, 224, 224])\n",
            "[INFO] Adversarial example generated for image 20/64: Shape torch.Size([1, 3, 224, 224])\n",
            "[INFO] Adversarial example generated for image 21/64: Shape torch.Size([1, 3, 224, 224])\n",
            "[INFO] Adversarial example generated for image 22/64: Shape torch.Size([1, 3, 224, 224])\n",
            "[INFO] Adversarial example generated for image 23/64: Shape torch.Size([1, 3, 224, 224])\n",
            "[INFO] Adversarial example generated for image 24/64: Shape torch.Size([1, 3, 224, 224])\n",
            "[INFO] Adversarial example generated for image 25/64: Shape torch.Size([1, 3, 224, 224])\n",
            "[INFO] Adversarial example generated for image 26/64: Shape torch.Size([1, 3, 224, 224])\n",
            "[INFO] Adversarial example generated for image 27/64: Shape torch.Size([1, 3, 224, 224])\n",
            "[INFO] Adversarial example generated for image 28/64: Shape torch.Size([1, 3, 224, 224])\n",
            "[INFO] Adversarial example generated for image 29/64: Shape torch.Size([1, 3, 224, 224])\n",
            "[INFO] Adversarial example generated for image 30/64: Shape torch.Size([1, 3, 224, 224])\n",
            "[INFO] Adversarial example generated for image 31/64: Shape torch.Size([1, 3, 224, 224])\n",
            "[INFO] Adversarial example generated for image 32/64: Shape torch.Size([1, 3, 224, 224])\n",
            "[INFO] Adversarial example generated for image 33/64: Shape torch.Size([1, 3, 224, 224])\n",
            "[INFO] Adversarial example generated for image 34/64: Shape torch.Size([1, 3, 224, 224])\n",
            "[INFO] Adversarial example generated for image 35/64: Shape torch.Size([1, 3, 224, 224])\n",
            "[INFO] Adversarial example generated for image 36/64: Shape torch.Size([1, 3, 224, 224])\n",
            "[INFO] Adversarial example generated for image 37/64: Shape torch.Size([1, 3, 224, 224])\n",
            "[INFO] Adversarial example generated for image 38/64: Shape torch.Size([1, 3, 224, 224])\n",
            "[INFO] Adversarial example generated for image 39/64: Shape torch.Size([1, 3, 224, 224])\n",
            "[INFO] Adversarial example generated for image 40/64: Shape torch.Size([1, 3, 224, 224])\n",
            "[INFO] Adversarial example generated for image 41/64: Shape torch.Size([1, 3, 224, 224])\n",
            "[INFO] Adversarial example generated for image 42/64: Shape torch.Size([1, 3, 224, 224])\n",
            "[INFO] Adversarial example generated for image 43/64: Shape torch.Size([1, 3, 224, 224])\n",
            "[INFO] Adversarial example generated for image 44/64: Shape torch.Size([1, 3, 224, 224])\n",
            "[INFO] Adversarial example generated for image 45/64: Shape torch.Size([1, 3, 224, 224])\n",
            "[INFO] Adversarial example generated for image 46/64: Shape torch.Size([1, 3, 224, 224])\n",
            "[INFO] Adversarial example generated for image 47/64: Shape torch.Size([1, 3, 224, 224])\n",
            "[INFO] Adversarial example generated for image 48/64: Shape torch.Size([1, 3, 224, 224])\n",
            "[INFO] Adversarial example generated for image 49/64: Shape torch.Size([1, 3, 224, 224])\n",
            "[INFO] Adversarial example generated for image 50/64: Shape torch.Size([1, 3, 224, 224])\n",
            "[INFO] Adversarial example generated for image 51/64: Shape torch.Size([1, 3, 224, 224])\n",
            "[INFO] Adversarial example generated for image 52/64: Shape torch.Size([1, 3, 224, 224])\n",
            "[INFO] Adversarial example generated for image 53/64: Shape torch.Size([1, 3, 224, 224])\n",
            "[INFO] Adversarial example generated for image 54/64: Shape torch.Size([1, 3, 224, 224])\n",
            "[INFO] Adversarial example generated for image 55/64: Shape torch.Size([1, 3, 224, 224])\n",
            "[INFO] Adversarial example generated for image 56/64: Shape torch.Size([1, 3, 224, 224])\n",
            "[INFO] Adversarial example generated for image 57/64: Shape torch.Size([1, 3, 224, 224])\n",
            "[INFO] Adversarial example generated for image 58/64: Shape torch.Size([1, 3, 224, 224])\n",
            "[INFO] Adversarial example generated for image 59/64: Shape torch.Size([1, 3, 224, 224])\n",
            "[INFO] Adversarial example generated for image 60/64: Shape torch.Size([1, 3, 224, 224])\n",
            "[INFO] Adversarial example generated for image 61/64: Shape torch.Size([1, 3, 224, 224])\n",
            "[INFO] Adversarial example generated for image 62/64: Shape torch.Size([1, 3, 224, 224])\n",
            "[INFO] Adversarial example generated for image 63/64: Shape torch.Size([1, 3, 224, 224])\n"
          ]
        },
        {
          "output_type": "stream",
          "name": "stderr",
          "text": [
            "\rGenerating Adversarial Examples:  81%|████████▏ | 13/16 [19:44<04:35, 91.73s/it]"
          ]
        },
        {
          "output_type": "stream",
          "name": "stdout",
          "text": [
            "[INFO] Adversarial example generated for image 64/64: Shape torch.Size([1, 3, 224, 224])\n",
            "Batch adversarial images length: 64\n",
            "Batch 14/16 started.\n",
            "[INFO] Adversarial example generated for image 1/64: Shape torch.Size([1, 3, 224, 224])\n",
            "[INFO] Adversarial example generated for image 2/64: Shape torch.Size([1, 3, 224, 224])\n",
            "[INFO] Adversarial example generated for image 3/64: Shape torch.Size([1, 3, 224, 224])\n",
            "[INFO] Adversarial example generated for image 4/64: Shape torch.Size([1, 3, 224, 224])\n",
            "[INFO] Adversarial example generated for image 5/64: Shape torch.Size([1, 3, 224, 224])\n",
            "[INFO] Adversarial example generated for image 6/64: Shape torch.Size([1, 3, 224, 224])\n",
            "[INFO] Adversarial example generated for image 7/64: Shape torch.Size([1, 3, 224, 224])\n",
            "[INFO] Adversarial example generated for image 8/64: Shape torch.Size([1, 3, 224, 224])\n",
            "[INFO] Adversarial example generated for image 9/64: Shape torch.Size([1, 3, 224, 224])\n",
            "[INFO] Adversarial example generated for image 10/64: Shape torch.Size([1, 3, 224, 224])\n",
            "[INFO] Adversarial example generated for image 11/64: Shape torch.Size([1, 3, 224, 224])\n",
            "[INFO] Adversarial example generated for image 12/64: Shape torch.Size([1, 3, 224, 224])\n",
            "[INFO] Adversarial example generated for image 13/64: Shape torch.Size([1, 3, 224, 224])\n",
            "[INFO] Adversarial example generated for image 14/64: Shape torch.Size([1, 3, 224, 224])\n",
            "[INFO] Adversarial example generated for image 15/64: Shape torch.Size([1, 3, 224, 224])\n",
            "[INFO] Adversarial example generated for image 16/64: Shape torch.Size([1, 3, 224, 224])\n",
            "[INFO] Adversarial example generated for image 17/64: Shape torch.Size([1, 3, 224, 224])\n",
            "[INFO] Adversarial example generated for image 18/64: Shape torch.Size([1, 3, 224, 224])\n",
            "[INFO] Adversarial example generated for image 19/64: Shape torch.Size([1, 3, 224, 224])\n",
            "[INFO] Adversarial example generated for image 20/64: Shape torch.Size([1, 3, 224, 224])\n",
            "[INFO] Adversarial example generated for image 21/64: Shape torch.Size([1, 3, 224, 224])\n",
            "[INFO] Adversarial example generated for image 22/64: Shape torch.Size([1, 3, 224, 224])\n",
            "[INFO] Adversarial example generated for image 23/64: Shape torch.Size([1, 3, 224, 224])\n",
            "[INFO] Adversarial example generated for image 24/64: Shape torch.Size([1, 3, 224, 224])\n",
            "[INFO] Adversarial example generated for image 25/64: Shape torch.Size([1, 3, 224, 224])\n",
            "[INFO] Adversarial example generated for image 26/64: Shape torch.Size([1, 3, 224, 224])\n",
            "[INFO] Adversarial example generated for image 27/64: Shape torch.Size([1, 3, 224, 224])\n",
            "[INFO] Adversarial example generated for image 28/64: Shape torch.Size([1, 3, 224, 224])\n",
            "[INFO] Adversarial example generated for image 29/64: Shape torch.Size([1, 3, 224, 224])\n",
            "[INFO] Adversarial example generated for image 30/64: Shape torch.Size([1, 3, 224, 224])\n",
            "[INFO] Adversarial example generated for image 31/64: Shape torch.Size([1, 3, 224, 224])\n",
            "[INFO] Adversarial example generated for image 32/64: Shape torch.Size([1, 3, 224, 224])\n",
            "[INFO] Adversarial example generated for image 33/64: Shape torch.Size([1, 3, 224, 224])\n",
            "[INFO] Adversarial example generated for image 34/64: Shape torch.Size([1, 3, 224, 224])\n",
            "[INFO] Adversarial example generated for image 35/64: Shape torch.Size([1, 3, 224, 224])\n",
            "[INFO] Adversarial example generated for image 36/64: Shape torch.Size([1, 3, 224, 224])\n",
            "[INFO] Adversarial example generated for image 37/64: Shape torch.Size([1, 3, 224, 224])\n",
            "[INFO] Adversarial example generated for image 38/64: Shape torch.Size([1, 3, 224, 224])\n",
            "[INFO] Adversarial example generated for image 39/64: Shape torch.Size([1, 3, 224, 224])\n",
            "[INFO] Adversarial example generated for image 40/64: Shape torch.Size([1, 3, 224, 224])\n",
            "[INFO] Adversarial example generated for image 41/64: Shape torch.Size([1, 3, 224, 224])\n",
            "[INFO] Adversarial example generated for image 42/64: Shape torch.Size([1, 3, 224, 224])\n",
            "[INFO] Adversarial example generated for image 43/64: Shape torch.Size([1, 3, 224, 224])\n",
            "[INFO] Adversarial example generated for image 44/64: Shape torch.Size([1, 3, 224, 224])\n",
            "[INFO] Adversarial example generated for image 45/64: Shape torch.Size([1, 3, 224, 224])\n",
            "[INFO] Adversarial example generated for image 46/64: Shape torch.Size([1, 3, 224, 224])\n",
            "[INFO] Adversarial example generated for image 47/64: Shape torch.Size([1, 3, 224, 224])\n",
            "[INFO] Adversarial example generated for image 48/64: Shape torch.Size([1, 3, 224, 224])\n",
            "[INFO] Adversarial example generated for image 49/64: Shape torch.Size([1, 3, 224, 224])\n",
            "[INFO] Adversarial example generated for image 50/64: Shape torch.Size([1, 3, 224, 224])\n",
            "[INFO] Adversarial example generated for image 51/64: Shape torch.Size([1, 3, 224, 224])\n",
            "[INFO] Adversarial example generated for image 52/64: Shape torch.Size([1, 3, 224, 224])\n",
            "[INFO] Adversarial example generated for image 53/64: Shape torch.Size([1, 3, 224, 224])\n",
            "[INFO] Adversarial example generated for image 54/64: Shape torch.Size([1, 3, 224, 224])\n",
            "[INFO] Adversarial example generated for image 55/64: Shape torch.Size([1, 3, 224, 224])\n",
            "[INFO] Adversarial example generated for image 56/64: Shape torch.Size([1, 3, 224, 224])\n",
            "[INFO] Adversarial example generated for image 57/64: Shape torch.Size([1, 3, 224, 224])\n",
            "[INFO] Adversarial example generated for image 58/64: Shape torch.Size([1, 3, 224, 224])\n",
            "[INFO] Adversarial example generated for image 59/64: Shape torch.Size([1, 3, 224, 224])\n",
            "[INFO] Adversarial example generated for image 60/64: Shape torch.Size([1, 3, 224, 224])\n",
            "[INFO] Adversarial example generated for image 61/64: Shape torch.Size([1, 3, 224, 224])\n",
            "[INFO] Adversarial example generated for image 62/64: Shape torch.Size([1, 3, 224, 224])\n",
            "[INFO] Adversarial example generated for image 63/64: Shape torch.Size([1, 3, 224, 224])\n"
          ]
        },
        {
          "output_type": "stream",
          "name": "stderr",
          "text": [
            "\rGenerating Adversarial Examples:  88%|████████▊ | 14/16 [21:15<03:03, 91.60s/it]"
          ]
        },
        {
          "output_type": "stream",
          "name": "stdout",
          "text": [
            "[INFO] Adversarial example generated for image 64/64: Shape torch.Size([1, 3, 224, 224])\n",
            "Batch adversarial images length: 64\n",
            "Batch 15/16 started.\n",
            "[INFO] Adversarial example generated for image 1/64: Shape torch.Size([1, 3, 224, 224])\n",
            "[INFO] Adversarial example generated for image 2/64: Shape torch.Size([1, 3, 224, 224])\n",
            "[INFO] Adversarial example generated for image 3/64: Shape torch.Size([1, 3, 224, 224])\n",
            "[INFO] Adversarial example generated for image 4/64: Shape torch.Size([1, 3, 224, 224])\n",
            "[INFO] Adversarial example generated for image 5/64: Shape torch.Size([1, 3, 224, 224])\n",
            "[INFO] Adversarial example generated for image 6/64: Shape torch.Size([1, 3, 224, 224])\n",
            "[INFO] Adversarial example generated for image 7/64: Shape torch.Size([1, 3, 224, 224])\n",
            "[INFO] Adversarial example generated for image 8/64: Shape torch.Size([1, 3, 224, 224])\n",
            "[INFO] Adversarial example generated for image 9/64: Shape torch.Size([1, 3, 224, 224])\n",
            "[INFO] Adversarial example generated for image 10/64: Shape torch.Size([1, 3, 224, 224])\n",
            "[INFO] Adversarial example generated for image 11/64: Shape torch.Size([1, 3, 224, 224])\n",
            "[INFO] Adversarial example generated for image 12/64: Shape torch.Size([1, 3, 224, 224])\n",
            "[INFO] Adversarial example generated for image 13/64: Shape torch.Size([1, 3, 224, 224])\n",
            "[INFO] Adversarial example generated for image 14/64: Shape torch.Size([1, 3, 224, 224])\n",
            "[INFO] Adversarial example generated for image 15/64: Shape torch.Size([1, 3, 224, 224])\n",
            "[INFO] Adversarial example generated for image 16/64: Shape torch.Size([1, 3, 224, 224])\n",
            "[INFO] Adversarial example generated for image 17/64: Shape torch.Size([1, 3, 224, 224])\n",
            "[INFO] Adversarial example generated for image 18/64: Shape torch.Size([1, 3, 224, 224])\n",
            "[INFO] Adversarial example generated for image 19/64: Shape torch.Size([1, 3, 224, 224])\n",
            "[INFO] Adversarial example generated for image 20/64: Shape torch.Size([1, 3, 224, 224])\n",
            "[INFO] Adversarial example generated for image 21/64: Shape torch.Size([1, 3, 224, 224])\n",
            "[INFO] Adversarial example generated for image 22/64: Shape torch.Size([1, 3, 224, 224])\n",
            "[INFO] Adversarial example generated for image 23/64: Shape torch.Size([1, 3, 224, 224])\n",
            "[INFO] Adversarial example generated for image 24/64: Shape torch.Size([1, 3, 224, 224])\n",
            "[INFO] Adversarial example generated for image 25/64: Shape torch.Size([1, 3, 224, 224])\n",
            "[INFO] Adversarial example generated for image 26/64: Shape torch.Size([1, 3, 224, 224])\n",
            "[INFO] Adversarial example generated for image 27/64: Shape torch.Size([1, 3, 224, 224])\n",
            "[INFO] Adversarial example generated for image 28/64: Shape torch.Size([1, 3, 224, 224])\n",
            "[INFO] Adversarial example generated for image 29/64: Shape torch.Size([1, 3, 224, 224])\n",
            "[INFO] Adversarial example generated for image 30/64: Shape torch.Size([1, 3, 224, 224])\n",
            "[INFO] Adversarial example generated for image 31/64: Shape torch.Size([1, 3, 224, 224])\n",
            "[INFO] Adversarial example generated for image 32/64: Shape torch.Size([1, 3, 224, 224])\n",
            "[INFO] Adversarial example generated for image 33/64: Shape torch.Size([1, 3, 224, 224])\n",
            "[INFO] Adversarial example generated for image 34/64: Shape torch.Size([1, 3, 224, 224])\n",
            "[INFO] Adversarial example generated for image 35/64: Shape torch.Size([1, 3, 224, 224])\n",
            "[INFO] Adversarial example generated for image 36/64: Shape torch.Size([1, 3, 224, 224])\n",
            "[INFO] Adversarial example generated for image 37/64: Shape torch.Size([1, 3, 224, 224])\n",
            "[INFO] Adversarial example generated for image 38/64: Shape torch.Size([1, 3, 224, 224])\n",
            "[INFO] Adversarial example generated for image 39/64: Shape torch.Size([1, 3, 224, 224])\n",
            "[INFO] Adversarial example generated for image 40/64: Shape torch.Size([1, 3, 224, 224])\n",
            "[INFO] Adversarial example generated for image 41/64: Shape torch.Size([1, 3, 224, 224])\n",
            "[INFO] Adversarial example generated for image 42/64: Shape torch.Size([1, 3, 224, 224])\n",
            "[INFO] Adversarial example generated for image 43/64: Shape torch.Size([1, 3, 224, 224])\n",
            "[INFO] Adversarial example generated for image 44/64: Shape torch.Size([1, 3, 224, 224])\n",
            "[INFO] Adversarial example generated for image 45/64: Shape torch.Size([1, 3, 224, 224])\n",
            "[INFO] Adversarial example generated for image 46/64: Shape torch.Size([1, 3, 224, 224])\n",
            "[INFO] Adversarial example generated for image 47/64: Shape torch.Size([1, 3, 224, 224])\n",
            "[INFO] Adversarial example generated for image 48/64: Shape torch.Size([1, 3, 224, 224])\n",
            "[INFO] Adversarial example generated for image 49/64: Shape torch.Size([1, 3, 224, 224])\n",
            "[INFO] Adversarial example generated for image 50/64: Shape torch.Size([1, 3, 224, 224])\n",
            "[INFO] Adversarial example generated for image 51/64: Shape torch.Size([1, 3, 224, 224])\n",
            "[INFO] Adversarial example generated for image 52/64: Shape torch.Size([1, 3, 224, 224])\n",
            "[INFO] Adversarial example generated for image 53/64: Shape torch.Size([1, 3, 224, 224])\n",
            "[INFO] Adversarial example generated for image 54/64: Shape torch.Size([1, 3, 224, 224])\n",
            "[INFO] Adversarial example generated for image 55/64: Shape torch.Size([1, 3, 224, 224])\n",
            "[INFO] Adversarial example generated for image 56/64: Shape torch.Size([1, 3, 224, 224])\n",
            "[INFO] Adversarial example generated for image 57/64: Shape torch.Size([1, 3, 224, 224])\n",
            "[INFO] Adversarial example generated for image 58/64: Shape torch.Size([1, 3, 224, 224])\n",
            "[INFO] Adversarial example generated for image 59/64: Shape torch.Size([1, 3, 224, 224])\n",
            "[INFO] Adversarial example generated for image 60/64: Shape torch.Size([1, 3, 224, 224])\n",
            "[INFO] Adversarial example generated for image 61/64: Shape torch.Size([1, 3, 224, 224])\n",
            "[INFO] Adversarial example generated for image 62/64: Shape torch.Size([1, 3, 224, 224])\n",
            "[INFO] Adversarial example generated for image 63/64: Shape torch.Size([1, 3, 224, 224])\n"
          ]
        },
        {
          "output_type": "stream",
          "name": "stderr",
          "text": [
            "\rGenerating Adversarial Examples:  94%|█████████▍| 15/16 [22:46<01:31, 91.50s/it]"
          ]
        },
        {
          "output_type": "stream",
          "name": "stdout",
          "text": [
            "[INFO] Adversarial example generated for image 64/64: Shape torch.Size([1, 3, 224, 224])\n",
            "Batch adversarial images length: 64\n",
            "Batch 16/16 started.\n",
            "[INFO] Adversarial example generated for image 1/40: Shape torch.Size([1, 3, 224, 224])\n",
            "[INFO] Adversarial example generated for image 2/40: Shape torch.Size([1, 3, 224, 224])\n",
            "[INFO] Adversarial example generated for image 3/40: Shape torch.Size([1, 3, 224, 224])\n",
            "[INFO] Adversarial example generated for image 4/40: Shape torch.Size([1, 3, 224, 224])\n",
            "[INFO] Adversarial example generated for image 5/40: Shape torch.Size([1, 3, 224, 224])\n",
            "[INFO] Adversarial example generated for image 6/40: Shape torch.Size([1, 3, 224, 224])\n",
            "[INFO] Adversarial example generated for image 7/40: Shape torch.Size([1, 3, 224, 224])\n",
            "[INFO] Adversarial example generated for image 8/40: Shape torch.Size([1, 3, 224, 224])\n",
            "[INFO] Adversarial example generated for image 9/40: Shape torch.Size([1, 3, 224, 224])\n",
            "[INFO] Adversarial example generated for image 10/40: Shape torch.Size([1, 3, 224, 224])\n",
            "[INFO] Adversarial example generated for image 11/40: Shape torch.Size([1, 3, 224, 224])\n",
            "[INFO] Adversarial example generated for image 12/40: Shape torch.Size([1, 3, 224, 224])\n",
            "[INFO] Adversarial example generated for image 13/40: Shape torch.Size([1, 3, 224, 224])\n",
            "[INFO] Adversarial example generated for image 14/40: Shape torch.Size([1, 3, 224, 224])\n",
            "[INFO] Adversarial example generated for image 15/40: Shape torch.Size([1, 3, 224, 224])\n",
            "[INFO] Adversarial example generated for image 16/40: Shape torch.Size([1, 3, 224, 224])\n",
            "[INFO] Adversarial example generated for image 17/40: Shape torch.Size([1, 3, 224, 224])\n",
            "[INFO] Adversarial example generated for image 18/40: Shape torch.Size([1, 3, 224, 224])\n",
            "[INFO] Adversarial example generated for image 19/40: Shape torch.Size([1, 3, 224, 224])\n",
            "[INFO] Adversarial example generated for image 20/40: Shape torch.Size([1, 3, 224, 224])\n",
            "[INFO] Adversarial example generated for image 21/40: Shape torch.Size([1, 3, 224, 224])\n",
            "[INFO] Adversarial example generated for image 22/40: Shape torch.Size([1, 3, 224, 224])\n",
            "[INFO] Adversarial example generated for image 23/40: Shape torch.Size([1, 3, 224, 224])\n",
            "[INFO] Adversarial example generated for image 24/40: Shape torch.Size([1, 3, 224, 224])\n",
            "[INFO] Adversarial example generated for image 25/40: Shape torch.Size([1, 3, 224, 224])\n",
            "[INFO] Adversarial example generated for image 26/40: Shape torch.Size([1, 3, 224, 224])\n",
            "[INFO] Adversarial example generated for image 27/40: Shape torch.Size([1, 3, 224, 224])\n",
            "[INFO] Adversarial example generated for image 28/40: Shape torch.Size([1, 3, 224, 224])\n",
            "[INFO] Adversarial example generated for image 29/40: Shape torch.Size([1, 3, 224, 224])\n",
            "[INFO] Adversarial example generated for image 30/40: Shape torch.Size([1, 3, 224, 224])\n",
            "[INFO] Adversarial example generated for image 31/40: Shape torch.Size([1, 3, 224, 224])\n",
            "[INFO] Adversarial example generated for image 32/40: Shape torch.Size([1, 3, 224, 224])\n",
            "[INFO] Adversarial example generated for image 33/40: Shape torch.Size([1, 3, 224, 224])\n",
            "[INFO] Adversarial example generated for image 34/40: Shape torch.Size([1, 3, 224, 224])\n",
            "[INFO] Adversarial example generated for image 35/40: Shape torch.Size([1, 3, 224, 224])\n",
            "[INFO] Adversarial example generated for image 36/40: Shape torch.Size([1, 3, 224, 224])\n",
            "[INFO] Adversarial example generated for image 37/40: Shape torch.Size([1, 3, 224, 224])\n",
            "[INFO] Adversarial example generated for image 38/40: Shape torch.Size([1, 3, 224, 224])\n",
            "[INFO] Adversarial example generated for image 39/40: Shape torch.Size([1, 3, 224, 224])\n"
          ]
        },
        {
          "output_type": "stream",
          "name": "stderr",
          "text": [
            "Generating Adversarial Examples: 100%|██████████| 16/16 [23:43<00:00, 88.96s/it]"
          ]
        },
        {
          "output_type": "stream",
          "name": "stdout",
          "text": [
            "[INFO] Adversarial example generated for image 40/40: Shape torch.Size([1, 3, 224, 224])\n",
            "Batch adversarial images length: 40\n"
          ]
        },
        {
          "output_type": "stream",
          "name": "stderr",
          "text": [
            "\n"
          ]
        }
      ]
    },
    {
      "cell_type": "code",
      "source": [
        "# Evaluate the target model on these adversarial examples\n",
        "evaluate(model_vit_b32, adv_loader_RayS)"
      ],
      "metadata": {
        "id": "h_B9CWwSEbOV",
        "colab": {
          "base_uri": "https://localhost:8080/"
        },
        "outputId": "13f1ab0d-c47e-4ed1-a3b7-cdd8ca3283d8"
      },
      "execution_count": 57,
      "outputs": [
        {
          "output_type": "stream",
          "name": "stdout",
          "text": [
            "Accuracy on adversarial examples: 43.70%\n"
          ]
        },
        {
          "output_type": "execute_result",
          "data": {
            "text/plain": [
              "43.7"
            ]
          },
          "metadata": {},
          "execution_count": 57
        }
      ]
    },
    {
      "cell_type": "markdown",
      "source": [
        "### Blackbox Transferability"
      ],
      "metadata": {
        "id": "xXoaOcYGThR_"
      }
    },
    {
      "cell_type": "code",
      "source": [
        "adv_loader_resized_rays = resize_adv_loader(adv_loader_RayS, target_size=(32, 32), device=device)"
      ],
      "metadata": {
        "id": "vv2dJKXfw7gj"
      },
      "execution_count": 62,
      "outputs": []
    },
    {
      "cell_type": "code",
      "source": [
        "def test_transferability(target_model, adv_loader, device):\n",
        "    \"\"\"\n",
        "    Test transferability using pre-generated adversarial examples.\n",
        "\n",
        "    Args:\n",
        "        target_model (nn.Module): The model being evaluated for transferability (e.g., ViT or ResNet).\n",
        "        adv_loader (DataLoader): DataLoader containing adversarial examples and their true labels.\n",
        "        device (torch.device): Device to run the computations on.\n",
        "\n",
        "    Returns:\n",
        "        float: Transferability rate (% of adversarial examples misclassified by the target model).\n",
        "    \"\"\"\n",
        "    target_model.eval()  # Set the target model to evaluation mode\n",
        "\n",
        "    transfer_correct = 0\n",
        "    transfer_total = 0\n",
        "\n",
        "    for adv_images, labels in adv_loader:\n",
        "        adv_images, labels = adv_images.to(device), labels.to(device)\n",
        "\n",
        "        # Test adversarial examples on the target model\n",
        "        outputs = target_model(adv_images)\n",
        "        _, predicted = outputs.max(1)\n",
        "\n",
        "        # Count correctly classified adversarial examples\n",
        "        transfer_total += labels.size(0)\n",
        "        transfer_correct += (predicted == labels).sum().item()\n",
        "\n",
        "    # Calculate transferability rate\n",
        "    transferability_rate = 100.0 * (1 - transfer_correct / transfer_total)\n",
        "    return transferability_rate"
      ],
      "metadata": {
        "id": "0DPC08EkTlHo"
      },
      "execution_count": 63,
      "outputs": []
    },
    {
      "cell_type": "code",
      "source": [
        "# Test transferability of adversarial examples from ResNet-56 to ViT-32\n",
        "transfer_rate = test_transferability(\n",
        "    target_model=model_resnet,          # ViT-32 as the target model\n",
        "    adv_loader=adv_loader_resized_rays,  # Adversarial examples generated by ResNet-56\n",
        "    device=device\n",
        ")\n",
        "\n",
        "print(f\"Transferability from ResNet-56 to ViT-32: {transfer_rate:.2f}%\")"
      ],
      "metadata": {
        "id": "76Sbx3FzbpuG",
        "colab": {
          "base_uri": "https://localhost:8080/"
        },
        "outputId": "7ff1617b-6af7-4a28-db5e-0216f8056663"
      },
      "execution_count": 64,
      "outputs": [
        {
          "output_type": "stream",
          "name": "stdout",
          "text": [
            "Transferability from ResNet-56 to ViT-32: 64.80%\n"
          ]
        },
        {
          "output_type": "stream",
          "name": "stderr",
          "text": [
            "/content/ResNetPytorch.py:161: UserWarning: Implicit dimension choice for softmax has been deprecated. Change the call to include dim=X as an argument.\n",
            "  out = F.softmax(self.sm(out))\n"
          ]
        }
      ]
    }
  ],
  "metadata": {
    "accelerator": "GPU",
    "colab": {
      "gpuType": "A100",
      "machine_shape": "hm",
      "provenance": []
    },
    "kernelspec": {
      "display_name": "Python 3",
      "name": "python3"
    },
    "language_info": {
      "name": "python"
    },
    "widgets": {
      "application/vnd.jupyter.widget-state+json": {
        "97786e942ce54f8284636170744fcb05": {
          "model_module": "@jupyter-widgets/controls",
          "model_name": "HBoxModel",
          "model_module_version": "1.5.0",
          "state": {
            "_dom_classes": [],
            "_model_module": "@jupyter-widgets/controls",
            "_model_module_version": "1.5.0",
            "_model_name": "HBoxModel",
            "_view_count": null,
            "_view_module": "@jupyter-widgets/controls",
            "_view_module_version": "1.5.0",
            "_view_name": "HBoxView",
            "box_style": "",
            "children": [
              "IPY_MODEL_fe818d7b815c4c92ae997ec55bb191c2",
              "IPY_MODEL_152a89fa5d5d4c9884386961ac21a713",
              "IPY_MODEL_53884a265dee4bfd8a2a8bc76be6b9b6"
            ],
            "layout": "IPY_MODEL_9b4ba6b0951f467b9ea4a5a5ae8da6e4"
          }
        },
        "fe818d7b815c4c92ae997ec55bb191c2": {
          "model_module": "@jupyter-widgets/controls",
          "model_name": "HTMLModel",
          "model_module_version": "1.5.0",
          "state": {
            "_dom_classes": [],
            "_model_module": "@jupyter-widgets/controls",
            "_model_module_version": "1.5.0",
            "_model_name": "HTMLModel",
            "_view_count": null,
            "_view_module": "@jupyter-widgets/controls",
            "_view_module_version": "1.5.0",
            "_view_name": "HTMLView",
            "description": "",
            "description_tooltip": null,
            "layout": "IPY_MODEL_fbf81d617eed46c784ee520df3fcc5f9",
            "placeholder": "​",
            "style": "IPY_MODEL_408503ad97e14f10b0f1d151a72b0455",
            "value": "model.safetensors: 100%"
          }
        },
        "152a89fa5d5d4c9884386961ac21a713": {
          "model_module": "@jupyter-widgets/controls",
          "model_name": "FloatProgressModel",
          "model_module_version": "1.5.0",
          "state": {
            "_dom_classes": [],
            "_model_module": "@jupyter-widgets/controls",
            "_model_module_version": "1.5.0",
            "_model_name": "FloatProgressModel",
            "_view_count": null,
            "_view_module": "@jupyter-widgets/controls",
            "_view_module_version": "1.5.0",
            "_view_name": "ProgressView",
            "bar_style": "success",
            "description": "",
            "description_tooltip": null,
            "layout": "IPY_MODEL_032a008aecaf4376a678715313c3ef80",
            "max": 352911016,
            "min": 0,
            "orientation": "horizontal",
            "style": "IPY_MODEL_545e66f07c88404f9b4af1de930562f4",
            "value": 352911016
          }
        },
        "53884a265dee4bfd8a2a8bc76be6b9b6": {
          "model_module": "@jupyter-widgets/controls",
          "model_name": "HTMLModel",
          "model_module_version": "1.5.0",
          "state": {
            "_dom_classes": [],
            "_model_module": "@jupyter-widgets/controls",
            "_model_module_version": "1.5.0",
            "_model_name": "HTMLModel",
            "_view_count": null,
            "_view_module": "@jupyter-widgets/controls",
            "_view_module_version": "1.5.0",
            "_view_name": "HTMLView",
            "description": "",
            "description_tooltip": null,
            "layout": "IPY_MODEL_24f69de7250f48ae86332718f6096238",
            "placeholder": "​",
            "style": "IPY_MODEL_dd049fdaf8214b8987637a47f9f8f320",
            "value": " 353M/353M [00:01&lt;00:00, 249MB/s]"
          }
        },
        "9b4ba6b0951f467b9ea4a5a5ae8da6e4": {
          "model_module": "@jupyter-widgets/base",
          "model_name": "LayoutModel",
          "model_module_version": "1.2.0",
          "state": {
            "_model_module": "@jupyter-widgets/base",
            "_model_module_version": "1.2.0",
            "_model_name": "LayoutModel",
            "_view_count": null,
            "_view_module": "@jupyter-widgets/base",
            "_view_module_version": "1.2.0",
            "_view_name": "LayoutView",
            "align_content": null,
            "align_items": null,
            "align_self": null,
            "border": null,
            "bottom": null,
            "display": null,
            "flex": null,
            "flex_flow": null,
            "grid_area": null,
            "grid_auto_columns": null,
            "grid_auto_flow": null,
            "grid_auto_rows": null,
            "grid_column": null,
            "grid_gap": null,
            "grid_row": null,
            "grid_template_areas": null,
            "grid_template_columns": null,
            "grid_template_rows": null,
            "height": null,
            "justify_content": null,
            "justify_items": null,
            "left": null,
            "margin": null,
            "max_height": null,
            "max_width": null,
            "min_height": null,
            "min_width": null,
            "object_fit": null,
            "object_position": null,
            "order": null,
            "overflow": null,
            "overflow_x": null,
            "overflow_y": null,
            "padding": null,
            "right": null,
            "top": null,
            "visibility": null,
            "width": null
          }
        },
        "fbf81d617eed46c784ee520df3fcc5f9": {
          "model_module": "@jupyter-widgets/base",
          "model_name": "LayoutModel",
          "model_module_version": "1.2.0",
          "state": {
            "_model_module": "@jupyter-widgets/base",
            "_model_module_version": "1.2.0",
            "_model_name": "LayoutModel",
            "_view_count": null,
            "_view_module": "@jupyter-widgets/base",
            "_view_module_version": "1.2.0",
            "_view_name": "LayoutView",
            "align_content": null,
            "align_items": null,
            "align_self": null,
            "border": null,
            "bottom": null,
            "display": null,
            "flex": null,
            "flex_flow": null,
            "grid_area": null,
            "grid_auto_columns": null,
            "grid_auto_flow": null,
            "grid_auto_rows": null,
            "grid_column": null,
            "grid_gap": null,
            "grid_row": null,
            "grid_template_areas": null,
            "grid_template_columns": null,
            "grid_template_rows": null,
            "height": null,
            "justify_content": null,
            "justify_items": null,
            "left": null,
            "margin": null,
            "max_height": null,
            "max_width": null,
            "min_height": null,
            "min_width": null,
            "object_fit": null,
            "object_position": null,
            "order": null,
            "overflow": null,
            "overflow_x": null,
            "overflow_y": null,
            "padding": null,
            "right": null,
            "top": null,
            "visibility": null,
            "width": null
          }
        },
        "408503ad97e14f10b0f1d151a72b0455": {
          "model_module": "@jupyter-widgets/controls",
          "model_name": "DescriptionStyleModel",
          "model_module_version": "1.5.0",
          "state": {
            "_model_module": "@jupyter-widgets/controls",
            "_model_module_version": "1.5.0",
            "_model_name": "DescriptionStyleModel",
            "_view_count": null,
            "_view_module": "@jupyter-widgets/base",
            "_view_module_version": "1.2.0",
            "_view_name": "StyleView",
            "description_width": ""
          }
        },
        "032a008aecaf4376a678715313c3ef80": {
          "model_module": "@jupyter-widgets/base",
          "model_name": "LayoutModel",
          "model_module_version": "1.2.0",
          "state": {
            "_model_module": "@jupyter-widgets/base",
            "_model_module_version": "1.2.0",
            "_model_name": "LayoutModel",
            "_view_count": null,
            "_view_module": "@jupyter-widgets/base",
            "_view_module_version": "1.2.0",
            "_view_name": "LayoutView",
            "align_content": null,
            "align_items": null,
            "align_self": null,
            "border": null,
            "bottom": null,
            "display": null,
            "flex": null,
            "flex_flow": null,
            "grid_area": null,
            "grid_auto_columns": null,
            "grid_auto_flow": null,
            "grid_auto_rows": null,
            "grid_column": null,
            "grid_gap": null,
            "grid_row": null,
            "grid_template_areas": null,
            "grid_template_columns": null,
            "grid_template_rows": null,
            "height": null,
            "justify_content": null,
            "justify_items": null,
            "left": null,
            "margin": null,
            "max_height": null,
            "max_width": null,
            "min_height": null,
            "min_width": null,
            "object_fit": null,
            "object_position": null,
            "order": null,
            "overflow": null,
            "overflow_x": null,
            "overflow_y": null,
            "padding": null,
            "right": null,
            "top": null,
            "visibility": null,
            "width": null
          }
        },
        "545e66f07c88404f9b4af1de930562f4": {
          "model_module": "@jupyter-widgets/controls",
          "model_name": "ProgressStyleModel",
          "model_module_version": "1.5.0",
          "state": {
            "_model_module": "@jupyter-widgets/controls",
            "_model_module_version": "1.5.0",
            "_model_name": "ProgressStyleModel",
            "_view_count": null,
            "_view_module": "@jupyter-widgets/base",
            "_view_module_version": "1.2.0",
            "_view_name": "StyleView",
            "bar_color": null,
            "description_width": ""
          }
        },
        "24f69de7250f48ae86332718f6096238": {
          "model_module": "@jupyter-widgets/base",
          "model_name": "LayoutModel",
          "model_module_version": "1.2.0",
          "state": {
            "_model_module": "@jupyter-widgets/base",
            "_model_module_version": "1.2.0",
            "_model_name": "LayoutModel",
            "_view_count": null,
            "_view_module": "@jupyter-widgets/base",
            "_view_module_version": "1.2.0",
            "_view_name": "LayoutView",
            "align_content": null,
            "align_items": null,
            "align_self": null,
            "border": null,
            "bottom": null,
            "display": null,
            "flex": null,
            "flex_flow": null,
            "grid_area": null,
            "grid_auto_columns": null,
            "grid_auto_flow": null,
            "grid_auto_rows": null,
            "grid_column": null,
            "grid_gap": null,
            "grid_row": null,
            "grid_template_areas": null,
            "grid_template_columns": null,
            "grid_template_rows": null,
            "height": null,
            "justify_content": null,
            "justify_items": null,
            "left": null,
            "margin": null,
            "max_height": null,
            "max_width": null,
            "min_height": null,
            "min_width": null,
            "object_fit": null,
            "object_position": null,
            "order": null,
            "overflow": null,
            "overflow_x": null,
            "overflow_y": null,
            "padding": null,
            "right": null,
            "top": null,
            "visibility": null,
            "width": null
          }
        },
        "dd049fdaf8214b8987637a47f9f8f320": {
          "model_module": "@jupyter-widgets/controls",
          "model_name": "DescriptionStyleModel",
          "model_module_version": "1.5.0",
          "state": {
            "_model_module": "@jupyter-widgets/controls",
            "_model_module_version": "1.5.0",
            "_model_name": "DescriptionStyleModel",
            "_view_count": null,
            "_view_module": "@jupyter-widgets/base",
            "_view_module_version": "1.2.0",
            "_view_name": "StyleView",
            "description_width": ""
          }
        },
        "68dbc9c563d14d7fa58777e4a3ece32d": {
          "model_module": "@jupyter-widgets/controls",
          "model_name": "HBoxModel",
          "model_module_version": "1.5.0",
          "state": {
            "_dom_classes": [],
            "_model_module": "@jupyter-widgets/controls",
            "_model_module_version": "1.5.0",
            "_model_name": "HBoxModel",
            "_view_count": null,
            "_view_module": "@jupyter-widgets/controls",
            "_view_module_version": "1.5.0",
            "_view_name": "HBoxView",
            "box_style": "",
            "children": [
              "IPY_MODEL_813ae01021d24eb6b996e0b7a7bacbda",
              "IPY_MODEL_bb9e8c34cb924c169b1a860d52a5ac32",
              "IPY_MODEL_cbd12b9b782e4c4bbd66e934ad1a08b6"
            ],
            "layout": "IPY_MODEL_582ab8d5c3b04d219993c9175d1ed912"
          }
        },
        "813ae01021d24eb6b996e0b7a7bacbda": {
          "model_module": "@jupyter-widgets/controls",
          "model_name": "HTMLModel",
          "model_module_version": "1.5.0",
          "state": {
            "_dom_classes": [],
            "_model_module": "@jupyter-widgets/controls",
            "_model_module_version": "1.5.0",
            "_model_name": "HTMLModel",
            "_view_count": null,
            "_view_module": "@jupyter-widgets/controls",
            "_view_module_version": "1.5.0",
            "_view_name": "HTMLView",
            "description": "",
            "description_tooltip": null,
            "layout": "IPY_MODEL_618f24ff68924ae7b82fc2383e57872e",
            "placeholder": "​",
            "style": "IPY_MODEL_5594bfa3282749488f3bb0df6f94dc54",
            "value": "model.safetensors: 100%"
          }
        },
        "bb9e8c34cb924c169b1a860d52a5ac32": {
          "model_module": "@jupyter-widgets/controls",
          "model_name": "FloatProgressModel",
          "model_module_version": "1.5.0",
          "state": {
            "_dom_classes": [],
            "_model_module": "@jupyter-widgets/controls",
            "_model_module_version": "1.5.0",
            "_model_name": "FloatProgressModel",
            "_view_count": null,
            "_view_module": "@jupyter-widgets/controls",
            "_view_module_version": "1.5.0",
            "_view_name": "ProgressView",
            "bar_style": "success",
            "description": "",
            "description_tooltip": null,
            "layout": "IPY_MODEL_6f225139d0ac463bb604f36a0a18f8b2",
            "max": 352911016,
            "min": 0,
            "orientation": "horizontal",
            "style": "IPY_MODEL_f117ba830d2c4615807962398a550597",
            "value": 352911016
          }
        },
        "cbd12b9b782e4c4bbd66e934ad1a08b6": {
          "model_module": "@jupyter-widgets/controls",
          "model_name": "HTMLModel",
          "model_module_version": "1.5.0",
          "state": {
            "_dom_classes": [],
            "_model_module": "@jupyter-widgets/controls",
            "_model_module_version": "1.5.0",
            "_model_name": "HTMLModel",
            "_view_count": null,
            "_view_module": "@jupyter-widgets/controls",
            "_view_module_version": "1.5.0",
            "_view_name": "HTMLView",
            "description": "",
            "description_tooltip": null,
            "layout": "IPY_MODEL_9ee3447e69f142e1aed2b7cef6b9acec",
            "placeholder": "​",
            "style": "IPY_MODEL_6430243f4afd4e6dbbf8d36c244a7095",
            "value": " 353M/353M [00:01&lt;00:00, 216MB/s]"
          }
        },
        "582ab8d5c3b04d219993c9175d1ed912": {
          "model_module": "@jupyter-widgets/base",
          "model_name": "LayoutModel",
          "model_module_version": "1.2.0",
          "state": {
            "_model_module": "@jupyter-widgets/base",
            "_model_module_version": "1.2.0",
            "_model_name": "LayoutModel",
            "_view_count": null,
            "_view_module": "@jupyter-widgets/base",
            "_view_module_version": "1.2.0",
            "_view_name": "LayoutView",
            "align_content": null,
            "align_items": null,
            "align_self": null,
            "border": null,
            "bottom": null,
            "display": null,
            "flex": null,
            "flex_flow": null,
            "grid_area": null,
            "grid_auto_columns": null,
            "grid_auto_flow": null,
            "grid_auto_rows": null,
            "grid_column": null,
            "grid_gap": null,
            "grid_row": null,
            "grid_template_areas": null,
            "grid_template_columns": null,
            "grid_template_rows": null,
            "height": null,
            "justify_content": null,
            "justify_items": null,
            "left": null,
            "margin": null,
            "max_height": null,
            "max_width": null,
            "min_height": null,
            "min_width": null,
            "object_fit": null,
            "object_position": null,
            "order": null,
            "overflow": null,
            "overflow_x": null,
            "overflow_y": null,
            "padding": null,
            "right": null,
            "top": null,
            "visibility": null,
            "width": null
          }
        },
        "618f24ff68924ae7b82fc2383e57872e": {
          "model_module": "@jupyter-widgets/base",
          "model_name": "LayoutModel",
          "model_module_version": "1.2.0",
          "state": {
            "_model_module": "@jupyter-widgets/base",
            "_model_module_version": "1.2.0",
            "_model_name": "LayoutModel",
            "_view_count": null,
            "_view_module": "@jupyter-widgets/base",
            "_view_module_version": "1.2.0",
            "_view_name": "LayoutView",
            "align_content": null,
            "align_items": null,
            "align_self": null,
            "border": null,
            "bottom": null,
            "display": null,
            "flex": null,
            "flex_flow": null,
            "grid_area": null,
            "grid_auto_columns": null,
            "grid_auto_flow": null,
            "grid_auto_rows": null,
            "grid_column": null,
            "grid_gap": null,
            "grid_row": null,
            "grid_template_areas": null,
            "grid_template_columns": null,
            "grid_template_rows": null,
            "height": null,
            "justify_content": null,
            "justify_items": null,
            "left": null,
            "margin": null,
            "max_height": null,
            "max_width": null,
            "min_height": null,
            "min_width": null,
            "object_fit": null,
            "object_position": null,
            "order": null,
            "overflow": null,
            "overflow_x": null,
            "overflow_y": null,
            "padding": null,
            "right": null,
            "top": null,
            "visibility": null,
            "width": null
          }
        },
        "5594bfa3282749488f3bb0df6f94dc54": {
          "model_module": "@jupyter-widgets/controls",
          "model_name": "DescriptionStyleModel",
          "model_module_version": "1.5.0",
          "state": {
            "_model_module": "@jupyter-widgets/controls",
            "_model_module_version": "1.5.0",
            "_model_name": "DescriptionStyleModel",
            "_view_count": null,
            "_view_module": "@jupyter-widgets/base",
            "_view_module_version": "1.2.0",
            "_view_name": "StyleView",
            "description_width": ""
          }
        },
        "6f225139d0ac463bb604f36a0a18f8b2": {
          "model_module": "@jupyter-widgets/base",
          "model_name": "LayoutModel",
          "model_module_version": "1.2.0",
          "state": {
            "_model_module": "@jupyter-widgets/base",
            "_model_module_version": "1.2.0",
            "_model_name": "LayoutModel",
            "_view_count": null,
            "_view_module": "@jupyter-widgets/base",
            "_view_module_version": "1.2.0",
            "_view_name": "LayoutView",
            "align_content": null,
            "align_items": null,
            "align_self": null,
            "border": null,
            "bottom": null,
            "display": null,
            "flex": null,
            "flex_flow": null,
            "grid_area": null,
            "grid_auto_columns": null,
            "grid_auto_flow": null,
            "grid_auto_rows": null,
            "grid_column": null,
            "grid_gap": null,
            "grid_row": null,
            "grid_template_areas": null,
            "grid_template_columns": null,
            "grid_template_rows": null,
            "height": null,
            "justify_content": null,
            "justify_items": null,
            "left": null,
            "margin": null,
            "max_height": null,
            "max_width": null,
            "min_height": null,
            "min_width": null,
            "object_fit": null,
            "object_position": null,
            "order": null,
            "overflow": null,
            "overflow_x": null,
            "overflow_y": null,
            "padding": null,
            "right": null,
            "top": null,
            "visibility": null,
            "width": null
          }
        },
        "f117ba830d2c4615807962398a550597": {
          "model_module": "@jupyter-widgets/controls",
          "model_name": "ProgressStyleModel",
          "model_module_version": "1.5.0",
          "state": {
            "_model_module": "@jupyter-widgets/controls",
            "_model_module_version": "1.5.0",
            "_model_name": "ProgressStyleModel",
            "_view_count": null,
            "_view_module": "@jupyter-widgets/base",
            "_view_module_version": "1.2.0",
            "_view_name": "StyleView",
            "bar_color": null,
            "description_width": ""
          }
        },
        "9ee3447e69f142e1aed2b7cef6b9acec": {
          "model_module": "@jupyter-widgets/base",
          "model_name": "LayoutModel",
          "model_module_version": "1.2.0",
          "state": {
            "_model_module": "@jupyter-widgets/base",
            "_model_module_version": "1.2.0",
            "_model_name": "LayoutModel",
            "_view_count": null,
            "_view_module": "@jupyter-widgets/base",
            "_view_module_version": "1.2.0",
            "_view_name": "LayoutView",
            "align_content": null,
            "align_items": null,
            "align_self": null,
            "border": null,
            "bottom": null,
            "display": null,
            "flex": null,
            "flex_flow": null,
            "grid_area": null,
            "grid_auto_columns": null,
            "grid_auto_flow": null,
            "grid_auto_rows": null,
            "grid_column": null,
            "grid_gap": null,
            "grid_row": null,
            "grid_template_areas": null,
            "grid_template_columns": null,
            "grid_template_rows": null,
            "height": null,
            "justify_content": null,
            "justify_items": null,
            "left": null,
            "margin": null,
            "max_height": null,
            "max_width": null,
            "min_height": null,
            "min_width": null,
            "object_fit": null,
            "object_position": null,
            "order": null,
            "overflow": null,
            "overflow_x": null,
            "overflow_y": null,
            "padding": null,
            "right": null,
            "top": null,
            "visibility": null,
            "width": null
          }
        },
        "6430243f4afd4e6dbbf8d36c244a7095": {
          "model_module": "@jupyter-widgets/controls",
          "model_name": "DescriptionStyleModel",
          "model_module_version": "1.5.0",
          "state": {
            "_model_module": "@jupyter-widgets/controls",
            "_model_module_version": "1.5.0",
            "_model_name": "DescriptionStyleModel",
            "_view_count": null,
            "_view_module": "@jupyter-widgets/base",
            "_view_module_version": "1.2.0",
            "_view_name": "StyleView",
            "description_width": ""
          }
        }
      }
    }
  },
  "nbformat": 4,
  "nbformat_minor": 0
}