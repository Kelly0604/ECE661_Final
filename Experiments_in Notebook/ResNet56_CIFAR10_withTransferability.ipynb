{
  "nbformat": 4,
  "nbformat_minor": 0,
  "metadata": {
    "colab": {
      "provenance": [],
      "machine_shape": "hm",
      "gpuType": "A100"
    },
    "kernelspec": {
      "name": "python3",
      "display_name": "Python 3"
    },
    "language_info": {
      "name": "python"
    },
    "accelerator": "GPU"
  },
  "cells": [
    {
      "cell_type": "markdown",
      "source": [
        "# ECE 661 Final\n",
        "\n",
        "ResNet56 on White-box attacks and Black-box attacks;\n",
        "\n",
        "Transferability Tested on ViT-32"
      ],
      "metadata": {
        "id": "P8U6trCYEfaZ"
      }
    },
    {
      "cell_type": "code",
      "execution_count": 1,
      "metadata": {
        "colab": {
          "base_uri": "https://localhost:8080/"
        },
        "id": "Bbw03IB5EVOz",
        "outputId": "0a3b1d4b-ecd7-4192-b1bc-a9b4b5118a68"
      },
      "outputs": [
        {
          "output_type": "stream",
          "name": "stdout",
          "text": [
            "Mounted at /content/drive\n",
            "/content/drive/MyDrive/ECE Final\n"
          ]
        }
      ],
      "source": [
        "# conenct to google drive\n",
        "from google.colab import drive\n",
        "drive.mount('/content/drive')\n",
        "%cd /content/drive/MyDrive/ECE Final"
      ]
    },
    {
      "cell_type": "markdown",
      "source": [
        "Preparing Environment"
      ],
      "metadata": {
        "id": "iKYKCySSEsRv"
      }
    },
    {
      "cell_type": "code",
      "source": [
        "import torch\n",
        "import torch.nn as nn\n",
        "import torch.optim as optim\n",
        "from torch.utils.data import DataLoader\n",
        "import torchvision.transforms as transforms\n",
        "import torchvision.datasets as datasets\n",
        "from ResNetPytorch import resnet56\n",
        "from AttackWrappersWhiteBoxP import FGSMNativePytorch, MIMNativePytorch\n",
        "import matplotlib.pyplot as plt\n",
        "import torchvision"
      ],
      "metadata": {
        "id": "eSq4VH0TEsa1"
      },
      "execution_count": 2,
      "outputs": []
    },
    {
      "cell_type": "markdown",
      "source": [
        "Loading ResNet56"
      ],
      "metadata": {
        "id": "dmAhvwz6Fj5r"
      }
    },
    {
      "cell_type": "code",
      "source": [
        "device = torch.device('cuda' if torch.cuda.is_available() else 'cpu')\n",
        "model = resnet56(inputImageSize=32, numClasses=10).to(device)"
      ],
      "metadata": {
        "id": "XOi2DaQxFj-5"
      },
      "execution_count": 3,
      "outputs": []
    },
    {
      "cell_type": "code",
      "source": [
        "# Data preprocessing\n",
        "transform_train = transforms.Compose([\n",
        "    transforms.RandomCrop(32, padding=4),  # Data augmentation\n",
        "    transforms.RandomHorizontalFlip(),\n",
        "    transforms.ToTensor(),\n",
        "    transforms.Normalize((0.5, 0.5, 0.5), (0.5, 0.5, 0.5)),  # Normalize to [-1, 1]\n",
        "])\n",
        "\n",
        "transform_test = transforms.Compose([\n",
        "    transforms.ToTensor(),\n",
        "    transforms.Normalize((0.5, 0.5, 0.5), (0.5, 0.5, 0.5)),\n",
        "])\n",
        "\n",
        "# Load CIFAR-10 dataset\n",
        "train_dataset = datasets.CIFAR10(root='./data', train=True, download=True, transform=transform_train)\n",
        "test_dataset = datasets.CIFAR10(root='./data', train=False, download=True, transform=transform_test)\n",
        "\n",
        "# DataLoaders\n",
        "train_loader = DataLoader(train_dataset, batch_size=64, shuffle=True, num_workers=2)\n",
        "test_loader = DataLoader(test_dataset, batch_size=64, shuffle=False, num_workers=2)"
      ],
      "metadata": {
        "colab": {
          "base_uri": "https://localhost:8080/"
        },
        "id": "MqF9Bm3zHoLn",
        "outputId": "2afe7301-9d7a-4f93-bd83-d26de9719210"
      },
      "execution_count": 5,
      "outputs": [
        {
          "output_type": "stream",
          "name": "stdout",
          "text": [
            "Files already downloaded and verified\n",
            "Files already downloaded and verified\n"
          ]
        }
      ]
    },
    {
      "cell_type": "code",
      "source": [
        "# Data preprocessing for 224x224 inputs\n",
        "transform_train = transforms.Compose([\n",
        "    transforms.Resize((224, 224)),\n",
        "    transforms.RandomCrop(224, padding=4),\n",
        "    transforms.RandomHorizontalFlip(),\n",
        "    transforms.ToTensor(),\n",
        "    transforms.Normalize((0.5, 0.5, 0.5), (0.5, 0.5, 0.5)),\n",
        "])\n",
        "\n",
        "transform_test = transforms.Compose([\n",
        "    transforms.Resize((224, 224)),  # Resize to 224x224\n",
        "    transforms.ToTensor(),\n",
        "    transforms.Normalize((0.5, 0.5, 0.5), (0.5, 0.5, 0.5)),\n",
        "])"
      ],
      "metadata": {
        "id": "rCDJ0WDejUSw"
      },
      "execution_count": 4,
      "outputs": []
    },
    {
      "cell_type": "markdown",
      "source": [
        "## Pretraining"
      ],
      "metadata": {
        "id": "3ey1ww1-WbOG"
      }
    },
    {
      "cell_type": "code",
      "source": [
        "# Loss function\n",
        "criterion = nn.CrossEntropyLoss()\n",
        "\n",
        "# Optimizer\n",
        "optimizer = optim.SGD(model.parameters(), lr=0.01, momentum=0.9, weight_decay=5e-4)\n",
        "\n",
        "# Learning rate scheduler\n",
        "scheduler = optim.lr_scheduler.StepLR(optimizer, step_size=30, gamma=0.1)"
      ],
      "metadata": {
        "id": "ZrRQd8UXH20b"
      },
      "execution_count": 8,
      "outputs": []
    },
    {
      "cell_type": "code",
      "source": [
        "def train_one_epoch(model, train_loader, criterion, optimizer, device):\n",
        "    model.train()\n",
        "    running_loss = 0.0\n",
        "    correct = 0\n",
        "    total = 0\n",
        "\n",
        "    for inputs, labels in train_loader:\n",
        "        inputs, labels = inputs.to(device), labels.to(device)\n",
        "\n",
        "        # Zero the parameter gradients\n",
        "        optimizer.zero_grad()\n",
        "\n",
        "        # Forward + backward + optimize\n",
        "        outputs = model(inputs)\n",
        "        loss = criterion(outputs, labels)\n",
        "        loss.backward()\n",
        "        optimizer.step()\n",
        "\n",
        "        # Statistics\n",
        "        running_loss += loss.item()\n",
        "        _, predicted = outputs.max(1)\n",
        "        total += labels.size(0)\n",
        "        correct += predicted.eq(labels).sum().item()\n",
        "\n",
        "    epoch_loss = running_loss / len(train_loader)\n",
        "    accuracy = 100. * correct / total\n",
        "    return epoch_loss, accuracy"
      ],
      "metadata": {
        "id": "FT1i9a8bICKF"
      },
      "execution_count": 7,
      "outputs": []
    },
    {
      "cell_type": "code",
      "source": [
        "def validate(model, test_loader, criterion, device):\n",
        "    model.eval()\n",
        "    running_loss = 0.0\n",
        "    correct = 0\n",
        "    total = 0\n",
        "\n",
        "    with torch.no_grad():\n",
        "        for inputs, labels in test_loader:\n",
        "            inputs, labels = inputs.to(device), labels.to(device)\n",
        "\n",
        "            # Forward pass\n",
        "            outputs = model(inputs)\n",
        "            loss = criterion(outputs, labels)\n",
        "\n",
        "            # Statistics\n",
        "            running_loss += loss.item()\n",
        "            _, predicted = outputs.max(1)\n",
        "            total += labels.size(0)\n",
        "            correct += predicted.eq(labels).sum().item()\n",
        "\n",
        "    epoch_loss = running_loss / len(test_loader)\n",
        "    accuracy = 100. * correct / total\n",
        "    return epoch_loss, accuracy"
      ],
      "metadata": {
        "id": "r_NjzjtJIDi5"
      },
      "execution_count": 9,
      "outputs": []
    },
    {
      "cell_type": "code",
      "source": [
        "num_epochs = 20\n",
        "\n",
        "for epoch in range(num_epochs):\n",
        "    train_loss, train_acc = train_one_epoch(model, train_loader, criterion, optimizer, device)\n",
        "    val_loss, val_acc = validate(model, test_loader, criterion, device)\n",
        "    scheduler.step()  # Update learning rate\n",
        "\n",
        "    print(f\"Epoch {epoch + 1}/{num_epochs}, \"\n",
        "          f\"Train Loss: {train_loss:.4f}, Train Acc: {train_acc:.2f}%, \"\n",
        "          f\"Val Loss: {val_loss:.4f}, Val Acc: {val_acc:.2f}%\")"
      ],
      "metadata": {
        "colab": {
          "base_uri": "https://localhost:8080/"
        },
        "id": "VRp_WvZNIIn2",
        "outputId": "67dfe54d-7f35-47b2-c403-8e410bb0570c"
      },
      "execution_count": 52,
      "outputs": [
        {
          "output_type": "stream",
          "name": "stderr",
          "text": [
            "/content/drive/MyDrive/ECE Final/ResNetPytorch.py:161: UserWarning: Implicit dimension choice for softmax has been deprecated. Change the call to include dim=X as an argument.\n",
            "  out = F.softmax(self.sm(out))\n"
          ]
        },
        {
          "output_type": "stream",
          "name": "stdout",
          "text": [
            "Epoch 1/20, Train Loss: 2.2412, Train Acc: 19.77%, Val Loss: 2.1882, Val Acc: 25.99%\n",
            "Epoch 2/20, Train Loss: 2.1348, Train Acc: 32.70%, Val Loss: 2.0843, Val Acc: 37.84%\n",
            "Epoch 3/20, Train Loss: 2.0657, Train Acc: 39.56%, Val Loss: 2.0202, Val Acc: 44.34%\n",
            "Epoch 4/20, Train Loss: 2.0194, Train Acc: 44.17%, Val Loss: 2.0281, Val Acc: 42.91%\n",
            "Epoch 5/20, Train Loss: 1.9761, Train Acc: 48.82%, Val Loss: 1.9681, Val Acc: 49.32%\n",
            "Epoch 6/20, Train Loss: 1.9392, Train Acc: 52.59%, Val Loss: 1.9280, Val Acc: 53.47%\n",
            "Epoch 7/20, Train Loss: 1.9048, Train Acc: 56.03%, Val Loss: 1.8923, Val Acc: 56.70%\n",
            "Epoch 8/20, Train Loss: 1.8748, Train Acc: 59.03%, Val Loss: 1.8737, Val Acc: 58.83%\n",
            "Epoch 9/20, Train Loss: 1.8471, Train Acc: 62.07%, Val Loss: 1.8218, Val Acc: 64.15%\n",
            "Epoch 10/20, Train Loss: 1.8252, Train Acc: 64.16%, Val Loss: 1.8224, Val Acc: 64.27%\n",
            "Epoch 11/20, Train Loss: 1.8046, Train Acc: 66.12%, Val Loss: 1.7992, Val Acc: 66.18%\n",
            "Epoch 12/20, Train Loss: 1.7834, Train Acc: 68.41%, Val Loss: 1.7818, Val Acc: 68.33%\n",
            "Epoch 13/20, Train Loss: 1.7639, Train Acc: 70.30%, Val Loss: 1.7563, Val Acc: 70.96%\n",
            "Epoch 14/20, Train Loss: 1.7499, Train Acc: 71.66%, Val Loss: 1.7609, Val Acc: 70.22%\n",
            "Epoch 15/20, Train Loss: 1.7333, Train Acc: 73.36%, Val Loss: 1.7225, Val Acc: 74.09%\n",
            "Epoch 16/20, Train Loss: 1.7218, Train Acc: 74.53%, Val Loss: 1.7597, Val Acc: 70.40%\n",
            "Epoch 17/20, Train Loss: 1.7099, Train Acc: 75.71%, Val Loss: 1.7483, Val Acc: 71.37%\n",
            "Epoch 18/20, Train Loss: 1.7003, Train Acc: 76.65%, Val Loss: 1.7012, Val Acc: 76.37%\n",
            "Epoch 19/20, Train Loss: 1.6935, Train Acc: 77.38%, Val Loss: 1.6879, Val Acc: 77.61%\n",
            "Epoch 20/20, Train Loss: 1.6865, Train Acc: 78.00%, Val Loss: 1.6942, Val Acc: 77.24%\n"
          ]
        }
      ]
    },
    {
      "cell_type": "code",
      "source": [
        "torch.save(model.state_dict(), \"resnet56_cifar10_2.pth\")\n",
        "print(\"Model saved as resnet56_cifar10.pth\")"
      ],
      "metadata": {
        "colab": {
          "base_uri": "https://localhost:8080/"
        },
        "id": "7sBUNaVfIN64",
        "outputId": "52401091-e470-4136-efa4-9c721b2de95f"
      },
      "execution_count": 53,
      "outputs": [
        {
          "output_type": "stream",
          "name": "stdout",
          "text": [
            "Model saved as resnet56_cifar10.pth\n"
          ]
        }
      ]
    },
    {
      "cell_type": "markdown",
      "source": [
        "## Loading Model from saved"
      ],
      "metadata": {
        "id": "DnivWjZEWeje"
      }
    },
    {
      "cell_type": "code",
      "source": [
        "model.load_state_dict(torch.load(\"resnet56_cifar10_2.pth\"))\n",
        "model.eval()\n",
        "\n",
        "test_loss, test_acc = validate(model, test_loader, criterion, device)\n",
        "print(f\"Test Loss: {test_loss:.4f}, Test Accuracy: {test_acc:.2f}%\")"
      ],
      "metadata": {
        "colab": {
          "base_uri": "https://localhost:8080/"
        },
        "id": "Ci4L0OetIPmN",
        "outputId": "6adaa1a3-6466-4cfc-cd47-c85fbb04bba0"
      },
      "execution_count": 10,
      "outputs": [
        {
          "output_type": "stream",
          "name": "stderr",
          "text": [
            "<ipython-input-10-a271931a23ba>:1: FutureWarning: You are using `torch.load` with `weights_only=False` (the current default value), which uses the default pickle module implicitly. It is possible to construct malicious pickle data which will execute arbitrary code during unpickling (See https://github.com/pytorch/pytorch/blob/main/SECURITY.md#untrusted-models for more details). In a future release, the default value for `weights_only` will be flipped to `True`. This limits the functions that could be executed during unpickling. Arbitrary objects will no longer be allowed to be loaded via this mode unless they are explicitly allowlisted by the user via `torch.serialization.add_safe_globals`. We recommend you start setting `weights_only=True` for any use case where you don't have full control of the loaded file. Please open an issue on GitHub for any issues related to this experimental feature.\n",
            "  model.load_state_dict(torch.load(\"resnet56_cifar10_2.pth\"))\n",
            "/content/drive/MyDrive/ECE Final/ResNetPytorch.py:161: UserWarning: Implicit dimension choice for softmax has been deprecated. Change the call to include dim=X as an argument.\n",
            "  out = F.softmax(self.sm(out))\n"
          ]
        },
        {
          "output_type": "stream",
          "name": "stdout",
          "text": [
            "Test Loss: 1.6941, Test Accuracy: 77.25%\n"
          ]
        }
      ]
    },
    {
      "cell_type": "markdown",
      "source": [
        "## Evaluate"
      ],
      "metadata": {
        "id": "JRdv1xs4XQli"
      }
    },
    {
      "cell_type": "code",
      "source": [
        "def evaluate(model, data_loader):\n",
        "    model.eval()\n",
        "    correct = 0\n",
        "    total = 0\n",
        "\n",
        "    for images, labels in data_loader:\n",
        "        images, labels = images.to(device), labels.to(device)\n",
        "\n",
        "        # Forward pass\n",
        "        outputs = model(images)\n",
        "        _, predicted = torch.max(outputs.data, 1)\n",
        "        total += labels.size(0)\n",
        "        correct += (predicted == labels).sum().item()\n",
        "\n",
        "    accuracy = 100 * correct / total\n",
        "    print(f'Accuracy: {accuracy:.2f}%')\n",
        "    return accuracy"
      ],
      "metadata": {
        "id": "ARwhiOkyXQPI"
      },
      "execution_count": 11,
      "outputs": []
    },
    {
      "cell_type": "code",
      "source": [
        "# Clean Accuracy\n",
        "clean_accuracy = evaluate(model, test_loader)\n",
        "print(f\"Accuracy on clean test images: {clean_accuracy:.2f}%\")"
      ],
      "metadata": {
        "colab": {
          "base_uri": "https://localhost:8080/"
        },
        "id": "25zSecjIXCow",
        "outputId": "7502cf6f-5158-4a47-99fd-3c9327070213"
      },
      "execution_count": 12,
      "outputs": [
        {
          "output_type": "stream",
          "name": "stdout",
          "text": [
            "Accuracy: 77.25%\n",
            "Accuracy on clean test images: 77.25%\n"
          ]
        }
      ]
    },
    {
      "cell_type": "markdown",
      "source": [
        "## Adversarial Attacks"
      ],
      "metadata": {
        "id": "XL4dVAXOIjtY"
      }
    },
    {
      "cell_type": "code",
      "source": [
        "model = resnet56(inputImageSize=32, numClasses=10).to(device)\n",
        "model.load_state_dict(torch.load(\"resnet56_cifar10_2.pth\"))\n",
        "model.eval()"
      ],
      "metadata": {
        "colab": {
          "base_uri": "https://localhost:8080/"
        },
        "id": "f6c6xlQQIk6o",
        "outputId": "6f093f96-f3a6-46fe-f881-55db92eeb055"
      },
      "execution_count": 13,
      "outputs": [
        {
          "output_type": "stream",
          "name": "stderr",
          "text": [
            "<ipython-input-13-ae9f0afdf0ac>:2: FutureWarning: You are using `torch.load` with `weights_only=False` (the current default value), which uses the default pickle module implicitly. It is possible to construct malicious pickle data which will execute arbitrary code during unpickling (See https://github.com/pytorch/pytorch/blob/main/SECURITY.md#untrusted-models for more details). In a future release, the default value for `weights_only` will be flipped to `True`. This limits the functions that could be executed during unpickling. Arbitrary objects will no longer be allowed to be loaded via this mode unless they are explicitly allowlisted by the user via `torch.serialization.add_safe_globals`. We recommend you start setting `weights_only=True` for any use case where you don't have full control of the loaded file. Please open an issue on GitHub for any issues related to this experimental feature.\n",
            "  model.load_state_dict(torch.load(\"resnet56_cifar10_2.pth\"))\n"
          ]
        },
        {
          "output_type": "execute_result",
          "data": {
            "text/plain": [
              "ResNet(\n",
              "  (conv1): Conv2d(3, 16, kernel_size=(3, 3), stride=(1, 1), padding=(1, 1))\n",
              "  (bn1): BatchNorm2d(16, eps=1e-05, momentum=0.1, affine=True, track_running_stats=True)\n",
              "  (layer1): Sequential(\n",
              "    (0): BasicBlock(\n",
              "      (bn1): BatchNorm2d(16, eps=1e-05, momentum=0.1, affine=True, track_running_stats=True)\n",
              "      (conv1): Conv2d(16, 16, kernel_size=(1, 1), stride=(1, 1))\n",
              "      (bn2): BatchNorm2d(16, eps=1e-05, momentum=0.1, affine=True, track_running_stats=True)\n",
              "      (conv2): Conv2d(16, 16, kernel_size=(3, 3), stride=(1, 1), padding=(1, 1))\n",
              "      (bn3): BatchNorm2d(16, eps=1e-05, momentum=0.1, affine=True, track_running_stats=True)\n",
              "      (conv3): Conv2d(16, 64, kernel_size=(1, 1), stride=(1, 1))\n",
              "      (shortcut): Sequential(\n",
              "        (0): Conv2d(16, 64, kernel_size=(1, 1), stride=(1, 1))\n",
              "      )\n",
              "    )\n",
              "    (1): BasicBlock(\n",
              "      (bn1): BatchNorm2d(64, eps=1e-05, momentum=0.1, affine=True, track_running_stats=True)\n",
              "      (conv1): Conv2d(64, 16, kernel_size=(1, 1), stride=(1, 1))\n",
              "      (bn2): BatchNorm2d(16, eps=1e-05, momentum=0.1, affine=True, track_running_stats=True)\n",
              "      (conv2): Conv2d(16, 16, kernel_size=(3, 3), stride=(1, 1), padding=(1, 1))\n",
              "      (bn3): BatchNorm2d(16, eps=1e-05, momentum=0.1, affine=True, track_running_stats=True)\n",
              "      (conv3): Conv2d(16, 64, kernel_size=(1, 1), stride=(1, 1))\n",
              "      (shortcut): Sequential()\n",
              "    )\n",
              "    (2): BasicBlock(\n",
              "      (bn1): BatchNorm2d(64, eps=1e-05, momentum=0.1, affine=True, track_running_stats=True)\n",
              "      (conv1): Conv2d(64, 16, kernel_size=(1, 1), stride=(1, 1))\n",
              "      (bn2): BatchNorm2d(16, eps=1e-05, momentum=0.1, affine=True, track_running_stats=True)\n",
              "      (conv2): Conv2d(16, 16, kernel_size=(3, 3), stride=(1, 1), padding=(1, 1))\n",
              "      (bn3): BatchNorm2d(16, eps=1e-05, momentum=0.1, affine=True, track_running_stats=True)\n",
              "      (conv3): Conv2d(16, 64, kernel_size=(1, 1), stride=(1, 1))\n",
              "      (shortcut): Sequential()\n",
              "    )\n",
              "    (3): BasicBlock(\n",
              "      (bn1): BatchNorm2d(64, eps=1e-05, momentum=0.1, affine=True, track_running_stats=True)\n",
              "      (conv1): Conv2d(64, 16, kernel_size=(1, 1), stride=(1, 1))\n",
              "      (bn2): BatchNorm2d(16, eps=1e-05, momentum=0.1, affine=True, track_running_stats=True)\n",
              "      (conv2): Conv2d(16, 16, kernel_size=(3, 3), stride=(1, 1), padding=(1, 1))\n",
              "      (bn3): BatchNorm2d(16, eps=1e-05, momentum=0.1, affine=True, track_running_stats=True)\n",
              "      (conv3): Conv2d(16, 64, kernel_size=(1, 1), stride=(1, 1))\n",
              "      (shortcut): Sequential()\n",
              "    )\n",
              "    (4): BasicBlock(\n",
              "      (bn1): BatchNorm2d(64, eps=1e-05, momentum=0.1, affine=True, track_running_stats=True)\n",
              "      (conv1): Conv2d(64, 16, kernel_size=(1, 1), stride=(1, 1))\n",
              "      (bn2): BatchNorm2d(16, eps=1e-05, momentum=0.1, affine=True, track_running_stats=True)\n",
              "      (conv2): Conv2d(16, 16, kernel_size=(3, 3), stride=(1, 1), padding=(1, 1))\n",
              "      (bn3): BatchNorm2d(16, eps=1e-05, momentum=0.1, affine=True, track_running_stats=True)\n",
              "      (conv3): Conv2d(16, 64, kernel_size=(1, 1), stride=(1, 1))\n",
              "      (shortcut): Sequential()\n",
              "    )\n",
              "    (5): BasicBlock(\n",
              "      (bn1): BatchNorm2d(64, eps=1e-05, momentum=0.1, affine=True, track_running_stats=True)\n",
              "      (conv1): Conv2d(64, 16, kernel_size=(1, 1), stride=(1, 1))\n",
              "      (bn2): BatchNorm2d(16, eps=1e-05, momentum=0.1, affine=True, track_running_stats=True)\n",
              "      (conv2): Conv2d(16, 16, kernel_size=(3, 3), stride=(1, 1), padding=(1, 1))\n",
              "      (bn3): BatchNorm2d(16, eps=1e-05, momentum=0.1, affine=True, track_running_stats=True)\n",
              "      (conv3): Conv2d(16, 64, kernel_size=(1, 1), stride=(1, 1))\n",
              "      (shortcut): Sequential()\n",
              "    )\n",
              "  )\n",
              "  (layer2): Sequential(\n",
              "    (0): BasicBlock(\n",
              "      (bn1): BatchNorm2d(64, eps=1e-05, momentum=0.1, affine=True, track_running_stats=True)\n",
              "      (conv1): Conv2d(64, 64, kernel_size=(1, 1), stride=(2, 2))\n",
              "      (bn2): BatchNorm2d(64, eps=1e-05, momentum=0.1, affine=True, track_running_stats=True)\n",
              "      (conv2): Conv2d(64, 64, kernel_size=(3, 3), stride=(1, 1), padding=(1, 1))\n",
              "      (bn3): BatchNorm2d(64, eps=1e-05, momentum=0.1, affine=True, track_running_stats=True)\n",
              "      (conv3): Conv2d(64, 128, kernel_size=(1, 1), stride=(1, 1))\n",
              "      (shortcut): Sequential(\n",
              "        (0): Conv2d(64, 128, kernel_size=(1, 1), stride=(2, 2))\n",
              "      )\n",
              "    )\n",
              "    (1): BasicBlock(\n",
              "      (bn1): BatchNorm2d(128, eps=1e-05, momentum=0.1, affine=True, track_running_stats=True)\n",
              "      (conv1): Conv2d(128, 64, kernel_size=(1, 1), stride=(1, 1))\n",
              "      (bn2): BatchNorm2d(64, eps=1e-05, momentum=0.1, affine=True, track_running_stats=True)\n",
              "      (conv2): Conv2d(64, 64, kernel_size=(3, 3), stride=(1, 1), padding=(1, 1))\n",
              "      (bn3): BatchNorm2d(64, eps=1e-05, momentum=0.1, affine=True, track_running_stats=True)\n",
              "      (conv3): Conv2d(64, 128, kernel_size=(1, 1), stride=(1, 1))\n",
              "      (shortcut): Sequential()\n",
              "    )\n",
              "    (2): BasicBlock(\n",
              "      (bn1): BatchNorm2d(128, eps=1e-05, momentum=0.1, affine=True, track_running_stats=True)\n",
              "      (conv1): Conv2d(128, 64, kernel_size=(1, 1), stride=(1, 1))\n",
              "      (bn2): BatchNorm2d(64, eps=1e-05, momentum=0.1, affine=True, track_running_stats=True)\n",
              "      (conv2): Conv2d(64, 64, kernel_size=(3, 3), stride=(1, 1), padding=(1, 1))\n",
              "      (bn3): BatchNorm2d(64, eps=1e-05, momentum=0.1, affine=True, track_running_stats=True)\n",
              "      (conv3): Conv2d(64, 128, kernel_size=(1, 1), stride=(1, 1))\n",
              "      (shortcut): Sequential()\n",
              "    )\n",
              "    (3): BasicBlock(\n",
              "      (bn1): BatchNorm2d(128, eps=1e-05, momentum=0.1, affine=True, track_running_stats=True)\n",
              "      (conv1): Conv2d(128, 64, kernel_size=(1, 1), stride=(1, 1))\n",
              "      (bn2): BatchNorm2d(64, eps=1e-05, momentum=0.1, affine=True, track_running_stats=True)\n",
              "      (conv2): Conv2d(64, 64, kernel_size=(3, 3), stride=(1, 1), padding=(1, 1))\n",
              "      (bn3): BatchNorm2d(64, eps=1e-05, momentum=0.1, affine=True, track_running_stats=True)\n",
              "      (conv3): Conv2d(64, 128, kernel_size=(1, 1), stride=(1, 1))\n",
              "      (shortcut): Sequential()\n",
              "    )\n",
              "    (4): BasicBlock(\n",
              "      (bn1): BatchNorm2d(128, eps=1e-05, momentum=0.1, affine=True, track_running_stats=True)\n",
              "      (conv1): Conv2d(128, 64, kernel_size=(1, 1), stride=(1, 1))\n",
              "      (bn2): BatchNorm2d(64, eps=1e-05, momentum=0.1, affine=True, track_running_stats=True)\n",
              "      (conv2): Conv2d(64, 64, kernel_size=(3, 3), stride=(1, 1), padding=(1, 1))\n",
              "      (bn3): BatchNorm2d(64, eps=1e-05, momentum=0.1, affine=True, track_running_stats=True)\n",
              "      (conv3): Conv2d(64, 128, kernel_size=(1, 1), stride=(1, 1))\n",
              "      (shortcut): Sequential()\n",
              "    )\n",
              "    (5): BasicBlock(\n",
              "      (bn1): BatchNorm2d(128, eps=1e-05, momentum=0.1, affine=True, track_running_stats=True)\n",
              "      (conv1): Conv2d(128, 64, kernel_size=(1, 1), stride=(1, 1))\n",
              "      (bn2): BatchNorm2d(64, eps=1e-05, momentum=0.1, affine=True, track_running_stats=True)\n",
              "      (conv2): Conv2d(64, 64, kernel_size=(3, 3), stride=(1, 1), padding=(1, 1))\n",
              "      (bn3): BatchNorm2d(64, eps=1e-05, momentum=0.1, affine=True, track_running_stats=True)\n",
              "      (conv3): Conv2d(64, 128, kernel_size=(1, 1), stride=(1, 1))\n",
              "      (shortcut): Sequential()\n",
              "    )\n",
              "  )\n",
              "  (layer3): Sequential(\n",
              "    (0): BasicBlock(\n",
              "      (bn1): BatchNorm2d(128, eps=1e-05, momentum=0.1, affine=True, track_running_stats=True)\n",
              "      (conv1): Conv2d(128, 128, kernel_size=(1, 1), stride=(2, 2))\n",
              "      (bn2): BatchNorm2d(128, eps=1e-05, momentum=0.1, affine=True, track_running_stats=True)\n",
              "      (conv2): Conv2d(128, 128, kernel_size=(3, 3), stride=(1, 1), padding=(1, 1))\n",
              "      (bn3): BatchNorm2d(128, eps=1e-05, momentum=0.1, affine=True, track_running_stats=True)\n",
              "      (conv3): Conv2d(128, 256, kernel_size=(1, 1), stride=(1, 1))\n",
              "      (shortcut): Sequential(\n",
              "        (0): Conv2d(128, 256, kernel_size=(1, 1), stride=(2, 2))\n",
              "      )\n",
              "    )\n",
              "    (1): BasicBlock(\n",
              "      (bn1): BatchNorm2d(256, eps=1e-05, momentum=0.1, affine=True, track_running_stats=True)\n",
              "      (conv1): Conv2d(256, 128, kernel_size=(1, 1), stride=(1, 1))\n",
              "      (bn2): BatchNorm2d(128, eps=1e-05, momentum=0.1, affine=True, track_running_stats=True)\n",
              "      (conv2): Conv2d(128, 128, kernel_size=(3, 3), stride=(1, 1), padding=(1, 1))\n",
              "      (bn3): BatchNorm2d(128, eps=1e-05, momentum=0.1, affine=True, track_running_stats=True)\n",
              "      (conv3): Conv2d(128, 256, kernel_size=(1, 1), stride=(1, 1))\n",
              "      (shortcut): Sequential()\n",
              "    )\n",
              "    (2): BasicBlock(\n",
              "      (bn1): BatchNorm2d(256, eps=1e-05, momentum=0.1, affine=True, track_running_stats=True)\n",
              "      (conv1): Conv2d(256, 128, kernel_size=(1, 1), stride=(1, 1))\n",
              "      (bn2): BatchNorm2d(128, eps=1e-05, momentum=0.1, affine=True, track_running_stats=True)\n",
              "      (conv2): Conv2d(128, 128, kernel_size=(3, 3), stride=(1, 1), padding=(1, 1))\n",
              "      (bn3): BatchNorm2d(128, eps=1e-05, momentum=0.1, affine=True, track_running_stats=True)\n",
              "      (conv3): Conv2d(128, 256, kernel_size=(1, 1), stride=(1, 1))\n",
              "      (shortcut): Sequential()\n",
              "    )\n",
              "    (3): BasicBlock(\n",
              "      (bn1): BatchNorm2d(256, eps=1e-05, momentum=0.1, affine=True, track_running_stats=True)\n",
              "      (conv1): Conv2d(256, 128, kernel_size=(1, 1), stride=(1, 1))\n",
              "      (bn2): BatchNorm2d(128, eps=1e-05, momentum=0.1, affine=True, track_running_stats=True)\n",
              "      (conv2): Conv2d(128, 128, kernel_size=(3, 3), stride=(1, 1), padding=(1, 1))\n",
              "      (bn3): BatchNorm2d(128, eps=1e-05, momentum=0.1, affine=True, track_running_stats=True)\n",
              "      (conv3): Conv2d(128, 256, kernel_size=(1, 1), stride=(1, 1))\n",
              "      (shortcut): Sequential()\n",
              "    )\n",
              "    (4): BasicBlock(\n",
              "      (bn1): BatchNorm2d(256, eps=1e-05, momentum=0.1, affine=True, track_running_stats=True)\n",
              "      (conv1): Conv2d(256, 128, kernel_size=(1, 1), stride=(1, 1))\n",
              "      (bn2): BatchNorm2d(128, eps=1e-05, momentum=0.1, affine=True, track_running_stats=True)\n",
              "      (conv2): Conv2d(128, 128, kernel_size=(3, 3), stride=(1, 1), padding=(1, 1))\n",
              "      (bn3): BatchNorm2d(128, eps=1e-05, momentum=0.1, affine=True, track_running_stats=True)\n",
              "      (conv3): Conv2d(128, 256, kernel_size=(1, 1), stride=(1, 1))\n",
              "      (shortcut): Sequential()\n",
              "    )\n",
              "    (5): BasicBlock(\n",
              "      (bn1): BatchNorm2d(256, eps=1e-05, momentum=0.1, affine=True, track_running_stats=True)\n",
              "      (conv1): Conv2d(256, 128, kernel_size=(1, 1), stride=(1, 1))\n",
              "      (bn2): BatchNorm2d(128, eps=1e-05, momentum=0.1, affine=True, track_running_stats=True)\n",
              "      (conv2): Conv2d(128, 128, kernel_size=(3, 3), stride=(1, 1), padding=(1, 1))\n",
              "      (bn3): BatchNorm2d(128, eps=1e-05, momentum=0.1, affine=True, track_running_stats=True)\n",
              "      (conv3): Conv2d(128, 256, kernel_size=(1, 1), stride=(1, 1))\n",
              "      (shortcut): Sequential()\n",
              "    )\n",
              "  )\n",
              "  (bn2): BatchNorm2d(256, eps=1e-05, momentum=0.1, affine=True, track_running_stats=True)\n",
              "  (sm): Linear(in_features=256, out_features=10, bias=True)\n",
              ")"
            ]
          },
          "metadata": {},
          "execution_count": 13
        }
      ]
    },
    {
      "cell_type": "code",
      "source": [
        "# FGSM\n",
        "epsilon = 0.031  # Perturbation magnitude\n",
        "clip_min = 0.0  # Minimum pixel value\n",
        "clip_max = 1.0  # Maximum pixel value\n",
        "targeted = False  # False for untargeted attacks, True for targeted attacks\n",
        "\n",
        "# Generate adversarial examples using FGSMNativePytorch\n",
        "adv_loader_FGSM = FGSMNativePytorch(\n",
        "    device=device,\n",
        "    dataLoader=test_loader,\n",
        "    model=model,\n",
        "    epsilonMax=epsilon,\n",
        "    clipMin=clip_min,\n",
        "    clipMax=clip_max,\n",
        "    targeted=targeted\n",
        ")"
      ],
      "metadata": {
        "id": "-kmfUz1NIo-z"
      },
      "execution_count": 20,
      "outputs": []
    },
    {
      "cell_type": "code",
      "source": [
        "# Get a batch of adversarial examples\n",
        "for adv_images, labels in adv_loader_FGSM:\n",
        "    break\n",
        "\n",
        "# Unnormalize for visualization\n",
        "adv_images = adv_images * 0.5 + 0.5  # Assuming CIFAR-10 normalization\n",
        "\n",
        "# Show the images\n",
        "grid = torchvision.utils.make_grid(adv_images[:8])\n",
        "plt.imshow(grid.permute(1, 2, 0))\n",
        "plt.show()"
      ],
      "metadata": {
        "colab": {
          "base_uri": "https://localhost:8080/",
          "height": 130
        },
        "id": "OPie45b7NypP",
        "outputId": "26f1bd8e-92be-4194-ac6d-e042a2cc3de4"
      },
      "execution_count": 16,
      "outputs": [
        {
          "output_type": "display_data",
          "data": {
            "text/plain": [
              "<Figure size 640x480 with 1 Axes>"
            ],
            "image/png": "[encoded data removed]"
          },
          "metadata": {}
        }
      ]
    },
    {
      "cell_type": "code",
      "source": [
        "# MIM\n",
        "# Define parameters\n",
        "epsilon = 0.031  # Maximum perturbation magnitude\n",
        "epsilon_step = 0.00155  # Step size for each iteration\n",
        "num_steps = 10  # Number of attack iterations\n",
        "decay_factor = 1.0  # Momentum decay factor\n",
        "clip_min = 0.0  # Minimum pixel value\n",
        "clip_max = 1.0  # Maximum pixel value\n",
        "targeted = False  # False for untargeted attacks, True for targeted attacks\n",
        "\n",
        "# Generate adversarial examples using MIMNativePytorch\n",
        "adv_loader_MIM = MIMNativePytorch(\n",
        "    device=device,\n",
        "    dataLoader=test_loader,\n",
        "    model=model,\n",
        "    decayFactor=decay_factor,\n",
        "    epsilonMax=epsilon,\n",
        "    epsilonStep=epsilon_step,\n",
        "    numSteps=num_steps,\n",
        "    clipMin=clip_min,\n",
        "    clipMax=clip_max,\n",
        "    targeted=targeted\n",
        ")"
      ],
      "metadata": {
        "colab": {
          "base_uri": "https://localhost:8080/"
        },
        "id": "WFxp5ZLDIypr",
        "outputId": "cf98a5e6-b919-46a5-f2b5-910055ddc63e"
      },
      "execution_count": 76,
      "outputs": [
        {
          "output_type": "stream",
          "name": "stdout",
          "text": [
            "Processing up to sample= 64\n",
            "Processing up to sample= 128\n",
            "Processing up to sample= 192\n",
            "Processing up to sample= 256\n",
            "Processing up to sample= 320\n",
            "Processing up to sample= 384\n",
            "Processing up to sample= 448\n",
            "Processing up to sample= 512\n",
            "Processing up to sample= 576\n",
            "Processing up to sample= 640\n",
            "Processing up to sample= 704\n",
            "Processing up to sample= 768\n",
            "Processing up to sample= 832\n",
            "Processing up to sample= 896\n",
            "Processing up to sample= 960\n",
            "Processing up to sample= 1024\n",
            "Processing up to sample= 1088\n",
            "Processing up to sample= 1152\n",
            "Processing up to sample= 1216\n",
            "Processing up to sample= 1280\n",
            "Processing up to sample= 1344\n",
            "Processing up to sample= 1408\n",
            "Processing up to sample= 1472\n",
            "Processing up to sample= 1536\n",
            "Processing up to sample= 1600\n",
            "Processing up to sample= 1664\n",
            "Processing up to sample= 1728\n",
            "Processing up to sample= 1792\n",
            "Processing up to sample= 1856\n",
            "Processing up to sample= 1920\n",
            "Processing up to sample= 1984\n",
            "Processing up to sample= 2048\n",
            "Processing up to sample= 2112\n",
            "Processing up to sample= 2176\n",
            "Processing up to sample= 2240\n",
            "Processing up to sample= 2304\n",
            "Processing up to sample= 2368\n",
            "Processing up to sample= 2432\n",
            "Processing up to sample= 2496\n",
            "Processing up to sample= 2560\n",
            "Processing up to sample= 2624\n",
            "Processing up to sample= 2688\n",
            "Processing up to sample= 2752\n",
            "Processing up to sample= 2816\n",
            "Processing up to sample= 2880\n",
            "Processing up to sample= 2944\n",
            "Processing up to sample= 3008\n",
            "Processing up to sample= 3072\n",
            "Processing up to sample= 3136\n",
            "Processing up to sample= 3200\n",
            "Processing up to sample= 3264\n",
            "Processing up to sample= 3328\n",
            "Processing up to sample= 3392\n",
            "Processing up to sample= 3456\n",
            "Processing up to sample= 3520\n",
            "Processing up to sample= 3584\n",
            "Processing up to sample= 3648\n",
            "Processing up to sample= 3712\n",
            "Processing up to sample= 3776\n",
            "Processing up to sample= 3840\n",
            "Processing up to sample= 3904\n",
            "Processing up to sample= 3968\n",
            "Processing up to sample= 4032\n",
            "Processing up to sample= 4096\n",
            "Processing up to sample= 4160\n",
            "Processing up to sample= 4224\n",
            "Processing up to sample= 4288\n",
            "Processing up to sample= 4352\n",
            "Processing up to sample= 4416\n",
            "Processing up to sample= 4480\n",
            "Processing up to sample= 4544\n",
            "Processing up to sample= 4608\n",
            "Processing up to sample= 4672\n",
            "Processing up to sample= 4736\n",
            "Processing up to sample= 4800\n",
            "Processing up to sample= 4864\n",
            "Processing up to sample= 4928\n",
            "Processing up to sample= 4992\n",
            "Processing up to sample= 5056\n",
            "Processing up to sample= 5120\n",
            "Processing up to sample= 5184\n",
            "Processing up to sample= 5248\n",
            "Processing up to sample= 5312\n",
            "Processing up to sample= 5376\n",
            "Processing up to sample= 5440\n",
            "Processing up to sample= 5504\n",
            "Processing up to sample= 5568\n",
            "Processing up to sample= 5632\n",
            "Processing up to sample= 5696\n",
            "Processing up to sample= 5760\n",
            "Processing up to sample= 5824\n",
            "Processing up to sample= 5888\n",
            "Processing up to sample= 5952\n",
            "Processing up to sample= 6016\n",
            "Processing up to sample= 6080\n",
            "Processing up to sample= 6144\n",
            "Processing up to sample= 6208\n",
            "Processing up to sample= 6272\n",
            "Processing up to sample= 6336\n",
            "Processing up to sample= 6400\n",
            "Processing up to sample= 6464\n",
            "Processing up to sample= 6528\n",
            "Processing up to sample= 6592\n",
            "Processing up to sample= 6656\n",
            "Processing up to sample= 6720\n",
            "Processing up to sample= 6784\n",
            "Processing up to sample= 6848\n",
            "Processing up to sample= 6912\n",
            "Processing up to sample= 6976\n",
            "Processing up to sample= 7040\n",
            "Processing up to sample= 7104\n",
            "Processing up to sample= 7168\n",
            "Processing up to sample= 7232\n",
            "Processing up to sample= 7296\n",
            "Processing up to sample= 7360\n",
            "Processing up to sample= 7424\n",
            "Processing up to sample= 7488\n",
            "Processing up to sample= 7552\n",
            "Processing up to sample= 7616\n",
            "Processing up to sample= 7680\n",
            "Processing up to sample= 7744\n",
            "Processing up to sample= 7808\n",
            "Processing up to sample= 7872\n",
            "Processing up to sample= 7936\n",
            "Processing up to sample= 8000\n",
            "Processing up to sample= 8064\n",
            "Processing up to sample= 8128\n",
            "Processing up to sample= 8192\n",
            "Processing up to sample= 8256\n",
            "Processing up to sample= 8320\n",
            "Processing up to sample= 8384\n",
            "Processing up to sample= 8448\n",
            "Processing up to sample= 8512\n",
            "Processing up to sample= 8576\n",
            "Processing up to sample= 8640\n",
            "Processing up to sample= 8704\n",
            "Processing up to sample= 8768\n",
            "Processing up to sample= 8832\n",
            "Processing up to sample= 8896\n",
            "Processing up to sample= 8960\n",
            "Processing up to sample= 9024\n",
            "Processing up to sample= 9088\n",
            "Processing up to sample= 9152\n",
            "Processing up to sample= 9216\n",
            "Processing up to sample= 9280\n",
            "Processing up to sample= 9344\n",
            "Processing up to sample= 9408\n",
            "Processing up to sample= 9472\n",
            "Processing up to sample= 9536\n",
            "Processing up to sample= 9600\n",
            "Processing up to sample= 9664\n",
            "Processing up to sample= 9728\n",
            "Processing up to sample= 9792\n",
            "Processing up to sample= 9856\n",
            "Processing up to sample= 9920\n",
            "Processing up to sample= 9984\n",
            "Processing up to sample= 10000\n"
          ]
        }
      ]
    },
    {
      "cell_type": "code",
      "source": [
        "# Get a batch of adversarial examples\n",
        "for adv_images, labels in adv_loader_MIM:\n",
        "    break\n",
        "\n",
        "# Unnormalize for visualization (assuming CIFAR-10 normalization)\n",
        "adv_images = adv_images * 0.5 + 0.5  # If normalized to [-1, 1], reverse to [0, 1]\n",
        "\n",
        "# Plot the images\n",
        "grid = torchvision.utils.make_grid(adv_images[:8])\n",
        "plt.imshow(grid.permute(1, 2, 0))\n",
        "plt.show()"
      ],
      "metadata": {
        "colab": {
          "base_uri": "https://localhost:8080/",
          "height": 130
        },
        "id": "TNdl6RaEOT3e",
        "outputId": "7919f300-cd1b-41d8-8493-3c402c3bef97"
      },
      "execution_count": 19,
      "outputs": [
        {
          "output_type": "display_data",
          "data": {
            "text/plain": [
              "<Figure size 640x480 with 1 Axes>"
            ],
            "image/png": "[encoded data removed]"
          },
          "metadata": {}
        }
      ]
    },
    {
      "cell_type": "code",
      "source": [
        "def PGDNativePytorch(device, dataLoader, model, epsilonMax, epsilonStep, numSteps, clipMin, clipMax, targeted):\n",
        "    model.eval()\n",
        "    numSamples = len(dataLoader.dataset)\n",
        "    xShape = next(iter(dataLoader))[0].shape[1:]\n",
        "    xAdv = torch.zeros(numSamples, *xShape)\n",
        "    yClean = torch.zeros(numSamples, dtype=torch.long)\n",
        "\n",
        "    advSampleIndex = 0\n",
        "    for xData, yData in dataLoader:\n",
        "        xData, yData = xData.to(device), yData.to(device)\n",
        "        batchSize = xData.shape[0]\n",
        "        advImages = xData.clone().detach()\n",
        "\n",
        "        # PGD iterations\n",
        "        for _ in range(numSteps):\n",
        "            advImages.requires_grad = True\n",
        "            outputs = model(advImages)\n",
        "            loss = torch.nn.CrossEntropyLoss()(outputs, yData)\n",
        "            model.zero_grad()\n",
        "            loss.backward()\n",
        "\n",
        "            # Generate adversarial perturbations\n",
        "            gradSign = advImages.grad.sign()\n",
        "            if targeted:\n",
        "                advImages = advImages - epsilonStep * gradSign  # Targeted: decrease towards target\n",
        "            else:\n",
        "                advImages = advImages + epsilonStep * gradSign  # Untargeted: increase loss\n",
        "\n",
        "            # Project adversarial examples to epsilon-ball and clip to valid range\n",
        "            advImages = torch.clamp(advImages, xData - epsilonMax, xData + epsilonMax)\n",
        "            advImages = torch.clamp(advImages, clipMin, clipMax).detach()\n",
        "\n",
        "        # Save adversarial examples\n",
        "        for j in range(batchSize):\n",
        "            xAdv[advSampleIndex] = advImages[j].cpu()\n",
        "            yClean[advSampleIndex] = yData[j].cpu()\n",
        "            advSampleIndex += 1\n",
        "\n",
        "    # Return DataLoader with adversarial examples\n",
        "    advLoader = torch.utils.data.DataLoader(\n",
        "        torch.utils.data.TensorDataset(xAdv, yClean),\n",
        "        batch_size=dataLoader.batch_size,\n",
        "        shuffle=False\n",
        "    )\n",
        "    return advLoader"
      ],
      "metadata": {
        "id": "JdyIIoQzZg5b"
      },
      "execution_count": 77,
      "outputs": []
    },
    {
      "cell_type": "code",
      "source": [
        "# Define PGD parameters\n",
        "epsilon = 0.031  # Maximum perturbation magnitude\n",
        "epsilon_step = 0.00155  # Step size\n",
        "num_steps = 20  # Number of attack iterations\n",
        "clip_min = 0.0  # Minimum pixel value\n",
        "clip_max = 1.0  # Maximum pixel value\n",
        "targeted = False  # False for untargeted attacks, True for targeted attacks\n",
        "\n",
        "# Generate adversarial examples using PGD\n",
        "adv_loader_PGD = PGDNativePytorch(\n",
        "    device=device,\n",
        "    dataLoader=test_loader,\n",
        "    model=model,\n",
        "    epsilonMax=epsilon,\n",
        "    epsilonStep=epsilon_step,\n",
        "    numSteps=num_steps,\n",
        "    clipMin=clip_min,\n",
        "    clipMax=clip_max,\n",
        "    targeted=targeted\n",
        ")"
      ],
      "metadata": {
        "id": "_PSIOKBzZqcg"
      },
      "execution_count": 78,
      "outputs": []
    },
    {
      "cell_type": "code",
      "source": [
        "for adv_images, labels in adv_loader_PGD:\n",
        "    break\n",
        "\n",
        "# Unnormalize for visualization\n",
        "adv_images = adv_images * 0.5 + 0.5\n",
        "# Show the images\n",
        "grid = torchvision.utils.make_grid(adv_images[:8])\n",
        "plt.imshow(grid.permute(1, 2, 0))\n",
        "plt.show()"
      ],
      "metadata": {
        "colab": {
          "base_uri": "https://localhost:8080/",
          "height": 130
        },
        "id": "avmtpMJrcibU",
        "outputId": "19508d96-4eba-41e5-a533-32a01eb57ba5"
      },
      "execution_count": 64,
      "outputs": [
        {
          "output_type": "display_data",
          "data": {
            "text/plain": [
              "<Figure size 640x480 with 1 Axes>"
            ],
            "image/png": "[encoded data removed]"
          },
          "metadata": {}
        }
      ]
    },
    {
      "cell_type": "code",
      "source": [
        "!pip install torchattacks"
      ],
      "metadata": {
        "colab": {
          "base_uri": "https://localhost:8080/"
        },
        "id": "9tHPpxOtQNb4",
        "outputId": "6aee9f9a-ad7c-41ed-d6f5-8ffbcef5cc72"
      },
      "execution_count": 35,
      "outputs": [
        {
          "output_type": "stream",
          "name": "stdout",
          "text": [
            "Requirement already satisfied: torchattacks in /usr/local/lib/python3.10/dist-packages (3.5.1)\n",
            "Requirement already satisfied: torch>=1.7.1 in /usr/local/lib/python3.10/dist-packages (from torchattacks) (2.5.1+cu121)\n",
            "Requirement already satisfied: torchvision>=0.8.2 in /usr/local/lib/python3.10/dist-packages (from torchattacks) (0.20.1+cu121)\n",
            "Requirement already satisfied: scipy>=0.14.0 in /usr/local/lib/python3.10/dist-packages (from torchattacks) (1.13.1)\n",
            "Requirement already satisfied: tqdm>=4.56.1 in /usr/local/lib/python3.10/dist-packages (from torchattacks) (4.66.6)\n",
            "Requirement already satisfied: requests~=2.25.1 in /usr/local/lib/python3.10/dist-packages (from torchattacks) (2.25.1)\n",
            "Requirement already satisfied: numpy>=1.19.4 in /usr/local/lib/python3.10/dist-packages (from torchattacks) (1.26.4)\n",
            "Requirement already satisfied: chardet<5,>=3.0.2 in /usr/local/lib/python3.10/dist-packages (from requests~=2.25.1->torchattacks) (4.0.0)\n",
            "Requirement already satisfied: idna<3,>=2.5 in /usr/local/lib/python3.10/dist-packages (from requests~=2.25.1->torchattacks) (2.10)\n",
            "Requirement already satisfied: urllib3<1.27,>=1.21.1 in /usr/local/lib/python3.10/dist-packages (from requests~=2.25.1->torchattacks) (1.26.20)\n",
            "Requirement already satisfied: certifi>=2017.4.17 in /usr/local/lib/python3.10/dist-packages (from requests~=2.25.1->torchattacks) (2024.8.30)\n",
            "Requirement already satisfied: filelock in /usr/local/lib/python3.10/dist-packages (from torch>=1.7.1->torchattacks) (3.16.1)\n",
            "Requirement already satisfied: typing-extensions>=4.8.0 in /usr/local/lib/python3.10/dist-packages (from torch>=1.7.1->torchattacks) (4.12.2)\n",
            "Requirement already satisfied: networkx in /usr/local/lib/python3.10/dist-packages (from torch>=1.7.1->torchattacks) (3.4.2)\n",
            "Requirement already satisfied: jinja2 in /usr/local/lib/python3.10/dist-packages (from torch>=1.7.1->torchattacks) (3.1.4)\n",
            "Requirement already satisfied: fsspec in /usr/local/lib/python3.10/dist-packages (from torch>=1.7.1->torchattacks) (2024.10.0)\n",
            "Requirement already satisfied: sympy==1.13.1 in /usr/local/lib/python3.10/dist-packages (from torch>=1.7.1->torchattacks) (1.13.1)\n",
            "Requirement already satisfied: mpmath<1.4,>=1.1.0 in /usr/local/lib/python3.10/dist-packages (from sympy==1.13.1->torch>=1.7.1->torchattacks) (1.3.0)\n",
            "Requirement already satisfied: pillow!=8.3.*,>=5.3.0 in /usr/local/lib/python3.10/dist-packages (from torchvision>=0.8.2->torchattacks) (11.0.0)\n",
            "Requirement already satisfied: MarkupSafe>=2.0 in /usr/local/lib/python3.10/dist-packages (from jinja2->torch>=1.7.1->torchattacks) (3.0.2)\n"
          ]
        }
      ]
    },
    {
      "cell_type": "code",
      "source": [
        "import torch\n",
        "from torch.utils.data import DataLoader, TensorDataset\n",
        "from torchattacks import APGD\n",
        "\n",
        "def APGDNativePytorch(\n",
        "    device, dataLoader, model, epsilonMax, numSteps, clipMin, clipMax, restarts=1, rho=0.75, max_queries=5000\n",
        "):\n",
        "    \"\"\"\n",
        "    Implements the APGD attack with parameters specified in the paper.\n",
        "\n",
        "    Args:\n",
        "        device (torch.device): Device for computations.\n",
        "        dataLoader (DataLoader): DataLoader for clean test images.\n",
        "        model (nn.Module): Target model.\n",
        "        epsilonMax (float): Maximum perturbation magnitude.\n",
        "        numSteps (int): Number of attack iterations.\n",
        "        clipMin (float): Minimum pixel value.\n",
        "        clipMax (float): Maximum pixel value.\n",
        "        restarts (int): Number of restarts (default: 1).\n",
        "        rho (float): Early stopping threshold (default: 0.75).\n",
        "        max_queries (int): Maximum number of queries per sample (default: 5000).\n",
        "\n",
        "    Returns:\n",
        "        DataLoader: DataLoader containing adversarial examples and their true labels.\n",
        "    \"\"\"\n",
        "    model.eval()\n",
        "    attack = APGD(model, eps=epsilonMax, steps=numSteps, n_restarts=restarts)\n",
        "\n",
        "    # Store adversarial examples\n",
        "    numSamples = len(dataLoader.dataset)\n",
        "    xShape = next(iter(dataLoader))[0].shape[1:]\n",
        "    xAdv = torch.zeros(numSamples, *xShape)\n",
        "    yClean = torch.zeros(numSamples, dtype=torch.long)\n",
        "\n",
        "    advSampleIndex = 0\n",
        "    query_count = 0\n",
        "\n",
        "    for xData, yData in dataLoader:\n",
        "        xData, yData = xData.to(device), yData.to(device)\n",
        "\n",
        "        # Early stopping mechanism based on ρ and max_queries\n",
        "        for restart in range(restarts):\n",
        "            if query_count >= max_queries:\n",
        "                break  # Stop if query budget is reached\n",
        "\n",
        "            advImages = attack(xData, yData)\n",
        "\n",
        "            # Update query count\n",
        "            query_count += xData.size(0)\n",
        "\n",
        "            # Check if early stopping conditions (ρ) are satisfied\n",
        "            outputs = model(advImages)\n",
        "            _, preds = outputs.max(1)\n",
        "            success_rate = ((preds != yData).sum().item()) / yData.size(0)\n",
        "\n",
        "            if success_rate >= rho:\n",
        "                break  # Early stopping if success rate reaches threshold\n",
        "\n",
        "        # Save adversarial examples\n",
        "        batchSize = xData.shape[0]\n",
        "        for j in range(batchSize):\n",
        "            xAdv[advSampleIndex] = advImages[j].cpu()\n",
        "            yClean[advSampleIndex] = yData[j].cpu()\n",
        "            advSampleIndex += 1\n",
        "\n",
        "    # Return DataLoader with adversarial examples\n",
        "    advLoader = DataLoader(\n",
        "        TensorDataset(xAdv, yClean),\n",
        "        batch_size=dataLoader.batch_size,\n",
        "        shuffle=False\n",
        "    )\n",
        "    return advLoader"
      ],
      "metadata": {
        "id": "S8I0he_6Zk8h"
      },
      "execution_count": 79,
      "outputs": []
    },
    {
      "cell_type": "code",
      "source": [
        "# Parameters for APGD from the paper\n",
        "epsilon = 0.031\n",
        "num_steps = 50\n",
        "restarts = 1\n",
        "rho = 0.75\n",
        "max_queries = 5000\n",
        "clip_min = 0.0\n",
        "clip_max = 1.0\n",
        "\n",
        "# Generate adversarial examples using APGD\n",
        "adv_loader_APGD = APGDNativePytorch(\n",
        "    device=device,\n",
        "    dataLoader=test_loader,\n",
        "    model=model,\n",
        "    epsilonMax=epsilon,\n",
        "    numSteps=num_steps,\n",
        "    clipMin=clip_min,\n",
        "    clipMax=clip_max,\n",
        "    restarts=restarts,\n",
        "    rho=rho,\n",
        "    max_queries=max_queries\n",
        ")"
      ],
      "metadata": {
        "colab": {
          "base_uri": "https://localhost:8080/"
        },
        "id": "KoUbdohRbIkF",
        "outputId": "064ed027-187e-4990-d870-d132e976d7e1"
      },
      "execution_count": 80,
      "outputs": [
        {
          "output_type": "stream",
          "name": "stdout",
          "text": [
            "Accuracy: 5.09%\n"
          ]
        },
        {
          "output_type": "execute_result",
          "data": {
            "text/plain": [
              "5.09"
            ]
          },
          "metadata": {},
          "execution_count": 80
        }
      ]
    },
    {
      "cell_type": "code",
      "source": [
        "for adv_images, labels in adv_loader_APGD:\n",
        "    break\n",
        "\n",
        "# Unnormalize for visualization\n",
        "adv_images = adv_images * 0.5 + 0.5\n",
        "\n",
        "# Show the images\n",
        "grid = torchvision.utils.make_grid(adv_images[:8])\n",
        "plt.imshow(grid.permute(1, 2, 0))\n",
        "plt.show()"
      ],
      "metadata": {
        "colab": {
          "base_uri": "https://localhost:8080/",
          "height": 130
        },
        "id": "l7BjKqwkcrcw",
        "outputId": "0675a287-d3b5-4ecc-9c15-72931f93e2e1"
      },
      "execution_count": 68,
      "outputs": [
        {
          "output_type": "display_data",
          "data": {
            "text/plain": [
              "<Figure size 640x480 with 1 Axes>"
            ],
            "image/png": "[encoded data removed]"
          },
          "metadata": {}
        }
      ]
    },
    {
      "cell_type": "code",
      "source": [
        "evaluate(model, adv_loader_FGSM)"
      ],
      "metadata": {
        "colab": {
          "base_uri": "https://localhost:8080/"
        },
        "id": "JfONdPFKI803",
        "outputId": "25d8a69c-0024-4f9b-82eb-1d80f8aa04a8"
      },
      "execution_count": 81,
      "outputs": [
        {
          "output_type": "stream",
          "name": "stdout",
          "text": [
            "Accuracy: 18.57%\n"
          ]
        },
        {
          "output_type": "execute_result",
          "data": {
            "text/plain": [
              "18.57"
            ]
          },
          "metadata": {},
          "execution_count": 81
        }
      ]
    },
    {
      "cell_type": "code",
      "source": [
        "evaluate(model, adv_loader_MIM)"
      ],
      "metadata": {
        "colab": {
          "base_uri": "https://localhost:8080/"
        },
        "id": "7oH6X1goI8xt",
        "outputId": "f6a35937-b431-4824-e9ce-e0bb2b8a6223"
      },
      "execution_count": 82,
      "outputs": [
        {
          "output_type": "stream",
          "name": "stdout",
          "text": [
            "Accuracy: 5.89%\n"
          ]
        },
        {
          "output_type": "execute_result",
          "data": {
            "text/plain": [
              "5.89"
            ]
          },
          "metadata": {},
          "execution_count": 82
        }
      ]
    },
    {
      "cell_type": "code",
      "source": [
        "evaluate(model, adv_loader_PGD)"
      ],
      "metadata": {
        "colab": {
          "base_uri": "https://localhost:8080/"
        },
        "id": "4_amyANEPL_k",
        "outputId": "405ffc78-9626-45ed-ec90-11286d00b05a"
      },
      "execution_count": 85,
      "outputs": [
        {
          "output_type": "stream",
          "name": "stdout",
          "text": [
            "Accuracy: 2.57%\n"
          ]
        },
        {
          "output_type": "execute_result",
          "data": {
            "text/plain": [
              "2.57"
            ]
          },
          "metadata": {},
          "execution_count": 85
        }
      ]
    },
    {
      "cell_type": "code",
      "source": [
        "evaluate(model, adv_loader_APGD)"
      ],
      "metadata": {
        "colab": {
          "base_uri": "https://localhost:8080/"
        },
        "id": "oLJYHJEGPMCN",
        "outputId": "f9df1451-0412-4321-b220-bcfcdec6d339"
      },
      "execution_count": 84,
      "outputs": [
        {
          "output_type": "stream",
          "name": "stdout",
          "text": [
            "Accuracy: 5.09%\n"
          ]
        },
        {
          "output_type": "execute_result",
          "data": {
            "text/plain": [
              "5.09"
            ]
          },
          "metadata": {},
          "execution_count": 84
        }
      ]
    },
    {
      "cell_type": "markdown",
      "source": [
        "Additional White-box Attacks"
      ],
      "metadata": {
        "id": "uVHKfpdb01z0"
      }
    },
    {
      "cell_type": "code",
      "source": [
        "def BPDANativePytorch(device, dataLoader, model, epsilonMax, epsilonStep, numSteps, clipMin, clipMax):\n",
        "    model.eval()  # Set the model to evaluation mode\n",
        "\n",
        "    # Initialize variables to store adversarial examples\n",
        "    numSamples = len(dataLoader.dataset)\n",
        "    xShape = next(iter(dataLoader))[0].shape[1:]  # Get the input shape from DataLoader\n",
        "    xAdv = torch.zeros(numSamples, *xShape)\n",
        "    yClean = torch.zeros(numSamples, dtype=torch.long)\n",
        "    advSampleIndex = 0\n",
        "\n",
        "    for xData, yData in dataLoader:\n",
        "        xData, yData = xData.to(device), yData.to(device)\n",
        "        batchSize = xData.size(0)\n",
        "        advImages = xData.clone().detach()\n",
        "\n",
        "        # BPDA iterations\n",
        "        for _ in range(numSteps):\n",
        "            advImages.requires_grad = True\n",
        "\n",
        "            # Forward pass through the model (with a differentiable approximation if needed)\n",
        "            outputs = model(advImages)\n",
        "\n",
        "            # Define a loss function (e.g., CrossEntropyLoss)\n",
        "            loss = torch.nn.CrossEntropyLoss()(outputs, yData)\n",
        "\n",
        "            # Zero all gradients, compute gradients, and update adversarial examples\n",
        "            model.zero_grad()\n",
        "            loss.backward()\n",
        "\n",
        "            # Approximate gradients of non-differentiable operations here if applicable\n",
        "            gradSign = advImages.grad.sign()\n",
        "            advImages = advImages + epsilonStep * gradSign\n",
        "            advImages = torch.clamp(advImages, xData - epsilonMax, xData + epsilonMax)  # Epsilon-ball projection\n",
        "            advImages = torch.clamp(advImages, clipMin, clipMax).detach()  # Clip to valid range\n",
        "\n",
        "        # Save adversarial examples\n",
        "        for j in range(batchSize):\n",
        "            xAdv[advSampleIndex] = advImages[j].cpu()\n",
        "            yClean[advSampleIndex] = yData[j].cpu()\n",
        "            advSampleIndex += 1\n",
        "\n",
        "    # Return a DataLoader with adversarial examples\n",
        "    advLoader = torch.utils.data.DataLoader(\n",
        "        torch.utils.data.TensorDataset(xAdv, yClean),\n",
        "        batch_size=dataLoader.batch_size,\n",
        "        shuffle=False\n",
        "    )\n",
        "    return advLoader"
      ],
      "metadata": {
        "id": "6ejjyxH503tF"
      },
      "execution_count": 101,
      "outputs": []
    },
    {
      "cell_type": "code",
      "source": [
        "# BPDA parameters\n",
        "epsilon = 0.05  # Maximum perturbation magnitude\n",
        "epsilon_step = 0.01  # Step size\n",
        "num_steps = 10  # Number of iterations\n",
        "clip_min = 0.0\n",
        "clip_max = 1.0\n",
        "\n",
        "# Generate BPDA adversarial examples\n",
        "adv_loader_BPDA = BPDANativePytorch(\n",
        "    device=device,\n",
        "    dataLoader=test_loader,\n",
        "    model=model,\n",
        "    epsilonMax=epsilon,\n",
        "    epsilonStep=epsilon_step,\n",
        "    numSteps=num_steps,\n",
        "    clipMin=clip_min,\n",
        "    clipMax=clip_max\n",
        ")"
      ],
      "metadata": {
        "colab": {
          "base_uri": "https://localhost:8080/"
        },
        "id": "FFz9XgSkTZEb",
        "outputId": "3d54315e-a807-44e0-c148-5a4284452cf5"
      },
      "execution_count": 102,
      "outputs": [
        {
          "output_type": "stream",
          "name": "stderr",
          "text": [
            "/content/drive/MyDrive/ECE Final/ResNetPytorch.py:161: UserWarning: Implicit dimension choice for softmax has been deprecated. Change the call to include dim=X as an argument.\n",
            "  out = F.softmax(self.sm(out))\n"
          ]
        }
      ]
    },
    {
      "cell_type": "code",
      "source": [
        "evaluate(model, adv_loader_BPDA)"
      ],
      "metadata": {
        "colab": {
          "base_uri": "https://localhost:8080/"
        },
        "id": "1ohJbPaCUKDn",
        "outputId": "64e33dbe-2b47-4a00-92c4-d49ce5722dce"
      },
      "execution_count": 103,
      "outputs": [
        {
          "output_type": "stream",
          "name": "stderr",
          "text": [
            "/content/drive/MyDrive/ECE Final/ResNetPytorch.py:161: UserWarning: Implicit dimension choice for softmax has been deprecated. Change the call to include dim=X as an argument.\n",
            "  out = F.softmax(self.sm(out))\n"
          ]
        },
        {
          "output_type": "stream",
          "name": "stdout",
          "text": [
            "Accuracy: 0.44%\n"
          ]
        },
        {
          "output_type": "execute_result",
          "data": {
            "text/plain": [
              "0.44"
            ]
          },
          "metadata": {},
          "execution_count": 103
        }
      ]
    },
    {
      "cell_type": "code",
      "source": [
        "import torch.optim as optim\n",
        "\n",
        "def CWPytorch(device, dataLoader, model, c=1.0, kappa=0, numSteps=1000, lr=0.01, clipMin=0.0, clipMax=1.0):\n",
        "    model.eval()  # Set the model to evaluation mode\n",
        "\n",
        "    # Initialize variables to store adversarial examples\n",
        "    numSamples = len(dataLoader.dataset)\n",
        "    xShape = next(iter(dataLoader))[0].shape[1:]  # Get input shape from DataLoader\n",
        "    xAdv = torch.zeros(numSamples, *xShape)\n",
        "    yClean = torch.zeros(numSamples, dtype=torch.long)\n",
        "    advSampleIndex = 0\n",
        "\n",
        "    for xData, yData in dataLoader:\n",
        "        xData, yData = xData.to(device), yData.to(device)\n",
        "        batchSize = xData.size(0)\n",
        "\n",
        "        # Initialize adversarial perturbation\n",
        "        delta = torch.zeros_like(xData, requires_grad=True).to(device)\n",
        "\n",
        "        # Define optimizer for delta\n",
        "        optimizer = optim.Adam([delta], lr=lr)\n",
        "\n",
        "        for _ in range(numSteps):\n",
        "            advImages = torch.clamp(xData + delta, clipMin, clipMax)  # Add perturbation and clip to valid range\n",
        "\n",
        "            # Forward pass\n",
        "            outputs = model(advImages)\n",
        "\n",
        "            # Define C&W loss function\n",
        "            real = outputs.gather(1, yData.view(-1, 1)).squeeze()  # Correct class scores\n",
        "            other = torch.max((outputs - torch.eye(outputs.size(1))[yData].to(device) * 1e4), dim=1)[0]  # Max of incorrect class scores\n",
        "            f = torch.clamp(real - other + kappa, min=0)  # Confidence margin\n",
        "\n",
        "            l2_norm = torch.sum(delta ** 2)\n",
        "            loss = l2_norm + c * torch.sum(f)\n",
        "\n",
        "            # Backward pass\n",
        "            optimizer.zero_grad()\n",
        "            loss.backward()\n",
        "            optimizer.step()\n",
        "\n",
        "        # Save adversarial examples\n",
        "        for j in range(batchSize):\n",
        "            xAdv[advSampleIndex] = torch.clamp(xData[j] + delta[j], clipMin, clipMax).cpu()\n",
        "            yClean[advSampleIndex] = yData[j].cpu()\n",
        "            advSampleIndex += 1\n",
        "\n",
        "    # Return a DataLoader with adversarial examples\n",
        "    advLoader = torch.utils.data.DataLoader(\n",
        "        torch.utils.data.TensorDataset(xAdv, yClean),\n",
        "        batch_size=dataLoader.batch_size,\n",
        "        shuffle=False\n",
        "    )\n",
        "    return advLoader"
      ],
      "metadata": {
        "id": "pAI23wby09Mg"
      },
      "execution_count": 87,
      "outputs": []
    },
    {
      "cell_type": "code",
      "source": [
        "def BPDANativePytorch(device, dataLoader, model, epsilonMax, numSteps, clipMin, clipMax, lr=0.5, max_iters=100):\n",
        "    \"\"\"\n",
        "    Implements BPDA with parameters specified in the paper.\n",
        "\n",
        "    Args:\n",
        "        device (torch.device): Device for computations.\n",
        "        dataLoader (DataLoader): DataLoader for clean test examples.\n",
        "        model (nn.Module): Target model.\n",
        "        epsilonMax (float): Maximum perturbation magnitude.\n",
        "        numSteps (int): Number of attack iterations (steps per max_iter cycle).\n",
        "        clipMin (float): Minimum pixel value.\n",
        "        clipMax (float): Maximum pixel value.\n",
        "        lr (float): Learning rate for perturbation updates.\n",
        "        max_iters (int): Maximum number of total iterations.\n",
        "\n",
        "    Returns:\n",
        "        DataLoader: DataLoader containing adversarial examples and their true labels.\n",
        "    \"\"\"\n",
        "    model.eval()  # Set the model to evaluation mode\n",
        "\n",
        "    # Initialize variables to store adversarial examples\n",
        "    numSamples = len(dataLoader.dataset)\n",
        "    xShape = next(iter(dataLoader))[0].shape[1:]  # Get the input shape from DataLoader\n",
        "    xAdv = torch.zeros(numSamples, *xShape)\n",
        "    yClean = torch.zeros(numSamples, dtype=torch.long)\n",
        "    advSampleIndex = 0\n",
        "\n",
        "    for xData, yData in dataLoader:\n",
        "        xData, yData = xData.to(device), yData.to(device)\n",
        "        batchSize = xData.size(0)\n",
        "        advImages = xData.clone().detach()\n",
        "\n",
        "        # Initialize total iteration count\n",
        "        total_iters = 0\n",
        "\n",
        "        # BPDA iterations with max_iters limit\n",
        "        while total_iters < max_iters:\n",
        "            advImages.requires_grad = True\n",
        "\n",
        "            # Forward pass through the model\n",
        "            outputs = model(advImages)\n",
        "\n",
        "            # Define a loss function (e.g., CrossEntropyLoss)\n",
        "            loss = torch.nn.CrossEntropyLoss()(outputs, yData)\n",
        "\n",
        "            # Zero all gradients, compute gradients, and update adversarial examples\n",
        "            model.zero_grad()\n",
        "            loss.backward()\n",
        "\n",
        "            # Approximate gradients of non-differentiable operations (if applicable)\n",
        "            gradSign = advImages.grad.sign()\n",
        "\n",
        "            # Update adversarial examples with learning rate\n",
        "            advImages = advImages + lr * gradSign\n",
        "            advImages = torch.clamp(advImages, xData - epsilonMax, xData + epsilonMax)  # Epsilon-ball projection\n",
        "            advImages = torch.clamp(advImages, clipMin, clipMax).detach()  # Clip to valid range\n",
        "\n",
        "            # Increment total iterations\n",
        "            total_iters += numSteps\n",
        "\n",
        "        # Save adversarial examples\n",
        "        for j in range(batchSize):\n",
        "            xAdv[advSampleIndex] = advImages[j].cpu()\n",
        "            yClean[advSampleIndex] = yData[j].cpu()\n",
        "            advSampleIndex += 1\n",
        "\n",
        "    # Return a DataLoader with adversarial examples\n",
        "    advLoader = torch.utils.data.DataLoader(\n",
        "        torch.utils.data.TensorDataset(xAdv, yClean),\n",
        "        batch_size=dataLoader.batch_size,\n",
        "        shuffle=False\n",
        "    )\n",
        "    return advLoader"
      ],
      "metadata": {
        "id": "2wI1_vHePvap"
      },
      "execution_count": 89,
      "outputs": []
    },
    {
      "cell_type": "code",
      "source": [
        "# Parameters for BPDA from the paper\n",
        "epsilon = 0.031\n",
        "num_steps = 100  # Steps per iteration\n",
        "max_iters = 100  # Total iterations\n",
        "learning_rate = 0.5\n",
        "clip_min = 0.0\n",
        "clip_max = 1.0\n",
        "\n",
        "# Generate adversarial examples using BPDA\n",
        "adv_loader_BPDA = BPDANativePytorch(\n",
        "    device=device,\n",
        "    dataLoader=test_loader,\n",
        "    model=model,\n",
        "    epsilonMax=epsilon,\n",
        "    numSteps=num_steps,\n",
        "    clipMin=clip_min,\n",
        "    clipMax=clip_max,\n",
        "    lr=learning_rate,\n",
        "    max_iters=max_iters\n",
        ")"
      ],
      "metadata": {
        "id": "eE-PgfCH0-ck"
      },
      "execution_count": 91,
      "outputs": []
    },
    {
      "cell_type": "code",
      "source": [
        "evaluate(model, adv_loader_BPDA)"
      ],
      "metadata": {
        "colab": {
          "base_uri": "https://localhost:8080/"
        },
        "id": "s9iapoZu1WiF",
        "outputId": "c480dca1-3bbc-45f6-da08-041236d00eee"
      },
      "execution_count": 92,
      "outputs": [
        {
          "output_type": "stream",
          "name": "stdout",
          "text": [
            "Accuracy: 18.57%\n"
          ]
        },
        {
          "output_type": "execute_result",
          "data": {
            "text/plain": [
              "18.57"
            ]
          },
          "metadata": {},
          "execution_count": 92
        }
      ]
    },
    {
      "cell_type": "code",
      "source": [
        "def CWPytorch(device, dataLoader, model, c=1.0, kappa=0, numSteps=1000, lr=0.01, clipMin=0.0, clipMax=1.0):\n",
        "    model.eval()  # Set the model to evaluation mode\n",
        "\n",
        "    # Initialize variables to store adversarial examples\n",
        "    numSamples = len(dataLoader.dataset)\n",
        "    xShape = next(iter(dataLoader))[0].shape[1:]  # Get input shape from DataLoader\n",
        "    xAdv = torch.zeros(numSamples, *xShape)\n",
        "    yClean = torch.zeros(numSamples, dtype=torch.long)\n",
        "    advSampleIndex = 0\n",
        "\n",
        "    for xData, yData in dataLoader:\n",
        "        xData, yData = xData.to(device), yData.to(device)\n",
        "        batchSize = xData.size(0)\n",
        "\n",
        "        # Initialize adversarial perturbation\n",
        "        delta = torch.zeros_like(xData, requires_grad=True).to(device)\n",
        "\n",
        "        # Define optimizer for delta\n",
        "        optimizer = optim.Adam([delta], lr=lr)\n",
        "\n",
        "        for _ in range(numSteps):\n",
        "            advImages = torch.clamp(xData + delta, clipMin, clipMax)  # Add perturbation and clip to valid range\n",
        "\n",
        "            # Forward pass\n",
        "            outputs = model(advImages)\n",
        "\n",
        "            # Define C&W loss function\n",
        "            real = outputs.gather(1, yData.view(-1, 1)).squeeze()  # Correct class scores\n",
        "            one_hot = torch.eye(outputs.size(1), device=device)[yData]\n",
        "            other = torch.max((outputs - one_hot * 1e4), dim=1)[0]  # Max of incorrect class scores\n",
        "            f = torch.clamp(real - other + kappa, min=0)  # Confidence margin\n",
        "\n",
        "            l2_norm = torch.sum(delta ** 2)\n",
        "            loss = l2_norm + c * torch.sum(f)\n",
        "\n",
        "            # Backward pass\n",
        "            optimizer.zero_grad()\n",
        "            loss.backward()\n",
        "            optimizer.step()\n",
        "\n",
        "        # Save adversarial examples\n",
        "        for j in range(batchSize):\n",
        "            xAdv[advSampleIndex] = torch.clamp(xData[j] + delta[j], clipMin, clipMax).cpu()\n",
        "            yClean[advSampleIndex] = yData[j].cpu()\n",
        "            advSampleIndex += 1\n",
        "\n",
        "    # Return a DataLoader with adversarial examples\n",
        "    advLoader = torch.utils.data.DataLoader(\n",
        "        torch.utils.data.TensorDataset(xAdv, yClean),\n",
        "        batch_size=dataLoader.batch_size,\n",
        "        shuffle=False\n",
        "    )\n",
        "    return advLoader"
      ],
      "metadata": {
        "id": "io2dNJf_1DIj"
      },
      "execution_count": 88,
      "outputs": []
    },
    {
      "cell_type": "code",
      "source": [
        "# C&W parameters\n",
        "c = 1.0  # Regularization constant\n",
        "kappa = 0  # Confidence margin\n",
        "num_steps = 100  # Number of iterations\n",
        "lr = 0.01  # Learning rate\n",
        "clip_min = 0.0\n",
        "clip_max = 1.0\n",
        "\n",
        "# Generate C&W adversarial examples\n",
        "adv_loader_CW = CWPytorch(\n",
        "    device=device,\n",
        "    dataLoader=test_loader,\n",
        "    model=model,\n",
        "    c=c,\n",
        "    kappa=kappa,\n",
        "    numSteps=num_steps,\n",
        "    lr=lr,\n",
        "    clipMin=clip_min,\n",
        "    clipMax=clip_max\n",
        ")"
      ],
      "metadata": {
        "colab": {
          "base_uri": "https://localhost:8080/"
        },
        "id": "5RJy7TQ02lw8",
        "outputId": "e3cae6a8-f32f-41c1-a822-46f739f00c63"
      },
      "execution_count": 90,
      "outputs": [
        {
          "output_type": "stream",
          "name": "stderr",
          "text": [
            "/content/drive/MyDrive/ECE Final/ResNetPytorch.py:161: UserWarning: Implicit dimension choice for softmax has been deprecated. Change the call to include dim=X as an argument.\n",
            "  out = F.softmax(self.sm(out))\n"
          ]
        }
      ]
    },
    {
      "cell_type": "code",
      "source": [
        "evaluate(model, adv_loader_CW)"
      ],
      "metadata": {
        "colab": {
          "base_uri": "https://localhost:8080/"
        },
        "id": "1dj8ppW11W9b",
        "outputId": "90c26e37-435a-49f5-e951-7d91d0aceeef"
      },
      "execution_count": 91,
      "outputs": [
        {
          "output_type": "stream",
          "name": "stdout",
          "text": [
            "Accuracy on adversarial examples: 9.53%\n"
          ]
        },
        {
          "output_type": "execute_result",
          "data": {
            "text/plain": [
              "9.53"
            ]
          },
          "metadata": {},
          "execution_count": 91
        }
      ]
    },
    {
      "cell_type": "markdown",
      "source": [
        "## Black-box attacks"
      ],
      "metadata": {
        "id": "-IiJrywZoVok"
      }
    },
    {
      "cell_type": "code",
      "source": [
        "import torch\n",
        "\n",
        "def RaySAttack(model, images, labels, epsilon=0.031, query_budget=10000, device='cuda'):\n",
        "    \"\"\"\n",
        "    Implements the RayS attack with parameters aligned to the paper.\n",
        "\n",
        "    Args:\n",
        "        model (nn.Module): The target model.\n",
        "        images (torch.Tensor): Input images (batch).\n",
        "        labels (torch.Tensor): True labels for the images.\n",
        "        epsilon (float): Maximum perturbation (l∞ norm).\n",
        "        query_budget (int): Maximum number of queries per sample.\n",
        "        device (torch.device): Device for computations.\n",
        "\n",
        "    Returns:\n",
        "        torch.Tensor: Adversarial examples.\n",
        "    \"\"\"\n",
        "    model.eval()  # Ensure the model is in evaluation mode\n",
        "\n",
        "    # Initialize perturbations\n",
        "    batch_size = images.size(0)\n",
        "    perturbations = torch.zeros_like(images, device=device)\n",
        "    step_size = epsilon / query_budget\n",
        "\n",
        "    # Iteratively refine adversarial examples\n",
        "    for query_count in range(query_budget):\n",
        "        with torch.no_grad():\n",
        "            # Generate random directions for the perturbation\n",
        "            directions = torch.randn_like(images).sign().to(device)\n",
        "\n",
        "            # Try adding and subtracting perturbations along the direction\n",
        "            pos_images = torch.clamp(images + perturbations + step_size * directions, 0, 1)\n",
        "            neg_images = torch.clamp(images + perturbations - step_size * directions, 0, 1)\n",
        "\n",
        "            # Query the model for predictions\n",
        "            pos_outputs = model(pos_images)\n",
        "            neg_outputs = model(neg_images)\n",
        "\n",
        "            # Identify misclassified samples\n",
        "            _, pos_preds = pos_outputs.max(1)\n",
        "            _, neg_preds = neg_outputs.max(1)\n",
        "\n",
        "            pos_misclassified = pos_preds != labels\n",
        "            neg_misclassified = neg_preds != labels\n",
        "\n",
        "            # Update perturbations\n",
        "            perturbations[pos_misclassified] += step_size * directions[pos_misclassified]\n",
        "            perturbations[neg_misclassified] -= step_size * directions[neg_misclassified]\n",
        "\n",
        "            # Stop early if all examples are misclassified\n",
        "            if pos_misclassified.sum().item() + neg_misclassified.sum().item() == batch_size:\n",
        "                break\n",
        "\n",
        "    # Apply final perturbations\n",
        "    adversarial_examples = torch.clamp(images + perturbations, 0, 1)\n",
        "    return adversarial_examples"
      ],
      "metadata": {
        "id": "hAQem1XpoYBa"
      },
      "execution_count": 37,
      "outputs": []
    },
    {
      "cell_type": "code",
      "source": [
        "# Generate adversarial examples for a batch of data\n",
        "for images, labels in test_loader:\n",
        "    images, labels = images.to(device), labels.to(device)\n",
        "    adv_images = RaySAttack(model, images, labels, epsilon=0.031, query_budget=10000, device=device)\n",
        "    break\n",
        "\n",
        "# Evaluate the target model on these adversarial examples\n",
        "adv_loader_RayS = DataLoader(torch.utils.data.TensorDataset(adv_images, labels), batch_size=64)\n",
        "evaluate(model, adv_loader_RayS)"
      ],
      "metadata": {
        "colab": {
          "base_uri": "https://localhost:8080/"
        },
        "id": "1qL3aL4mpOBB",
        "outputId": "cb48ffb7-c116-46cb-b56b-10bfc5e4db1f"
      },
      "execution_count": 40,
      "outputs": [
        {
          "output_type": "stream",
          "name": "stdout",
          "text": [
            "Accuracy: 43.75%\n"
          ]
        },
        {
          "output_type": "execute_result",
          "data": {
            "text/plain": [
              "43.75"
            ]
          },
          "metadata": {},
          "execution_count": 40
        }
      ]
    },
    {
      "cell_type": "code",
      "source": [
        "original = images.cpu().detach().numpy()\n",
        "adversarial = adv_images.cpu().detach().numpy()\n",
        "perturbation = adversarial - original\n",
        "\n",
        "# Plot original, adversarial, and perturbation\n",
        "fig, axes = plt.subplots(1, 3, figsize=(12, 4))\n",
        "axes[0].imshow(np.transpose(original[0], (1, 2, 0)))\n",
        "axes[0].set_title(\"Original Image\")\n",
        "axes[1].imshow(np.transpose(adversarial[0], (1, 2, 0)))\n",
        "axes[1].set_title(\"Adversarial Image\")\n",
        "axes[2].imshow(np.transpose(perturbation[0], (1, 2, 0)))\n",
        "axes[2].set_title(\"Perturbation\")\n",
        "plt.show()"
      ],
      "metadata": {
        "colab": {
          "base_uri": "https://localhost:8080/",
          "height": 373
        },
        "id": "ZLFBOPZrt2eA",
        "outputId": "5cb74682-82d1-4b34-a3c9-c4ac2ece87ea"
      },
      "execution_count": 41,
      "outputs": [
        {
          "output_type": "stream",
          "name": "stderr",
          "text": [
            "WARNING:matplotlib.image:Clipping input data to the valid range for imshow with RGB data ([0..1] for floats or [0..255] for integers).\n"
          ]
        },
        {
          "output_type": "display_data",
          "data": {
            "text/plain": [
              "<Figure size 1200x400 with 3 Axes>"
            ],
            "image/png": "[encoded data removed]"
          },
          "metadata": {}
        }
      ]
    },
    {
      "cell_type": "code",
      "source": [
        "import torch\n",
        "from torch.utils.data import DataLoader, TensorDataset\n",
        "\n",
        "def generate_rays_adv_loader(model, data_loader, epsilon, query_budget, device):\n",
        "    \"\"\"\n",
        "    Generate adversarial examples using the RayS attack for the entire dataset.\n",
        "\n",
        "    Args:\n",
        "        model (nn.Module): The target model.\n",
        "        data_loader (DataLoader): DataLoader containing clean test examples.\n",
        "        epsilon (float): Maximum perturbation magnitude (l∞ norm).\n",
        "        query_budget (int): Maximum number of queries per sample.\n",
        "        device (torch.device): Device to run computations on.\n",
        "\n",
        "    Returns:\n",
        "        DataLoader: DataLoader containing adversarial examples and their true labels.\n",
        "    \"\"\"\n",
        "    model.eval()\n",
        "\n",
        "    adv_images_list = []\n",
        "    labels_list = []\n",
        "\n",
        "    for images, labels in data_loader:\n",
        "        images, labels = images.to(device), labels.to(device)\n",
        "\n",
        "        # Generate adversarial examples for the batch\n",
        "        adv_images = RaySAttack(model, images, labels, epsilon, query_budget, device)  # Remove 'epsilon_max' argument\n",
        "\n",
        "        # Append adversarial examples and labels to the list\n",
        "        adv_images_list.append(adv_images.cpu())\n",
        "        labels_list.append(labels.cpu())\n",
        "\n",
        "    # Concatenate all adversarial examples and labels\n",
        "    adv_images_all = torch.cat(adv_images_list, dim=0)\n",
        "    labels_all = torch.cat(labels_list, dim=0)\n",
        "\n",
        "    # Create a new DataLoader for adversarial examples\n",
        "    adv_dataset = TensorDataset(adv_images_all, labels_all)\n",
        "    adv_loader = DataLoader(adv_dataset, batch_size=data_loader.batch_size, shuffle=False)\n",
        "\n",
        "    return adv_loader"
      ],
      "metadata": {
        "id": "DRU4e-B-uvT_"
      },
      "execution_count": 45,
      "outputs": []
    },
    {
      "cell_type": "code",
      "source": [
        "import torch\n",
        "from torch.utils.data import Subset\n",
        "import numpy as np\n",
        "\n",
        "def create_subset(dataset, subset_percentage, seed=None):\n",
        "    \"\"\"\n",
        "    Create a subset of a dataset based on a specified percentage.\n",
        "\n",
        "    Args:\n",
        "        dataset (torch.utils.data.Dataset): The full dataset.\n",
        "        subset_percentage (float): The percentage of the dataset to use (e.g., 0.1 for 10%).\n",
        "        seed (int, optional): Seed for reproducibility. Default is None.\n",
        "\n",
        "    Returns:\n",
        "        Subset: A subset of the dataset.\n",
        "    \"\"\"\n",
        "    if seed is not None:\n",
        "        np.random.seed(seed)  # Set the seed for reproducibility\n",
        "\n",
        "    total_samples = len(dataset)\n",
        "    subset_size = int(total_samples * subset_percentage)\n",
        "\n",
        "    # Generate random indices for the subset\n",
        "    subset_indices = np.random.choice(range(total_samples), subset_size, replace=False)\n",
        "\n",
        "    # Create a subset dataset\n",
        "    return Subset(dataset, subset_indices)"
      ],
      "metadata": {
        "id": "3zdqtCilAf8g"
      },
      "execution_count": null,
      "outputs": []
    },
    {
      "cell_type": "code",
      "source": [
        "subset_indices = np.random.choice(len(test_dataset), size=1000, replace=False)\n",
        "test_subset = Subset(test_dataset, subset_indices)\n",
        "test_loader_subset = DataLoader(test_subset, batch_size=64, shuffle=False, num_workers=2)"
      ],
      "metadata": {
        "id": "fNvh0Hf8_pWj"
      },
      "execution_count": 51,
      "outputs": []
    },
    {
      "cell_type": "code",
      "source": [
        "# Parameters for RayS attack\n",
        "epsilon = 0.031\n",
        "query_budget = 1000\n",
        "\n",
        "# Generate adversarial examples for the entire test dataset\n",
        "adv_loader_RayS = generate_rays_adv_loader(model=model, data_loader=test_loader_subset, epsilon=epsilon, query_budget=query_budget, device=device)\n",
        "\n",
        "# Evaluate the target model on these adversarial examples\n",
        "evaluate(model, adv_loader_RayS)"
      ],
      "metadata": {
        "colab": {
          "base_uri": "https://localhost:8080/"
        },
        "id": "SHTUOPHduwtn",
        "outputId": "b296e058-1608-485c-ab4d-27629d9fe374"
      },
      "execution_count": 53,
      "outputs": [
        {
          "output_type": "stream",
          "name": "stdout",
          "text": [
            "Accuracy: 35.60%\n"
          ]
        },
        {
          "output_type": "execute_result",
          "data": {
            "text/plain": [
              "35.6"
            ]
          },
          "metadata": {},
          "execution_count": 53
        }
      ]
    },
    {
      "cell_type": "code",
      "source": [
        "def RaySAttack(model, images, labels, epsilon, query_budget, device):\n",
        "    model.eval()  # Ensure the model is in evaluation mode\n",
        "\n",
        "    batch_size = images.size(0)\n",
        "    perturbations = torch.zeros_like(images, device=device)\n",
        "\n",
        "    # Initial random directions\n",
        "    directions = torch.randn_like(images).sign().to(device)\n",
        "\n",
        "    for query_count in range(query_budget):\n",
        "        # Positive and negative perturbations\n",
        "        pos_images = torch.clamp(images + perturbations + epsilon * directions, 0, 1)\n",
        "        neg_images = torch.clamp(images + perturbations - epsilon * directions, 0, 1)\n",
        "\n",
        "        # Query the model\n",
        "        pos_outputs = model(pos_images)\n",
        "        neg_outputs = model(neg_images)\n",
        "\n",
        "        # Get predictions\n",
        "        _, pos_preds = pos_outputs.max(1)\n",
        "        _, neg_preds = neg_outputs.max(1)\n",
        "\n",
        "        # Update perturbations based on misclassification\n",
        "        pos_misclassified = pos_preds != labels\n",
        "        neg_misclassified = neg_preds != labels\n",
        "\n",
        "        perturbations[pos_misclassified] += epsilon * directions[pos_misclassified]\n",
        "        perturbations[neg_misclassified] -= epsilon * directions[neg_misclassified]\n",
        "\n",
        "        # Stop if all images are misclassified\n",
        "        if pos_misclassified.sum() + neg_misclassified.sum() == batch_size:\n",
        "            break\n",
        "\n",
        "    # Apply the final perturbations\n",
        "    adversarial_examples = torch.clamp(images + perturbations, 0, 1)\n",
        "    return adversarial_examples"
      ],
      "metadata": {
        "id": "eib63XKVCnDg"
      },
      "execution_count": 57,
      "outputs": []
    },
    {
      "cell_type": "code",
      "source": [
        "def generate_rays_adv_loader(model, data_loader, epsilon, query_budget, device):\n",
        "    model.eval()\n",
        "\n",
        "    adv_images_list = []\n",
        "    labels_list = []\n",
        "\n",
        "    for images, labels in data_loader:\n",
        "        images, labels = images.to(device), labels.to(device)\n",
        "\n",
        "        batch_adv_images = []\n",
        "        for i in range(images.size(0)):\n",
        "            # Run RaySAttack on a single image\n",
        "            adv_image = RaySAttack(\n",
        "                model=model,\n",
        "                images=images[i:i+1],  # Single image\n",
        "                labels=labels[i:i+1],\n",
        "                epsilon=epsilon,\n",
        "                query_budget=query_budget,\n",
        "                device=device\n",
        "            )\n",
        "            batch_adv_images.append(adv_image)\n",
        "\n",
        "        # Concatenate adversarial examples for the batch\n",
        "        adv_images_list.append(torch.cat(batch_adv_images, dim=0).cpu())\n",
        "        labels_list.append(labels.cpu())\n",
        "\n",
        "    # Concatenate all adversarial examples and labels\n",
        "    adv_images_all = torch.cat(adv_images_list, dim=0)\n",
        "    labels_all = torch.cat(labels_list, dim=0)\n",
        "\n",
        "    # Create a new DataLoader for adversarial examples\n",
        "    adv_dataset = TensorDataset(adv_images_all, labels_all)\n",
        "    adv_loader = DataLoader(adv_dataset, batch_size=data_loader.batch_size, shuffle=False)\n",
        "\n",
        "    return adv_loader"
      ],
      "metadata": {
        "id": "wWS3nYGwCoEc"
      },
      "execution_count": 58,
      "outputs": []
    },
    {
      "cell_type": "code",
      "source": [
        "subset_indices = np.random.choice(len(test_dataset), size=100, replace=False)\n",
        "test_subset = Subset(test_dataset, subset_indices)\n",
        "test_loader_subset = DataLoader(test_subset, batch_size=64, shuffle=False, num_workers=2)"
      ],
      "metadata": {
        "id": "ZXEZ71nuCsK0"
      },
      "execution_count": 67,
      "outputs": []
    },
    {
      "cell_type": "code",
      "source": [
        "adv_loader_RayS = generate_rays_adv_loader(\n",
        "    model=model,\n",
        "    data_loader=test_loader_subset,\n",
        "    epsilon=0.031,\n",
        "    query_budget=100,\n",
        "    device=device\n",
        ")"
      ],
      "metadata": {
        "id": "NOqczKOmC4nA"
      },
      "execution_count": 68,
      "outputs": []
    },
    {
      "cell_type": "code",
      "source": [
        "evaluate(model, adv_loader_RayS)"
      ],
      "metadata": {
        "colab": {
          "base_uri": "https://localhost:8080/"
        },
        "id": "yMFJdzQvDCp6",
        "outputId": "6cb6e468-3338-4188-8d09-9af4cb3f6aae"
      },
      "execution_count": 69,
      "outputs": [
        {
          "output_type": "stream",
          "name": "stdout",
          "text": [
            "Accuracy: 35.00%\n"
          ]
        },
        {
          "output_type": "execute_result",
          "data": {
            "text/plain": [
              "35.0"
            ]
          },
          "metadata": {},
          "execution_count": 69
        }
      ]
    },
    {
      "cell_type": "markdown",
      "source": [
        "## Testing Transferability"
      ],
      "metadata": {
        "id": "QVihr4PeZ2j8"
      }
    },
    {
      "cell_type": "markdown",
      "source": [
        "### Load ViT-32 and Resize"
      ],
      "metadata": {
        "id": "irUzxvgkYlgo"
      }
    },
    {
      "cell_type": "code",
      "source": [
        "# Loading ViT-32\n",
        "import torch\n",
        "from timm import create_model\n",
        "\n",
        "# Set device\n",
        "device = torch.device(\"cuda\" if torch.cuda.is_available() else \"cpu\")\n",
        "\n",
        "# Define the ViT model (ensure num_classes matches CIFAR-10)\n",
        "vit_model = create_model('vit_base_patch32_224', pretrained=False, num_classes=10)\n",
        "vit_model = vit_model.to(device)\n",
        "\n",
        "# Load the pretrained weights for ViT\n",
        "checkpoint_path = \"vit_b32_cifar10.pth\"  # Replace with your ViT weights path\n",
        "vit_model.load_state_dict(torch.load(checkpoint_path, map_location=device))"
      ],
      "metadata": {
        "colab": {
          "base_uri": "https://localhost:8080/"
        },
        "id": "qwwkiPrydUPp",
        "outputId": "4f034d64-0dfe-42cf-d22c-7a9d68e5c317"
      },
      "execution_count": 17,
      "outputs": [
        {
          "output_type": "stream",
          "name": "stderr",
          "text": [
            "<ipython-input-17-ba8ad6869300>:14: FutureWarning: You are using `torch.load` with `weights_only=False` (the current default value), which uses the default pickle module implicitly. It is possible to construct malicious pickle data which will execute arbitrary code during unpickling (See https://github.com/pytorch/pytorch/blob/main/SECURITY.md#untrusted-models for more details). In a future release, the default value for `weights_only` will be flipped to `True`. This limits the functions that could be executed during unpickling. Arbitrary objects will no longer be allowed to be loaded via this mode unless they are explicitly allowlisted by the user via `torch.serialization.add_safe_globals`. We recommend you start setting `weights_only=True` for any use case where you don't have full control of the loaded file. Please open an issue on GitHub for any issues related to this experimental feature.\n",
            "  vit_model.load_state_dict(torch.load(checkpoint_path, map_location=device))\n"
          ]
        },
        {
          "output_type": "execute_result",
          "data": {
            "text/plain": [
              "<All keys matched successfully>"
            ]
          },
          "metadata": {},
          "execution_count": 17
        }
      ]
    },
    {
      "cell_type": "code",
      "source": [
        "import torchvision.transforms as transforms\n",
        "import torchvision.datasets as datasets\n",
        "from torch.utils.data import DataLoader\n",
        "\n",
        "# Define transformations for ViT\n",
        "vit_transform_train = transforms.Compose([\n",
        "    transforms.Resize(224),  # Resize to 224x224 for ViT\n",
        "    transforms.RandomCrop(224, padding=4),  # Optional data augmentation\n",
        "    transforms.RandomHorizontalFlip(),\n",
        "    transforms.ToTensor(),\n",
        "    transforms.Normalize((0.5, 0.5, 0.5), (0.5, 0.5, 0.5)),  # Normalize to [-1, 1]\n",
        "])\n",
        "\n",
        "vit_transform_test = transforms.Compose([\n",
        "    transforms.Resize(224),  # Resize to 224x224\n",
        "    transforms.ToTensor(),\n",
        "    transforms.Normalize((0.5, 0.5, 0.5), (0.5, 0.5, 0.5)),  # Normalize to [-1, 1]\n",
        "])\n",
        "\n",
        "# Load CIFAR-10 dataset with ViT transformations\n",
        "vit_train_dataset = datasets.CIFAR10(root='./data', train=True, download=True, transform=vit_transform_train)\n",
        "vit_test_dataset = datasets.CIFAR10(root='./data', train=False, download=True, transform=vit_transform_test)\n",
        "\n",
        "# Create DataLoaders for ViT\n",
        "vit_train_loader = DataLoader(vit_train_dataset, batch_size=64, shuffle=True, num_workers=2)\n",
        "vit_test_loader = DataLoader(vit_test_dataset, batch_size=64, shuffle=False, num_workers=2)"
      ],
      "metadata": {
        "colab": {
          "base_uri": "https://localhost:8080/"
        },
        "id": "TRim76mRfGzN",
        "outputId": "13901fdd-d638-486c-d648-2a0e7de70783"
      },
      "execution_count": 36,
      "outputs": [
        {
          "output_type": "stream",
          "name": "stdout",
          "text": [
            "Files already downloaded and verified\n",
            "Files already downloaded and verified\n"
          ]
        }
      ]
    },
    {
      "cell_type": "code",
      "source": [
        "# Evaluate the ViT model on resized CIFAR-10 test data\n",
        "test_loss, test_acc = validate(vit_model, vit_test_loader, criterion, device)\n",
        "print(f\"Test Loss: {test_loss:.4f}, Test Accuracy: {test_acc:.2f}%\")"
      ],
      "metadata": {
        "colab": {
          "base_uri": "https://localhost:8080/"
        },
        "id": "6yG_pLJOgF6D",
        "outputId": "c1ac4973-ed99-45f9-bec1-a634c6c19646"
      },
      "execution_count": 37,
      "outputs": [
        {
          "output_type": "stream",
          "name": "stdout",
          "text": [
            "Test Loss: 0.6241, Test Accuracy: 81.18%\n"
          ]
        }
      ]
    },
    {
      "cell_type": "code",
      "source": [
        "import torch\n",
        "from torch.utils.data import DataLoader, TensorDataset\n",
        "from torchvision.transforms import Resize\n",
        "\n",
        "# Function to resize adversarial examples\n",
        "def resize_adv_loader(adv_loader, target_size, device):\n",
        "    \"\"\"\n",
        "    Resize adversarial examples to match the target model's input size.\n",
        "\n",
        "    Args:\n",
        "        adv_loader (DataLoader): DataLoader containing adversarial examples and labels.\n",
        "        target_size (tuple): Target size (height, width) for resizing.\n",
        "        device (torch.device): Device for computations.\n",
        "\n",
        "    Returns:\n",
        "        DataLoader: DataLoader with resized adversarial examples.\n",
        "    \"\"\"\n",
        "    resized_images = []\n",
        "    resized_labels = []\n",
        "\n",
        "    for images, labels in adv_loader:\n",
        "        images = images.to(device)\n",
        "        labels = labels.to(device)\n",
        "\n",
        "        # Resize images\n",
        "        resized = torch.nn.functional.interpolate(images, size=target_size, mode='bilinear', align_corners=False)\n",
        "        resized_images.append(resized.cpu())\n",
        "        resized_labels.append(labels.cpu())\n",
        "\n",
        "    # Concatenate resized images and labels\n",
        "    resized_images = torch.cat(resized_images)\n",
        "    resized_labels = torch.cat(resized_labels)\n",
        "\n",
        "    # Create a new DataLoader\n",
        "    dataset = TensorDataset(resized_images, resized_labels)\n",
        "    resized_loader = DataLoader(dataset, batch_size=adv_loader.batch_size, shuffle=False)\n",
        "\n",
        "    return resized_loader"
      ],
      "metadata": {
        "id": "6_RHEgohJM0T"
      },
      "execution_count": null,
      "outputs": []
    },
    {
      "cell_type": "markdown",
      "source": [
        "### Evaluate Transferability on the first four white-box attacks and RayS black-box attack"
      ],
      "metadata": {
        "id": "uxLV3MCeYq6L"
      }
    },
    {
      "cell_type": "code",
      "source": [
        "# Function to evaluate transferability\n",
        "def evaluate_transferability(target_model, adv_loader, device):\n",
        "    \"\"\"\n",
        "    Evaluate transferability of adversarial examples on the target model.\n",
        "\n",
        "    Args:\n",
        "        target_model (nn.Module): The target model (e.g., ViT-B-32).\n",
        "        adv_loader (DataLoader): DataLoader containing adversarial examples and their true labels.\n",
        "        device (torch.device): Device for computations.\n",
        "\n",
        "    Returns:\n",
        "        float: Transferability success rate (% of adversarial examples that are misclassified).\n",
        "    \"\"\"\n",
        "    target_model.eval()\n",
        "    correct = 0\n",
        "    total = 0\n",
        "\n",
        "    for adv_images, labels in adv_loader:\n",
        "        adv_images, labels = adv_images.to(device), labels.to(device)\n",
        "\n",
        "        # Test adversarial examples on the target model\n",
        "        outputs = target_model(adv_images)\n",
        "        _, predicted = outputs.max(1)\n",
        "\n",
        "        # Count correctly classified examples\n",
        "        total += labels.size(0)\n",
        "        correct += (predicted == labels).sum().item()\n",
        "\n",
        "    transfer_success_rate = 100.0 * (1 - correct / total)\n",
        "    print(f\"Transferability Success Rate: {transfer_success_rate:.2f}%\")\n",
        "    return transfer_success_rate"
      ],
      "metadata": {
        "id": "BazOSZAkJPCz"
      },
      "execution_count": null,
      "outputs": []
    },
    {
      "cell_type": "code",
      "source": [
        "adv_loader_resized = resize_adv_loader(adv_loader_FGSM, target_size=(224, 224), device=device)"
      ],
      "metadata": {
        "colab": {
          "base_uri": "https://localhost:8080/"
        },
        "id": "gXhtUXPVI_Aa",
        "outputId": "72923afd-3c1d-476e-b42e-6fdce40b3de3"
      },
      "execution_count": 70,
      "outputs": [
        {
          "output_type": "stream",
          "name": "stdout",
          "text": [
            "Transferability Success Rate: 58.43%\n"
          ]
        }
      ]
    },
    {
      "cell_type": "code",
      "source": [
        "transfer_success_rate = evaluate_transferability(\n",
        "    target_model=vit_model,\n",
        "    adv_loader=adv_loader_resized,\n",
        "    device=device\n",
        ")"
      ],
      "metadata": {
        "colab": {
          "base_uri": "https://localhost:8080/"
        },
        "id": "X607G9fJJLMG",
        "outputId": "33168a9b-a085-4f6f-ec6b-664eed9f9432"
      },
      "execution_count": 71,
      "outputs": [
        {
          "output_type": "stream",
          "name": "stdout",
          "text": [
            "Transferability Success Rate: 58.43%\n"
          ]
        }
      ]
    },
    {
      "cell_type": "code",
      "source": [
        "evaluate(vit_model, adv_loader_resized)"
      ],
      "metadata": {
        "colab": {
          "base_uri": "https://localhost:8080/"
        },
        "id": "0fNeF03aKqvb",
        "outputId": "3daf85e3-25ff-4fdf-a9c7-55c6429c8323"
      },
      "execution_count": 74,
      "outputs": [
        {
          "output_type": "stream",
          "name": "stdout",
          "text": [
            "Accuracy: 41.57%\n"
          ]
        },
        {
          "output_type": "execute_result",
          "data": {
            "text/plain": [
              "41.57"
            ]
          },
          "metadata": {},
          "execution_count": 74
        }
      ]
    },
    {
      "cell_type": "code",
      "source": [
        "# MIM\n",
        "adv_loader_resized_MIM = resize_adv_loader(adv_loader_MIM, target_size=(224, 224), device=device)"
      ],
      "metadata": {
        "id": "1-zU3e8mJsp5"
      },
      "execution_count": 93,
      "outputs": []
    },
    {
      "cell_type": "code",
      "source": [
        "evaluate(vit_model, adv_loader_resized_MIM)"
      ],
      "metadata": {
        "colab": {
          "base_uri": "https://localhost:8080/"
        },
        "id": "sfeBbk94RNW0",
        "outputId": "b8c52087-9f7a-4aad-e162-32571d34273b"
      },
      "execution_count": 94,
      "outputs": [
        {
          "output_type": "stream",
          "name": "stdout",
          "text": [
            "Accuracy: 41.15%\n"
          ]
        },
        {
          "output_type": "execute_result",
          "data": {
            "text/plain": [
              "41.15"
            ]
          },
          "metadata": {},
          "execution_count": 94
        }
      ]
    },
    {
      "cell_type": "code",
      "source": [
        "transfer_success_rate_MIM = evaluate_transferability(\n",
        "    target_model=vit_model,\n",
        "    adv_loader=adv_loader_resized_MIM,\n",
        "    device=device\n",
        ")"
      ],
      "metadata": {
        "colab": {
          "base_uri": "https://localhost:8080/"
        },
        "id": "Rm-Y3Y7WJ2nn",
        "outputId": "f8fdec73-f578-425c-a68d-8e9c1908ea52"
      },
      "execution_count": 96,
      "outputs": [
        {
          "output_type": "stream",
          "name": "stdout",
          "text": [
            "Transferability Success Rate: 58.85%\n"
          ]
        }
      ]
    },
    {
      "cell_type": "code",
      "source": [
        "# PGD\n",
        "adv_loader_resized_PGD = resize_adv_loader(adv_loader_PGD, target_size=(224, 224), device=device)\n",
        "evaluate(vit_model, adv_loader_resized_PGD)\n",
        "transfer_success_rate_PGD = evaluate_transferability(\n",
        "    target_model=vit_model,\n",
        "    adv_loader=adv_loader_resized_PGD,\n",
        "    device=device\n",
        ")"
      ],
      "metadata": {
        "colab": {
          "base_uri": "https://localhost:8080/"
        },
        "id": "xtgdiO4URYa5",
        "outputId": "07092e6b-ad52-45fa-8ba3-2c7f12f19251"
      },
      "execution_count": 97,
      "outputs": [
        {
          "output_type": "stream",
          "name": "stdout",
          "text": [
            "Accuracy: 41.66%\n",
            "Transferability Success Rate: 58.34%\n"
          ]
        }
      ]
    },
    {
      "cell_type": "code",
      "source": [
        "# APGD\n",
        "adv_loader_resized_APGD = resize_adv_loader(adv_loader_APGD, target_size=(224, 224), device=device)\n",
        "evaluate(vit_model, adv_loader_resized_APGD)\n",
        "transfer_success_rate_APGD = evaluate_transferability(\n",
        "    target_model=vit_model,\n",
        "    adv_loader=adv_loader_resized_APGD,\n",
        "    device=device\n",
        ")"
      ],
      "metadata": {
        "colab": {
          "base_uri": "https://localhost:8080/"
        },
        "id": "jVEAAAMARofq",
        "outputId": "52f8f7f9-31a6-4eac-e5aa-7b6a035b3686"
      },
      "execution_count": 98,
      "outputs": [
        {
          "output_type": "stream",
          "name": "stdout",
          "text": [
            "Accuracy: 29.56%\n",
            "Transferability Success Rate: 70.44%\n"
          ]
        }
      ]
    },
    {
      "cell_type": "code",
      "source": [
        "# BPDA\n",
        "adv_loader_resized_BPDA = resize_adv_loader(adv_loader_BPDA, target_size=(224, 224), device=device)\n",
        "evaluate(vit_model, adv_loader_resized_BPDA)\n",
        "transfer_success_rate_BPDA = evaluate_transferability(\n",
        "    target_model=vit_model,\n",
        "    adv_loader=adv_loader_resized_BPDA,\n",
        "    device=device\n",
        ")"
      ],
      "metadata": {
        "colab": {
          "base_uri": "https://localhost:8080/"
        },
        "id": "LKQR6MxeRyVi",
        "outputId": "72e51acf-2b99-4ce9-d0c5-6695a1ca5792"
      },
      "execution_count": 99,
      "outputs": [
        {
          "output_type": "stream",
          "name": "stdout",
          "text": [
            "Accuracy: 41.57%\n",
            "Transferability Success Rate: 58.43%\n"
          ]
        }
      ]
    },
    {
      "cell_type": "code",
      "source": [
        "# RayS\n",
        "adv_loader_resized_RayS = resize_adv_loader(adv_loader_RayS, target_size=(224, 224), device=device)\n",
        "evaluate(vit_model, adv_loader_resized_RayS)\n",
        "transfer_success_rate_RayS = evaluate_transferability(\n",
        "    target_model=vit_model,\n",
        "    adv_loader=adv_loader_resized_RayS,\n",
        "    device=device\n",
        ")"
      ],
      "metadata": {
        "colab": {
          "base_uri": "https://localhost:8080/"
        },
        "id": "Jhi1j8qIUc09",
        "outputId": "e1ba4840-d197-45e7-d7e4-d7dc523cb2fa"
      },
      "execution_count": 104,
      "outputs": [
        {
          "output_type": "stream",
          "name": "stdout",
          "text": [
            "Accuracy: 45.00%\n",
            "Transferability Success Rate: 55.00%\n"
          ]
        }
      ]
    },
    {
      "cell_type": "markdown",
      "source": [
        "## Filtered Transferability Test\n",
        "\n",
        "Filtering out 1000 examples that are tested correctly by both models"
      ],
      "metadata": {
        "id": "NoZrwG9yI-lY"
      }
    },
    {
      "cell_type": "code",
      "source": [
        "import torch.nn.functional as F\n",
        "\n",
        "def test_transferability_with_filtering(\n",
        "    model1, model2, adv_loader, clean_loader, device, num_epochs=10, num_examples=1000, resize_to=(224, 224)\n",
        "):\n",
        "    \"\"\"\n",
        "    Test transferability with filtering and resizing, and return the maximum transferability rate over epochs.\n",
        "\n",
        "    Args:\n",
        "        model1 (nn.Module): Source model used to generate adversarial examples (e.g., ResNet56).\n",
        "        model2 (nn.Module): Target model for transferability testing (e.g., ViT-B-32).\n",
        "        adv_loader (DataLoader): DataLoader containing adversarial examples generated by model1.\n",
        "        clean_loader (DataLoader): DataLoader containing clean examples for filtering.\n",
        "        device (torch.device): Device for computations.\n",
        "        num_epochs (int): Number of epochs to evaluate for transferability.\n",
        "        num_examples (int): Number of examples to filter and use for evaluation.\n",
        "        resize_to (tuple): Target size for resizing (e.g., (224, 224) for ViT).\n",
        "\n",
        "    Returns:\n",
        "        float: Maximum transferability success rate over the epochs.\n",
        "    \"\"\"\n",
        "    def filter_correctly_classified(model1, model2, clean_loader, num_examples, device, resize_to):\n",
        "        \"\"\"\n",
        "        Filter examples that both models classify correctly, with resizing.\n",
        "\n",
        "        Args:\n",
        "            model1 (nn.Module): First classifier (e.g., ResNet56).\n",
        "            model2 (nn.Module): Second classifier (e.g., ViT).\n",
        "            clean_loader (DataLoader): DataLoader for clean test images.\n",
        "            num_examples (int): Number of examples to select.\n",
        "            device (torch.device): Device to run computations on.\n",
        "            resize_to (tuple): Target size for resizing.\n",
        "\n",
        "        Returns:\n",
        "            DataLoader: DataLoader with filtered examples.\n",
        "        \"\"\"\n",
        "        model1.eval()\n",
        "        model2.eval()\n",
        "\n",
        "        filtered_images = []\n",
        "        filtered_labels = []\n",
        "\n",
        "        for images, labels in clean_loader:\n",
        "            images, labels = images.to(device), labels.to(device)\n",
        "\n",
        "            # Resize clean images for the target model\n",
        "            resized_images = F.interpolate(images, size=resize_to, mode='bilinear', align_corners=False)\n",
        "\n",
        "            # Predictions from both models\n",
        "            outputs1 = model1(images)  # Model1 uses original image size\n",
        "            outputs2 = model2(resized_images)  # Model2 uses resized images\n",
        "\n",
        "            _, preds1 = outputs1.max(1)\n",
        "            _, preds2 = outputs2.max(1)\n",
        "\n",
        "            # Keep examples both models classify correctly\n",
        "            correct_mask = (preds1 == labels) & (preds2 == labels)\n",
        "            filtered_images.append(images[correct_mask])\n",
        "            filtered_labels.append(labels[correct_mask])\n",
        "\n",
        "            # Stop once we reach the desired number of examples\n",
        "            if sum(len(img) for img in filtered_images) >= num_examples:\n",
        "                break\n",
        "\n",
        "        # Concatenate filtered examples\n",
        "        filtered_images = torch.cat(filtered_images)[:num_examples]\n",
        "        filtered_labels = torch.cat(filtered_labels)[:num_examples]\n",
        "\n",
        "        # Create a new DataLoader\n",
        "        dataset = torch.utils.data.TensorDataset(filtered_images, filtered_labels)\n",
        "        filtered_loader = DataLoader(dataset, batch_size=64, shuffle=False)\n",
        "        return filtered_loader\n",
        "\n",
        "    # Filter the examples successfully classified by both models\n",
        "    filtered_loader = filter_correctly_classified(model1, model2, clean_loader, num_examples, device, resize_to)\n",
        "\n",
        "    # Evaluate transferability for multiple epochs and track maximum rate\n",
        "    max_transferability = 0.0\n",
        "\n",
        "    for epoch in range(num_epochs):\n",
        "        model2.eval()\n",
        "        correct = 0\n",
        "        total = 0\n",
        "\n",
        "        for adv_images, labels in adv_loader:\n",
        "            adv_images, labels = adv_images.to(device), labels.to(device)\n",
        "\n",
        "            # Resize adversarial examples for the target model\n",
        "            resized_adv_images = F.interpolate(adv_images, size=resize_to, mode='bilinear', align_corners=False)\n",
        "\n",
        "            # Test adversarial examples on the target model\n",
        "            outputs = model2(resized_adv_images)\n",
        "            _, predicted = outputs.max(1)\n",
        "\n",
        "            # Count correctly classified examples\n",
        "            total += labels.size(0)\n",
        "            correct += (predicted == labels).sum().item()\n",
        "\n",
        "        # Compute transferability success rate\n",
        "        transfer_success_rate = 100.0 * (1 - correct / total)\n",
        "        print(f\"Epoch {epoch + 1}/{num_epochs}: Transferability Success Rate: {transfer_success_rate:.2f}%\")\n",
        "\n",
        "        # Update maximum transferability\n",
        "        max_transferability = max(max_transferability, transfer_success_rate)\n",
        "\n",
        "    print(f\"Maximum Transferability Success Rate: {max_transferability:.2f}%\")\n",
        "    return max_transferability"
      ],
      "metadata": {
        "id": "jLJxhiNtVno6"
      },
      "execution_count": 114,
      "outputs": []
    },
    {
      "cell_type": "code",
      "source": [
        "max_transferability_rate = test_transferability_with_filtering(\n",
        "    model1=model,  # Source model\n",
        "    model2=vit_model,  # Target model\n",
        "    adv_loader=adv_loader_FGSM,  # Adversarial examples generated by ResNet56\n",
        "    clean_loader=test_loader,  # Clean test examples\n",
        "    device=device,\n",
        "    num_epochs=1,\n",
        "    num_examples=1000,\n",
        "    resize_to=(224, 224)  # Resize for ViT-B-32\n",
        ")"
      ],
      "metadata": {
        "colab": {
          "base_uri": "https://localhost:8080/"
        },
        "id": "lRlKqs1UYCP1",
        "outputId": "d8ca537c-9c5b-4d67-c091-a3543c5c99bc"
      },
      "execution_count": 116,
      "outputs": [
        {
          "output_type": "stream",
          "name": "stderr",
          "text": [
            "/content/drive/MyDrive/ECE Final/ResNetPytorch.py:161: UserWarning: Implicit dimension choice for softmax has been deprecated. Change the call to include dim=X as an argument.\n",
            "  out = F.softmax(self.sm(out))\n"
          ]
        },
        {
          "output_type": "stream",
          "name": "stdout",
          "text": [
            "Epoch 1/1: Transferability Success Rate: 58.43%\n",
            "Maximum Transferability Success Rate: 58.43%\n"
          ]
        }
      ]
    },
    {
      "cell_type": "code",
      "source": [
        "max_transferability_rate = test_transferability_with_filtering(\n",
        "    model1=model,  # Source model\n",
        "    model2=vit_model,  # Target model\n",
        "    adv_loader=adv_loader_MIM,  # Adversarial examples generated by ResNet56\n",
        "    clean_loader=test_loader,  # Clean test examples\n",
        "    device=device,\n",
        "    num_epochs=1,\n",
        "    num_examples=1000,\n",
        "    resize_to=(224, 224)  # Resize for ViT-B-32\n",
        ")"
      ],
      "metadata": {
        "colab": {
          "base_uri": "https://localhost:8080/"
        },
        "id": "ByLeXWrDYHgh",
        "outputId": "ac258f34-370a-4dae-82ef-156a6f00b04b"
      },
      "execution_count": 117,
      "outputs": [
        {
          "output_type": "stream",
          "name": "stderr",
          "text": [
            "/content/drive/MyDrive/ECE Final/ResNetPytorch.py:161: UserWarning: Implicit dimension choice for softmax has been deprecated. Change the call to include dim=X as an argument.\n",
            "  out = F.softmax(self.sm(out))\n"
          ]
        },
        {
          "output_type": "stream",
          "name": "stdout",
          "text": [
            "Epoch 1/1: Transferability Success Rate: 58.85%\n",
            "Maximum Transferability Success Rate: 58.85%\n"
          ]
        }
      ]
    },
    {
      "cell_type": "code",
      "source": [
        "max_transferability_rate = test_transferability_with_filtering(\n",
        "    model1=model,  # Source model\n",
        "    model2=vit_model,  # Target model\n",
        "    adv_loader=adv_loader_PGD,  # Adversarial examples generated by ResNet56\n",
        "    clean_loader=test_loader,  # Clean test examples\n",
        "    device=device,\n",
        "    num_epochs=1,\n",
        "    num_examples=1000,\n",
        "    resize_to=(224, 224)  # Resize for ViT-B-32\n",
        ")"
      ],
      "metadata": {
        "colab": {
          "base_uri": "https://localhost:8080/"
        },
        "id": "KbSicIXbYLI8",
        "outputId": "412189b8-9440-4928-b416-26b090cfa518"
      },
      "execution_count": 118,
      "outputs": [
        {
          "output_type": "stream",
          "name": "stderr",
          "text": [
            "/content/drive/MyDrive/ECE Final/ResNetPytorch.py:161: UserWarning: Implicit dimension choice for softmax has been deprecated. Change the call to include dim=X as an argument.\n",
            "  out = F.softmax(self.sm(out))\n"
          ]
        },
        {
          "output_type": "stream",
          "name": "stdout",
          "text": [
            "Epoch 1/1: Transferability Success Rate: 58.34%\n",
            "Maximum Transferability Success Rate: 58.34%\n"
          ]
        }
      ]
    },
    {
      "cell_type": "code",
      "source": [
        "max_transferability_rate = test_transferability_with_filtering(\n",
        "    model1=model,  # Source model\n",
        "    model2=vit_model,  # Target model\n",
        "    adv_loader=adv_loader_APGD,  # Adversarial examples generated by ResNet56\n",
        "    clean_loader=test_loader,  # Clean test examples\n",
        "    device=device,\n",
        "    num_epochs=1,\n",
        "    num_examples=1000,\n",
        "    resize_to=(224, 224)  # Resize for ViT-B-32\n",
        ")"
      ],
      "metadata": {
        "colab": {
          "base_uri": "https://localhost:8080/"
        },
        "id": "78eQ18vXYMn_",
        "outputId": "296ba999-864b-41ac-c99d-de7c0bf450fd"
      },
      "execution_count": 119,
      "outputs": [
        {
          "output_type": "stream",
          "name": "stdout",
          "text": [
            "Epoch 1/1: Transferability Success Rate: 70.44%\n",
            "Maximum Transferability Success Rate: 70.44%\n"
          ]
        }
      ]
    },
    {
      "cell_type": "code",
      "source": [
        "# Test transferability with filtering and resizing\n",
        "max_transferability_rate = test_transferability_with_filtering(\n",
        "    model1=model,  # Source model\n",
        "    model2=vit_model,  # Target model\n",
        "    adv_loader=adv_loader_BPDA,  # Adversarial examples generated by ResNet56\n",
        "    clean_loader=test_loader,  # Clean test examples\n",
        "    device=device,\n",
        "    num_epochs=10,\n",
        "    num_examples=1000,\n",
        "    resize_to=(224, 224)  # Resize for ViT-B-32\n",
        ")"
      ],
      "metadata": {
        "colab": {
          "base_uri": "https://localhost:8080/"
        },
        "id": "_vuxT2RTVqgv",
        "outputId": "82b55a1b-f9a1-4e19-d837-fd78f4d2d5aa"
      },
      "execution_count": 115,
      "outputs": [
        {
          "output_type": "stream",
          "name": "stderr",
          "text": [
            "/content/drive/MyDrive/ECE Final/ResNetPytorch.py:161: UserWarning: Implicit dimension choice for softmax has been deprecated. Change the call to include dim=X as an argument.\n",
            "  out = F.softmax(self.sm(out))\n"
          ]
        },
        {
          "output_type": "stream",
          "name": "stdout",
          "text": [
            "Epoch 1/10: Transferability Success Rate: 59.41%\n",
            "Epoch 2/10: Transferability Success Rate: 59.41%\n",
            "Epoch 3/10: Transferability Success Rate: 59.41%\n",
            "Epoch 4/10: Transferability Success Rate: 59.41%\n",
            "Epoch 5/10: Transferability Success Rate: 59.41%\n",
            "Epoch 6/10: Transferability Success Rate: 59.41%\n",
            "Epoch 7/10: Transferability Success Rate: 59.41%\n",
            "Epoch 8/10: Transferability Success Rate: 59.41%\n",
            "Epoch 9/10: Transferability Success Rate: 59.41%\n",
            "Epoch 10/10: Transferability Success Rate: 59.41%\n",
            "Maximum Transferability Success Rate: 59.41%\n"
          ]
        }
      ]
    }
  ]
}